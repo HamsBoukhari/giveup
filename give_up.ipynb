{
  "nbformat": 4,
  "nbformat_minor": 0,
  "metadata": {
    "colab": {
      "provenance": [],
      "gpuType": "T4"
    },
    "kernelspec": {
      "name": "python3",
      "display_name": "Python 3"
    },
    "language_info": {
      "name": "python"
    },
    "accelerator": "GPU"
  },
  "cells": [
    {
      "cell_type": "code",
      "execution_count": null,
      "metadata": {
        "id": "9Q4JJWcgODk1"
      },
      "outputs": [],
      "source": [
        "import numpy as np\n",
        "import pandas as pd\n",
        "import random"
      ]
    },
    {
      "cell_type": "markdown",
      "source": [
        "**Generating samples for the Give Up Workflow**"
      ],
      "metadata": {
        "id": "wiOyJAntG7L9"
      }
    },
    {
      "cell_type": "code",
      "source": [
        "def generate_example():\n",
        "    rptid = random.randint(100,200000)\n",
        "    trdid = random.randint(20281004800, 40281004800)\n",
        "    trdtyp = random.choice([0, 1, 2, 3, 11, 15, 20, 29, 31, 45])\n",
        "    mtchid = random.randint(20281001777, 40281001777)\n",
        "    pxtyp = random.choice([2, 10])\n",
        "    lastqty = random.randint(10,100)\n",
        "    lastpx = random.choice([100, 370, 876, 250.45, 300.9, 540.698, 1050, 3590.59])\n",
        "    trdt = random.choice([\"2022-12-17\",\"2022-12-21\",\"2023-01-02\",\"2023-01-05\"])\n",
        "    bizdt = random.choice([\"2023-01-06\",\"2023-01-11\",\"2023-01-20\",\"2023-02-05\",\"2023-02-10\"])\n",
        "    t = random.choice([\"2023-02-15\",\"2023-02-21\",\"2023-03-20\",\"2023-03-30\"])\n",
        "    time1 = random.choice(['T05:17:30','T10:18:15','T12:25:13','T13:40:55'])\n",
        "    r1 = random.choice(['.100','.230','.326'])\n",
        "    r2 = random.choice(['.350','.470','.768'])\n",
        "    tz1 = random.choice(['-5:00','-6:00','-7:00'])\n",
        "    txntm= t+time1+r1+tz1\n",
        "    time2 = random.choice(['T14:30:55.600','T15:33:05.333','T17:03:12.436'])\n",
        "    snt1 = t+time1+r2+tz1\n",
        "    snt2 = t+time2+tz1\n",
        "    snt3 = t+'T00:12:55.138'+tz1\n",
        "    snt4 = t+'T00:12:55.160'+tz1\n",
        "    sym = random.choice([\"BUI\",\"ABP\",\"TMP\",'BUS'])\n",
        "    id5 = random.choice(['B','W','AS','LM','BUI','IP0','BUS'])\n",
        "    my = random.choice([\"2023-05\",\"2023-07\",\"2023-10\"])\n",
        "    mmy = my.replace('-','')\n",
        "    matdt = my+'-'+str(random.randint(1,28))\n",
        "    inptsrc = random.choice(['MA','EL','SY'])\n",
        "    clordid = random.choice(['123','134','145','146ZBT','245BTN','987NL','OrdAT','CL1234'])\n",
        "    tid = random.choice(['ABCD','D210','B509','HBPL','TL98'])\n",
        "    id2 = random.choice(['Emira-115','Ahlem-110','Karim-200','Mohamed-300','acc-AT','bl-NL','Mariem','ahmed'])\n",
        "    typ = random.randint(20,30)\n",
        "    id3 = random.choice([\"FIRMACT1\",\"AKLPM9\",\"MPLAMP6\",\"00120007\",\"Hassen\",\"Akrem\",'arij','CUSTACT6'])\n",
        "    custcpcty1 = random.randint(1,4)\n",
        "    ex = random.choice(['BTNL','SNTL','HDPL','XMGE'])\n",
        "    mult = random.choice([0.1, 0.2, 0.3, 0.4, 0.9, 1000, 2000, 5000, 300, 200, 50, 70])\n",
        "    pos1 = random.choice(['Y','N'])\n",
        "    pos3 = random.choice(['Y','N'])\n",
        "    cfi = random.choice(['FCCPXX','APYBKL','MKLPON','FCAPSX'])\n",
        "    pos2 = random.choice(['O','C'])\n",
        "    side = random.randint(1,2)\n",
        "    id261 = random.randint(1,2)\n",
        "    id262 = random.randint(1,2)\n",
        "    mlrty = random.randint(1,3)\n",
        "    alin = random.randint(0,1)\n",
        "    inpdev = random.choice(['PORTAL','EXCHANGE','API','CLEARING'])\n",
        "    id4 = random.randint(100,500)\n",
        "    id12 = random.choice(['100','200','400','A123','B115'])\n",
        "    cfi2 = random.choice(['FCCPXX','APYBKL','MKLPON','FCAPSX','FXXXXX'])\n",
        "    time3 = random.choice(['T18:35:55.700','T19:33:05.393','T22:25:13.545','T23:28:32.581'])\n",
        "    snt5 = t+time3+'+1:00'\n",
        "    idal = random.randint(1148629322613915648,3148629322613915648)\n",
        "    grpid = random.randint(14051000002,24051000002)\n",
        "    trdt2 = trdt.replace('-','')\n",
        "    alinid = str(idal)+'@'+ex+'>'+str(grpid)+'GR@'+trdt2\n",
        "    alrpid = str(idal)+'@'+ex+'&gt;'+str(grpid)+'GR@'+trdt2\n",
        "    indal = random.choice(['3fb78','4al98','36617','46518','56127','15900'])\n",
        "    txt = random.choice(['some notes','This is a note.','notes'])\n",
        "    idg = random.randint(100,200)\n",
        "    custcpcty2 = random.randint(1,4)\n",
        "    return (\n",
        "        f\"\"\"<TrdCaptRpt RptID=\"{rptid}\" TrdID=\"{trdid}\" TransTyp=\"0\" RptTyp=\"2\" TrdTyp=\"{trdtyp}\" MtchID=\"{mtchid}\" PxTyp=\"{pxtyp}\" LastQty=\"{lastqty}\" LastPx=\"{lastpx}\" TrdDt=\"{trdt}\"\n",
        " BizDt=\"{bizdt}\" TxnTm=\"{txntm}\"><Hdr SID=\"MGEX\" TID=\"{tid}\" PosDup=\"{pos1}\" PosRsnd=\"{pos3}\" Snt=\"{snt1}\"></Hdr>\n",
        "<Instrmt Sym=\"{sym}\" ID=\"{id5}\" Src=\"H\" CFI=\"{cfi}\" MMY=\"{mmy}\" MatDt=\"{matdt}\" Mult=\"{mult}\" Exch=\"{ex}\"></Instrmt><RptSide Side=\"{side}\" Ccy=\"USD\" InptSrc=\"{inptsrc}\"\n",
        " InptDev=\"{inpdev}\" CustCpcty=\"{custcpcty1}\" PosEfct=\"{pos2}\" ClOrdID=\"{clordid}\" MLegRptTyp=\"{mlrty}\" AllocInd=\"{alin}\"><Pty ID=\"MGEX\" R=\"21\"></Pty><Pty ID=\"210\" R=\"1\"></Pty><Pty ID=\"{id4}\" R=\"4\"></Pty>\n",
        "<Pty ID=\"{id2}\" R=\"24\"><Sub ID=\"{id261}\" Typ=\"26\"></Sub></Pty><Pty ID=\"{id12}\" R=\"12\"></Pty><TrdRegTS TS=\"{txntm}\" Typ=\"1\">\n",
        "</TrdRegTS></RptSide></TrdCaptRpt>\"\"\".replace('\\n', ''),\n",
        "        f\"\"\"<AllocInstrctn Qty=\"{float(lastqty)}\" BizDt=\"{bizdt}\" TrdDt=\"{trdt}\" TxnTm=\"{snt2}\" Side=\"{side}\" ID=\"{alinid}\"\n",
        "TransTyp=\"0\" Typ=\"17\" GrpID=\"{grpid}\"><Hdr Snt=\"{snt5}\" TID=\"MGEX\" SID=\"{tid}\"/><Instrmt Exch=\"{ex}\" ID=\"{id5}\" MMY=\"{mmy}\" CFI=\"{cfi2}\"/>\n",
        "<Pty ID=\"{id2}\" R=\"24\"><Sub ID=\"{id261}\" Typ=\"26\"/></Pty><Pty ID=\"210\" R=\"1\"/><Pty ID=\"XMGE\" R=\"21\"/><Alloc CustCpcty=\"{custcpcty2}\" IndAllocID=\"{indal}\" Txt=\"{txt}\" Qty=\"{float(lastqty)}\">\n",
        "<Pty ID=\"{id3}\" R=\"24\"><Sub ID=\"{id262}\" Typ=\"26\"/></Pty><Pty ID=\"{idg}\" R=\"1\"/><Pty ID=\"XMGE\" R=\"21\"/></Alloc></AllocInstrctn>\"\"\".replace('\\n', ''),\n",
        "\n",
        "        f\"\"\"<AllocRpt RptID=\"280201\" ID=\"{alrpid}\" TransTyp=\"0\" GrpID=\"{grpid}\" RptTyp=\"15\" Stat=\"6\" BizDt=\"{bizdt}\" TrdTyp=\"{trdtyp}\"\n",
        " CustCpcty=\"{custcpcty1}\" AvgPxInd=\"0\" Side=\"2\" PxTyp=\"2\" AvgPx=\"{lastpx}\" TrdDt=\"{trdt}\" TxnTm=\"{snt3}\"><Hdr SID=\"MGEX\" TID=\"{tid}\" PosDup=\"{pos1}\" PosRsnd=\"{pos3}\"\n",
        " Snt=\"{snt4}\"></Hdr><OrdAlloc ClOrdID=\"{clordid}\"></OrdAlloc><Instrmt ID=\"{id5}\" CFI=\"{cfi}\" MMY=\"{mmy}\" MatDt=\"{matdt}\" Exch=\"{ex}\"></Instrmt>\n",
        "<Pty ID=\"MGEX\" R=\"21\"></Pty><Pty ID=\"210\" R=\"1\"></Pty><Pty ID=\"210\" R=\"4\"></Pty><Pty ID=\"{id2}\" R=\"24\"><Sub ID=\"{id261}\" Typ=\"26\"></Sub></Pty><Alloc Qty=\"{float(lastqty)}\"\n",
        "IndAllocID=\"{indal}\" IndAllocID2=\"14051000005\" CustCpcty=\"{custcpcty2}\" Txt=\"{txt}\"><Pty ID=\"MGEX\" R=\"21\"></Pty><Pty ID=\"{idg}\" R=\"1\"></Pty><Pty ID=\"{idg}\" R=\"4\"></Pty><Pty\n",
        " ID=\"{id3}\" R=\"24\"><Sub ID=\"{id262}\" Typ=\"26\"></Sub></Pty></Alloc></AllocRpt>\"\"\".replace('\\n', '')\n",
        "    )"
      ],
      "metadata": {
        "id": "A4nHnwOnOVC3"
      },
      "execution_count": null,
      "outputs": []
    },
    {
      "cell_type": "code",
      "source": [
        "dataset = [generate_example() for _ in range(1000)]"
      ],
      "metadata": {
        "id": "OwtrYSTh_iP1"
      },
      "execution_count": null,
      "outputs": []
    },
    {
      "cell_type": "code",
      "source": [
        "dataset[0][0]"
      ],
      "metadata": {
        "colab": {
          "base_uri": "https://localhost:8080/",
          "height": 105
        },
        "id": "Jg5BdIlc_ywk",
        "outputId": "bd8c3f24-7fb3-4263-9fb4-540d1735d40e"
      },
      "execution_count": null,
      "outputs": [
        {
          "output_type": "execute_result",
          "data": {
            "text/plain": [
              "'<TrdCaptRpt RptID=\"55358\" TrdID=\"32861199879\" TransTyp=\"0\" RptTyp=\"2\" TrdTyp=\"20\" MtchID=\"21983195132\" PxTyp=\"2\" LastQty=\"80\" LastPx=\"100\" TrdDt=\"2022-12-21\" BizDt=\"2023-01-11\" TxnTm=\"2023-02-21T05:17:30.230-5:00\"><Hdr SID=\"MGEX\" TID=\"D210\" PosDup=\"N\" PosRsnd=\"Y\" Snt=\"2023-02-21T05:17:30.768-5:00\"></Hdr><Instrmt Sym=\"TMP\" ID=\"B\" Src=\"H\" CFI=\"MKLPON\" MMY=\"202310\" MatDt=\"2023-10-8\" Mult=\"0.1\" Exch=\"BTNL\"></Instrmt><RptSide Side=\"1\" Ccy=\"USD\" InptSrc=\"MA\" InptDev=\"PORTAL\" CustCpcty=\"4\" PosEfct=\"C\" ClOrdID=\"123\" MLegRptTyp=\"1\" AllocInd=\"1\"><Pty ID=\"MGEX\" R=\"21\"></Pty><Pty ID=\"210\" R=\"1\"></Pty><Pty ID=\"462\" R=\"4\"></Pty><Pty ID=\"bl-NL\" R=\"24\"><Sub ID=\"1\" Typ=\"26\"></Sub></Pty><Pty ID=\"400\" R=\"12\"></Pty><TrdRegTS TS=\"2023-02-21T05:17:30.230-5:00\" Typ=\"1\"></TrdRegTS></RptSide></TrdCaptRpt>'"
            ],
            "application/vnd.google.colaboratory.intrinsic+json": {
              "type": "string"
            }
          },
          "metadata": {},
          "execution_count": 98
        }
      ]
    },
    {
      "cell_type": "code",
      "source": [
        "dataset[0][1]"
      ],
      "metadata": {
        "colab": {
          "base_uri": "https://localhost:8080/",
          "height": 88
        },
        "id": "X3xGTZ6w_1IU",
        "outputId": "dee98dd1-a36f-4056-ec48-549c7948d60b"
      },
      "execution_count": null,
      "outputs": [
        {
          "output_type": "execute_result",
          "data": {
            "text/plain": [
              "'<AllocInstrctn Qty=\"80.0\" BizDt=\"2023-01-11\" TrdDt=\"2022-12-21\" TxnTm=\"2023-02-21T15:33:05.333-5:00\" Side=\"1\" ID=\"1228472040614781036@BTNL>20038313606GR@20221221\" TransTyp=\"0\" Typ=\"17\" GrpID=\"20038313606\"><Hdr Snt=\"2023-02-21T19:33:05.393+1:00\" TID=\"MGEX\" SID=\"D210\"/><Instrmt Exch=\"BTNL\" ID=\"B\" MMY=\"202310\" CFI=\"MKLPON\"/><Pty ID=\"bl-NL\" R=\"24\"><Sub ID=\"1\" Typ=\"26\"/></Pty><Pty ID=\"210\" R=\"1\"/><Pty ID=\"XMGE\" R=\"21\"/><Alloc CustCpcty=\"3\" IndAllocID=\"4al98\" Txt=\"some notes\" Qty=\"80.0\"><Pty ID=\"CUSTACT6\" R=\"24\"><Sub ID=\"2\" Typ=\"26\"/></Pty><Pty ID=\"106\" R=\"1\"/><Pty ID=\"XMGE\" R=\"21\"/></Alloc></AllocInstrctn>'"
            ],
            "application/vnd.google.colaboratory.intrinsic+json": {
              "type": "string"
            }
          },
          "metadata": {},
          "execution_count": 99
        }
      ]
    },
    {
      "cell_type": "code",
      "source": [
        "dataset[0][2]"
      ],
      "metadata": {
        "colab": {
          "base_uri": "https://localhost:8080/",
          "height": 105
        },
        "id": "dSF0otY6_3cM",
        "outputId": "7eaa815f-b5cf-4e7b-abce-b180f27d8751"
      },
      "execution_count": null,
      "outputs": [
        {
          "output_type": "execute_result",
          "data": {
            "text/plain": [
              "'<AllocRpt RptID=\"280201\" ID=\"1228472040614781036@BTNL&gt;20038313606GR@20221221\" TransTyp=\"0\" GrpID=\"20038313606\" RptTyp=\"15\" Stat=\"6\" BizDt=\"2023-01-11\" TrdTyp=\"20\" CustCpcty=\"4\" AvgPxInd=\"0\" Side=\"2\" PxTyp=\"2\" AvgPx=\"100\" TrdDt=\"2022-12-21\" TxnTm=\"2023-02-21T00:12:55.138-5:00\"><Hdr SID=\"MGEX\" TID=\"D210\" PosDup=\"N\" PosRsnd=\"Y\" Snt=\"2023-02-21T00:12:55.160-5:00\"></Hdr><OrdAlloc ClOrdID=\"123\"></OrdAlloc><Instrmt ID=\"B\" CFI=\"MKLPON\" MMY=\"202310\" MatDt=\"2023-10-8\" Exch=\"BTNL\"></Instrmt><Pty ID=\"MGEX\" R=\"21\"></Pty><Pty ID=\"210\" R=\"1\"></Pty><Pty ID=\"210\" R=\"4\"></Pty><Pty ID=\"bl-NL\" R=\"24\"><Sub ID=\"1\" Typ=\"26\"></Sub></Pty><Alloc Qty=\"80.0\" IndAllocID=\"4al98\" IndAllocID2=\"14051000005\" CustCpcty=\"3\" Txt=\"some notes\"><Pty ID=\"MGEX\" R=\"21\"></Pty><Pty ID=\"106\" R=\"1\"></Pty><Pty ID=\"106\" R=\"4\"></Pty><Pty ID=\"CUSTACT6\" R=\"24\"><Sub ID=\"2\" Typ=\"26\"></Sub></Pty></Alloc></AllocRpt>'"
            ],
            "application/vnd.google.colaboratory.intrinsic+json": {
              "type": "string"
            }
          },
          "metadata": {},
          "execution_count": 100
        }
      ]
    },
    {
      "cell_type": "markdown",
      "source": [
        "**Creating a DataFrame with the generated samples**"
      ],
      "metadata": {
        "id": "oTRStlHLHJtP"
      }
    },
    {
      "cell_type": "code",
      "source": [
        "column1_data = [example[0] for example in dataset]\n",
        "column2_data = [example[1] for example in dataset]\n",
        "column3_data = [example[2] for example in dataset]\n",
        "\n",
        "df = pd.DataFrame({\n",
        "    'Trade_message': column1_data,\n",
        "    'SGW_Operation': column2_data,\n",
        "    'CCP_Message': column3_data\n",
        "})\n",
        "\n",
        "df.head()"
      ],
      "metadata": {
        "colab": {
          "base_uri": "https://localhost:8080/",
          "height": 206
        },
        "id": "_16UReGsBrLf",
        "outputId": "69d63699-3981-4517-ba23-9f4c4ffc8432"
      },
      "execution_count": null,
      "outputs": [
        {
          "output_type": "execute_result",
          "data": {
            "text/plain": [
              "                                       Trade_message  \\\n",
              "0  <TrdCaptRpt RptID=\"55358\" TrdID=\"32861199879\" ...   \n",
              "1  <TrdCaptRpt RptID=\"4682\" TrdID=\"35318659463\" T...   \n",
              "2  <TrdCaptRpt RptID=\"84652\" TrdID=\"29988339415\" ...   \n",
              "3  <TrdCaptRpt RptID=\"1954\" TrdID=\"28103844021\" T...   \n",
              "4  <TrdCaptRpt RptID=\"165869\" TrdID=\"25872245128\"...   \n",
              "\n",
              "                                       SGW_Operation  \\\n",
              "0  <AllocInstrctn Qty=\"80.0\" BizDt=\"2023-01-11\" T...   \n",
              "1  <AllocInstrctn Qty=\"75.0\" BizDt=\"2023-01-11\" T...   \n",
              "2  <AllocInstrctn Qty=\"10.0\" BizDt=\"2023-01-06\" T...   \n",
              "3  <AllocInstrctn Qty=\"49.0\" BizDt=\"2023-02-05\" T...   \n",
              "4  <AllocInstrctn Qty=\"80.0\" BizDt=\"2023-02-10\" T...   \n",
              "\n",
              "                                         CCP_Message  \n",
              "0  <AllocRpt RptID=\"280201\" ID=\"12284720406147810...  \n",
              "1  <AllocRpt RptID=\"280201\" ID=\"24377961690289350...  \n",
              "2  <AllocRpt RptID=\"280201\" ID=\"26076103164846849...  \n",
              "3  <AllocRpt RptID=\"280201\" ID=\"19464235208152197...  \n",
              "4  <AllocRpt RptID=\"280201\" ID=\"12694049933053441...  "
            ],
            "text/html": [
              "\n",
              "  <div id=\"df-042ce328-8c73-406e-992e-1add47ca6140\" class=\"colab-df-container\">\n",
              "    <div>\n",
              "<style scoped>\n",
              "    .dataframe tbody tr th:only-of-type {\n",
              "        vertical-align: middle;\n",
              "    }\n",
              "\n",
              "    .dataframe tbody tr th {\n",
              "        vertical-align: top;\n",
              "    }\n",
              "\n",
              "    .dataframe thead th {\n",
              "        text-align: right;\n",
              "    }\n",
              "</style>\n",
              "<table border=\"1\" class=\"dataframe\">\n",
              "  <thead>\n",
              "    <tr style=\"text-align: right;\">\n",
              "      <th></th>\n",
              "      <th>Trade_message</th>\n",
              "      <th>SGW_Operation</th>\n",
              "      <th>CCP_Message</th>\n",
              "    </tr>\n",
              "  </thead>\n",
              "  <tbody>\n",
              "    <tr>\n",
              "      <th>0</th>\n",
              "      <td>&lt;TrdCaptRpt RptID=\"55358\" TrdID=\"32861199879\" ...</td>\n",
              "      <td>&lt;AllocInstrctn Qty=\"80.0\" BizDt=\"2023-01-11\" T...</td>\n",
              "      <td>&lt;AllocRpt RptID=\"280201\" ID=\"12284720406147810...</td>\n",
              "    </tr>\n",
              "    <tr>\n",
              "      <th>1</th>\n",
              "      <td>&lt;TrdCaptRpt RptID=\"4682\" TrdID=\"35318659463\" T...</td>\n",
              "      <td>&lt;AllocInstrctn Qty=\"75.0\" BizDt=\"2023-01-11\" T...</td>\n",
              "      <td>&lt;AllocRpt RptID=\"280201\" ID=\"24377961690289350...</td>\n",
              "    </tr>\n",
              "    <tr>\n",
              "      <th>2</th>\n",
              "      <td>&lt;TrdCaptRpt RptID=\"84652\" TrdID=\"29988339415\" ...</td>\n",
              "      <td>&lt;AllocInstrctn Qty=\"10.0\" BizDt=\"2023-01-06\" T...</td>\n",
              "      <td>&lt;AllocRpt RptID=\"280201\" ID=\"26076103164846849...</td>\n",
              "    </tr>\n",
              "    <tr>\n",
              "      <th>3</th>\n",
              "      <td>&lt;TrdCaptRpt RptID=\"1954\" TrdID=\"28103844021\" T...</td>\n",
              "      <td>&lt;AllocInstrctn Qty=\"49.0\" BizDt=\"2023-02-05\" T...</td>\n",
              "      <td>&lt;AllocRpt RptID=\"280201\" ID=\"19464235208152197...</td>\n",
              "    </tr>\n",
              "    <tr>\n",
              "      <th>4</th>\n",
              "      <td>&lt;TrdCaptRpt RptID=\"165869\" TrdID=\"25872245128\"...</td>\n",
              "      <td>&lt;AllocInstrctn Qty=\"80.0\" BizDt=\"2023-02-10\" T...</td>\n",
              "      <td>&lt;AllocRpt RptID=\"280201\" ID=\"12694049933053441...</td>\n",
              "    </tr>\n",
              "  </tbody>\n",
              "</table>\n",
              "</div>\n",
              "    <div class=\"colab-df-buttons\">\n",
              "\n",
              "  <div class=\"colab-df-container\">\n",
              "    <button class=\"colab-df-convert\" onclick=\"convertToInteractive('df-042ce328-8c73-406e-992e-1add47ca6140')\"\n",
              "            title=\"Convert this dataframe to an interactive table.\"\n",
              "            style=\"display:none;\">\n",
              "\n",
              "  <svg xmlns=\"http://www.w3.org/2000/svg\" height=\"24px\" viewBox=\"0 -960 960 960\">\n",
              "    <path d=\"M120-120v-720h720v720H120Zm60-500h600v-160H180v160Zm220 220h160v-160H400v160Zm0 220h160v-160H400v160ZM180-400h160v-160H180v160Zm440 0h160v-160H620v160ZM180-180h160v-160H180v160Zm440 0h160v-160H620v160Z\"/>\n",
              "  </svg>\n",
              "    </button>\n",
              "\n",
              "  <style>\n",
              "    .colab-df-container {\n",
              "      display:flex;\n",
              "      gap: 12px;\n",
              "    }\n",
              "\n",
              "    .colab-df-convert {\n",
              "      background-color: #E8F0FE;\n",
              "      border: none;\n",
              "      border-radius: 50%;\n",
              "      cursor: pointer;\n",
              "      display: none;\n",
              "      fill: #1967D2;\n",
              "      height: 32px;\n",
              "      padding: 0 0 0 0;\n",
              "      width: 32px;\n",
              "    }\n",
              "\n",
              "    .colab-df-convert:hover {\n",
              "      background-color: #E2EBFA;\n",
              "      box-shadow: 0px 1px 2px rgba(60, 64, 67, 0.3), 0px 1px 3px 1px rgba(60, 64, 67, 0.15);\n",
              "      fill: #174EA6;\n",
              "    }\n",
              "\n",
              "    .colab-df-buttons div {\n",
              "      margin-bottom: 4px;\n",
              "    }\n",
              "\n",
              "    [theme=dark] .colab-df-convert {\n",
              "      background-color: #3B4455;\n",
              "      fill: #D2E3FC;\n",
              "    }\n",
              "\n",
              "    [theme=dark] .colab-df-convert:hover {\n",
              "      background-color: #434B5C;\n",
              "      box-shadow: 0px 1px 3px 1px rgba(0, 0, 0, 0.15);\n",
              "      filter: drop-shadow(0px 1px 2px rgba(0, 0, 0, 0.3));\n",
              "      fill: #FFFFFF;\n",
              "    }\n",
              "  </style>\n",
              "\n",
              "    <script>\n",
              "      const buttonEl =\n",
              "        document.querySelector('#df-042ce328-8c73-406e-992e-1add47ca6140 button.colab-df-convert');\n",
              "      buttonEl.style.display =\n",
              "        google.colab.kernel.accessAllowed ? 'block' : 'none';\n",
              "\n",
              "      async function convertToInteractive(key) {\n",
              "        const element = document.querySelector('#df-042ce328-8c73-406e-992e-1add47ca6140');\n",
              "        const dataTable =\n",
              "          await google.colab.kernel.invokeFunction('convertToInteractive',\n",
              "                                                    [key], {});\n",
              "        if (!dataTable) return;\n",
              "\n",
              "        const docLinkHtml = 'Like what you see? Visit the ' +\n",
              "          '<a target=\"_blank\" href=https://colab.research.google.com/notebooks/data_table.ipynb>data table notebook</a>'\n",
              "          + ' to learn more about interactive tables.';\n",
              "        element.innerHTML = '';\n",
              "        dataTable['output_type'] = 'display_data';\n",
              "        await google.colab.output.renderOutput(dataTable, element);\n",
              "        const docLink = document.createElement('div');\n",
              "        docLink.innerHTML = docLinkHtml;\n",
              "        element.appendChild(docLink);\n",
              "      }\n",
              "    </script>\n",
              "  </div>\n",
              "\n",
              "\n",
              "<div id=\"df-2bf13922-8b0d-43b2-8d90-06f2e2bc93b5\">\n",
              "  <button class=\"colab-df-quickchart\" onclick=\"quickchart('df-2bf13922-8b0d-43b2-8d90-06f2e2bc93b5')\"\n",
              "            title=\"Suggest charts\"\n",
              "            style=\"display:none;\">\n",
              "\n",
              "<svg xmlns=\"http://www.w3.org/2000/svg\" height=\"24px\"viewBox=\"0 0 24 24\"\n",
              "     width=\"24px\">\n",
              "    <g>\n",
              "        <path d=\"M19 3H5c-1.1 0-2 .9-2 2v14c0 1.1.9 2 2 2h14c1.1 0 2-.9 2-2V5c0-1.1-.9-2-2-2zM9 17H7v-7h2v7zm4 0h-2V7h2v10zm4 0h-2v-4h2v4z\"/>\n",
              "    </g>\n",
              "</svg>\n",
              "  </button>\n",
              "\n",
              "<style>\n",
              "  .colab-df-quickchart {\n",
              "      --bg-color: #E8F0FE;\n",
              "      --fill-color: #1967D2;\n",
              "      --hover-bg-color: #E2EBFA;\n",
              "      --hover-fill-color: #174EA6;\n",
              "      --disabled-fill-color: #AAA;\n",
              "      --disabled-bg-color: #DDD;\n",
              "  }\n",
              "\n",
              "  [theme=dark] .colab-df-quickchart {\n",
              "      --bg-color: #3B4455;\n",
              "      --fill-color: #D2E3FC;\n",
              "      --hover-bg-color: #434B5C;\n",
              "      --hover-fill-color: #FFFFFF;\n",
              "      --disabled-bg-color: #3B4455;\n",
              "      --disabled-fill-color: #666;\n",
              "  }\n",
              "\n",
              "  .colab-df-quickchart {\n",
              "    background-color: var(--bg-color);\n",
              "    border: none;\n",
              "    border-radius: 50%;\n",
              "    cursor: pointer;\n",
              "    display: none;\n",
              "    fill: var(--fill-color);\n",
              "    height: 32px;\n",
              "    padding: 0;\n",
              "    width: 32px;\n",
              "  }\n",
              "\n",
              "  .colab-df-quickchart:hover {\n",
              "    background-color: var(--hover-bg-color);\n",
              "    box-shadow: 0 1px 2px rgba(60, 64, 67, 0.3), 0 1px 3px 1px rgba(60, 64, 67, 0.15);\n",
              "    fill: var(--button-hover-fill-color);\n",
              "  }\n",
              "\n",
              "  .colab-df-quickchart-complete:disabled,\n",
              "  .colab-df-quickchart-complete:disabled:hover {\n",
              "    background-color: var(--disabled-bg-color);\n",
              "    fill: var(--disabled-fill-color);\n",
              "    box-shadow: none;\n",
              "  }\n",
              "\n",
              "  .colab-df-spinner {\n",
              "    border: 2px solid var(--fill-color);\n",
              "    border-color: transparent;\n",
              "    border-bottom-color: var(--fill-color);\n",
              "    animation:\n",
              "      spin 1s steps(1) infinite;\n",
              "  }\n",
              "\n",
              "  @keyframes spin {\n",
              "    0% {\n",
              "      border-color: transparent;\n",
              "      border-bottom-color: var(--fill-color);\n",
              "      border-left-color: var(--fill-color);\n",
              "    }\n",
              "    20% {\n",
              "      border-color: transparent;\n",
              "      border-left-color: var(--fill-color);\n",
              "      border-top-color: var(--fill-color);\n",
              "    }\n",
              "    30% {\n",
              "      border-color: transparent;\n",
              "      border-left-color: var(--fill-color);\n",
              "      border-top-color: var(--fill-color);\n",
              "      border-right-color: var(--fill-color);\n",
              "    }\n",
              "    40% {\n",
              "      border-color: transparent;\n",
              "      border-right-color: var(--fill-color);\n",
              "      border-top-color: var(--fill-color);\n",
              "    }\n",
              "    60% {\n",
              "      border-color: transparent;\n",
              "      border-right-color: var(--fill-color);\n",
              "    }\n",
              "    80% {\n",
              "      border-color: transparent;\n",
              "      border-right-color: var(--fill-color);\n",
              "      border-bottom-color: var(--fill-color);\n",
              "    }\n",
              "    90% {\n",
              "      border-color: transparent;\n",
              "      border-bottom-color: var(--fill-color);\n",
              "    }\n",
              "  }\n",
              "</style>\n",
              "\n",
              "  <script>\n",
              "    async function quickchart(key) {\n",
              "      const quickchartButtonEl =\n",
              "        document.querySelector('#' + key + ' button');\n",
              "      quickchartButtonEl.disabled = true;  // To prevent multiple clicks.\n",
              "      quickchartButtonEl.classList.add('colab-df-spinner');\n",
              "      try {\n",
              "        const charts = await google.colab.kernel.invokeFunction(\n",
              "            'suggestCharts', [key], {});\n",
              "      } catch (error) {\n",
              "        console.error('Error during call to suggestCharts:', error);\n",
              "      }\n",
              "      quickchartButtonEl.classList.remove('colab-df-spinner');\n",
              "      quickchartButtonEl.classList.add('colab-df-quickchart-complete');\n",
              "    }\n",
              "    (() => {\n",
              "      let quickchartButtonEl =\n",
              "        document.querySelector('#df-2bf13922-8b0d-43b2-8d90-06f2e2bc93b5 button');\n",
              "      quickchartButtonEl.style.display =\n",
              "        google.colab.kernel.accessAllowed ? 'block' : 'none';\n",
              "    })();\n",
              "  </script>\n",
              "</div>\n",
              "\n",
              "    </div>\n",
              "  </div>\n"
            ],
            "application/vnd.google.colaboratory.intrinsic+json": {
              "type": "dataframe",
              "variable_name": "df",
              "summary": "{\n  \"name\": \"df\",\n  \"rows\": 1000,\n  \"fields\": [\n    {\n      \"column\": \"Trade_message\",\n      \"properties\": {\n        \"dtype\": \"string\",\n        \"num_unique_values\": 1000,\n        \"samples\": [\n          \"<TrdCaptRpt RptID=\\\"191960\\\" TrdID=\\\"32970704462\\\" TransTyp=\\\"0\\\" RptTyp=\\\"2\\\" TrdTyp=\\\"1\\\" MtchID=\\\"30676726771\\\" PxTyp=\\\"2\\\" LastQty=\\\"12\\\" LastPx=\\\"100\\\" TrdDt=\\\"2023-01-02\\\" BizDt=\\\"2023-01-20\\\" TxnTm=\\\"2023-02-21T05:17:30.230-6:00\\\"><Hdr SID=\\\"MGEX\\\" TID=\\\"B509\\\" PosDup=\\\"N\\\" PosRsnd=\\\"Y\\\" Snt=\\\"2023-02-21T05:17:30.470-6:00\\\"></Hdr><Instrmt Sym=\\\"BUI\\\" ID=\\\"LM\\\" Src=\\\"H\\\" CFI=\\\"MKLPON\\\" MMY=\\\"202307\\\" MatDt=\\\"2023-07-26\\\" Mult=\\\"0.3\\\" Exch=\\\"HDPL\\\"></Instrmt><RptSide Side=\\\"1\\\" Ccy=\\\"USD\\\" InptSrc=\\\"SY\\\" InptDev=\\\"API\\\" CustCpcty=\\\"2\\\" PosEfct=\\\"C\\\" ClOrdID=\\\"123\\\" MLegRptTyp=\\\"1\\\" AllocInd=\\\"0\\\"><Pty ID=\\\"MGEX\\\" R=\\\"21\\\"></Pty><Pty ID=\\\"210\\\" R=\\\"1\\\"></Pty><Pty ID=\\\"218\\\" R=\\\"4\\\"></Pty><Pty ID=\\\"Emira-115\\\" R=\\\"24\\\"><Sub ID=\\\"1\\\" Typ=\\\"26\\\"></Sub></Pty><Pty ID=\\\"100\\\" R=\\\"12\\\"></Pty><TrdRegTS TS=\\\"2023-02-21T05:17:30.230-6:00\\\" Typ=\\\"1\\\"></TrdRegTS></RptSide></TrdCaptRpt>\",\n          \"<TrdCaptRpt RptID=\\\"85918\\\" TrdID=\\\"23014216351\\\" TransTyp=\\\"0\\\" RptTyp=\\\"2\\\" TrdTyp=\\\"20\\\" MtchID=\\\"26445948990\\\" PxTyp=\\\"2\\\" LastQty=\\\"48\\\" LastPx=\\\"250.45\\\" TrdDt=\\\"2022-12-21\\\" BizDt=\\\"2023-01-06\\\" TxnTm=\\\"2023-02-21T13:40:55.100-7:00\\\"><Hdr SID=\\\"MGEX\\\" TID=\\\"TL98\\\" PosDup=\\\"N\\\" PosRsnd=\\\"Y\\\" Snt=\\\"2023-02-21T13:40:55.350-7:00\\\"></Hdr><Instrmt Sym=\\\"ABP\\\" ID=\\\"B\\\" Src=\\\"H\\\" CFI=\\\"APYBKL\\\" MMY=\\\"202310\\\" MatDt=\\\"2023-10-1\\\" Mult=\\\"0.3\\\" Exch=\\\"HDPL\\\"></Instrmt><RptSide Side=\\\"1\\\" Ccy=\\\"USD\\\" InptSrc=\\\"SY\\\" InptDev=\\\"API\\\" CustCpcty=\\\"2\\\" PosEfct=\\\"C\\\" ClOrdID=\\\"245BTN\\\" MLegRptTyp=\\\"1\\\" AllocInd=\\\"1\\\"><Pty ID=\\\"MGEX\\\" R=\\\"21\\\"></Pty><Pty ID=\\\"210\\\" R=\\\"1\\\"></Pty><Pty ID=\\\"274\\\" R=\\\"4\\\"></Pty><Pty ID=\\\"ahmed\\\" R=\\\"24\\\"><Sub ID=\\\"1\\\" Typ=\\\"26\\\"></Sub></Pty><Pty ID=\\\"200\\\" R=\\\"12\\\"></Pty><TrdRegTS TS=\\\"2023-02-21T13:40:55.100-7:00\\\" Typ=\\\"1\\\"></TrdRegTS></RptSide></TrdCaptRpt>\",\n          \"<TrdCaptRpt RptID=\\\"8623\\\" TrdID=\\\"37555202419\\\" TransTyp=\\\"0\\\" RptTyp=\\\"2\\\" TrdTyp=\\\"1\\\" MtchID=\\\"25677354122\\\" PxTyp=\\\"2\\\" LastQty=\\\"49\\\" LastPx=\\\"370\\\" TrdDt=\\\"2023-01-05\\\" BizDt=\\\"2023-02-05\\\" TxnTm=\\\"2023-02-15T12:25:13.230-7:00\\\"><Hdr SID=\\\"MGEX\\\" TID=\\\"D210\\\" PosDup=\\\"Y\\\" PosRsnd=\\\"N\\\" Snt=\\\"2023-02-15T12:25:13.768-7:00\\\"></Hdr><Instrmt Sym=\\\"BUI\\\" ID=\\\"BUS\\\" Src=\\\"H\\\" CFI=\\\"APYBKL\\\" MMY=\\\"202305\\\" MatDt=\\\"2023-05-16\\\" Mult=\\\"0.4\\\" Exch=\\\"SNTL\\\"></Instrmt><RptSide Side=\\\"2\\\" Ccy=\\\"USD\\\" InptSrc=\\\"EL\\\" InptDev=\\\"PORTAL\\\" CustCpcty=\\\"3\\\" PosEfct=\\\"C\\\" ClOrdID=\\\"145\\\" MLegRptTyp=\\\"2\\\" AllocInd=\\\"1\\\"><Pty ID=\\\"MGEX\\\" R=\\\"21\\\"></Pty><Pty ID=\\\"210\\\" R=\\\"1\\\"></Pty><Pty ID=\\\"262\\\" R=\\\"4\\\"></Pty><Pty ID=\\\"Emira-115\\\" R=\\\"24\\\"><Sub ID=\\\"1\\\" Typ=\\\"26\\\"></Sub></Pty><Pty ID=\\\"A123\\\" R=\\\"12\\\"></Pty><TrdRegTS TS=\\\"2023-02-15T12:25:13.230-7:00\\\" Typ=\\\"1\\\"></TrdRegTS></RptSide></TrdCaptRpt>\"\n        ],\n        \"semantic_type\": \"\",\n        \"description\": \"\"\n      }\n    },\n    {\n      \"column\": \"SGW_Operation\",\n      \"properties\": {\n        \"dtype\": \"string\",\n        \"num_unique_values\": 1000,\n        \"samples\": [\n          \"<AllocInstrctn Qty=\\\"12.0\\\" BizDt=\\\"2023-01-20\\\" TrdDt=\\\"2023-01-02\\\" TxnTm=\\\"2023-02-21T14:30:55.600-6:00\\\" Side=\\\"1\\\" ID=\\\"1445202794059462080@HDPL>17323070172GR@20230102\\\" TransTyp=\\\"0\\\" Typ=\\\"17\\\" GrpID=\\\"17323070172\\\"><Hdr Snt=\\\"2023-02-21T19:33:05.393+1:00\\\" TID=\\\"MGEX\\\" SID=\\\"B509\\\"/><Instrmt Exch=\\\"HDPL\\\" ID=\\\"LM\\\" MMY=\\\"202307\\\" CFI=\\\"APYBKL\\\"/><Pty ID=\\\"Emira-115\\\" R=\\\"24\\\"><Sub ID=\\\"1\\\" Typ=\\\"26\\\"/></Pty><Pty ID=\\\"210\\\" R=\\\"1\\\"/><Pty ID=\\\"XMGE\\\" R=\\\"21\\\"/><Alloc CustCpcty=\\\"4\\\" IndAllocID=\\\"4al98\\\" Txt=\\\"This is a note.\\\" Qty=\\\"12.0\\\"><Pty ID=\\\"CUSTACT6\\\" R=\\\"24\\\"><Sub ID=\\\"2\\\" Typ=\\\"26\\\"/></Pty><Pty ID=\\\"162\\\" R=\\\"1\\\"/><Pty ID=\\\"XMGE\\\" R=\\\"21\\\"/></Alloc></AllocInstrctn>\",\n          \"<AllocInstrctn Qty=\\\"48.0\\\" BizDt=\\\"2023-01-06\\\" TrdDt=\\\"2022-12-21\\\" TxnTm=\\\"2023-02-21T17:03:12.436-7:00\\\" Side=\\\"1\\\" ID=\\\"1982727660015544060@HDPL>22602077771GR@20221221\\\" TransTyp=\\\"0\\\" Typ=\\\"17\\\" GrpID=\\\"22602077771\\\"><Hdr Snt=\\\"2023-02-21T23:28:32.581+1:00\\\" TID=\\\"MGEX\\\" SID=\\\"TL98\\\"/><Instrmt Exch=\\\"HDPL\\\" ID=\\\"B\\\" MMY=\\\"202310\\\" CFI=\\\"FCCPXX\\\"/><Pty ID=\\\"ahmed\\\" R=\\\"24\\\"><Sub ID=\\\"1\\\" Typ=\\\"26\\\"/></Pty><Pty ID=\\\"210\\\" R=\\\"1\\\"/><Pty ID=\\\"XMGE\\\" R=\\\"21\\\"/><Alloc CustCpcty=\\\"4\\\" IndAllocID=\\\"36617\\\" Txt=\\\"notes\\\" Qty=\\\"48.0\\\"><Pty ID=\\\"Hassen\\\" R=\\\"24\\\"><Sub ID=\\\"2\\\" Typ=\\\"26\\\"/></Pty><Pty ID=\\\"128\\\" R=\\\"1\\\"/><Pty ID=\\\"XMGE\\\" R=\\\"21\\\"/></Alloc></AllocInstrctn>\",\n          \"<AllocInstrctn Qty=\\\"49.0\\\" BizDt=\\\"2023-02-05\\\" TrdDt=\\\"2023-01-05\\\" TxnTm=\\\"2023-02-15T14:30:55.600-7:00\\\" Side=\\\"2\\\" ID=\\\"2222060727408200763@SNTL>14680325659GR@20230105\\\" TransTyp=\\\"0\\\" Typ=\\\"17\\\" GrpID=\\\"14680325659\\\"><Hdr Snt=\\\"2023-02-15T22:25:13.545+1:00\\\" TID=\\\"MGEX\\\" SID=\\\"D210\\\"/><Instrmt Exch=\\\"SNTL\\\" ID=\\\"BUS\\\" MMY=\\\"202305\\\" CFI=\\\"MKLPON\\\"/><Pty ID=\\\"Emira-115\\\" R=\\\"24\\\"><Sub ID=\\\"1\\\" Typ=\\\"26\\\"/></Pty><Pty ID=\\\"210\\\" R=\\\"1\\\"/><Pty ID=\\\"XMGE\\\" R=\\\"21\\\"/><Alloc CustCpcty=\\\"4\\\" IndAllocID=\\\"36617\\\" Txt=\\\"some notes\\\" Qty=\\\"49.0\\\"><Pty ID=\\\"00120007\\\" R=\\\"24\\\"><Sub ID=\\\"2\\\" Typ=\\\"26\\\"/></Pty><Pty ID=\\\"100\\\" R=\\\"1\\\"/><Pty ID=\\\"XMGE\\\" R=\\\"21\\\"/></Alloc></AllocInstrctn>\"\n        ],\n        \"semantic_type\": \"\",\n        \"description\": \"\"\n      }\n    },\n    {\n      \"column\": \"CCP_Message\",\n      \"properties\": {\n        \"dtype\": \"string\",\n        \"num_unique_values\": 1000,\n        \"samples\": [\n          \"<AllocRpt RptID=\\\"280201\\\" ID=\\\"1445202794059462080@HDPL&gt;17323070172GR@20230102\\\" TransTyp=\\\"0\\\" GrpID=\\\"17323070172\\\" RptTyp=\\\"15\\\" Stat=\\\"6\\\" BizDt=\\\"2023-01-20\\\" TrdTyp=\\\"1\\\" CustCpcty=\\\"2\\\" AvgPxInd=\\\"0\\\" Side=\\\"2\\\" PxTyp=\\\"2\\\" AvgPx=\\\"100\\\" TrdDt=\\\"2023-01-02\\\" TxnTm=\\\"2023-02-21T00:12:55.138-6:00\\\"><Hdr SID=\\\"MGEX\\\" TID=\\\"B509\\\" PosDup=\\\"N\\\" PosRsnd=\\\"Y\\\" Snt=\\\"2023-02-21T00:12:55.160-6:00\\\"></Hdr><OrdAlloc ClOrdID=\\\"123\\\"></OrdAlloc><Instrmt ID=\\\"LM\\\" CFI=\\\"MKLPON\\\" MMY=\\\"202307\\\" MatDt=\\\"2023-07-26\\\" Exch=\\\"HDPL\\\"></Instrmt><Pty ID=\\\"MGEX\\\" R=\\\"21\\\"></Pty><Pty ID=\\\"210\\\" R=\\\"1\\\"></Pty><Pty ID=\\\"210\\\" R=\\\"4\\\"></Pty><Pty ID=\\\"Emira-115\\\" R=\\\"24\\\"><Sub ID=\\\"1\\\" Typ=\\\"26\\\"></Sub></Pty><Alloc Qty=\\\"12.0\\\" IndAllocID=\\\"4al98\\\" IndAllocID2=\\\"14051000005\\\" CustCpcty=\\\"4\\\" Txt=\\\"This is a note.\\\"><Pty ID=\\\"MGEX\\\" R=\\\"21\\\"></Pty><Pty ID=\\\"162\\\" R=\\\"1\\\"></Pty><Pty ID=\\\"162\\\" R=\\\"4\\\"></Pty><Pty ID=\\\"CUSTACT6\\\" R=\\\"24\\\"><Sub ID=\\\"2\\\" Typ=\\\"26\\\"></Sub></Pty></Alloc></AllocRpt>\",\n          \"<AllocRpt RptID=\\\"280201\\\" ID=\\\"1982727660015544060@HDPL&gt;22602077771GR@20221221\\\" TransTyp=\\\"0\\\" GrpID=\\\"22602077771\\\" RptTyp=\\\"15\\\" Stat=\\\"6\\\" BizDt=\\\"2023-01-06\\\" TrdTyp=\\\"20\\\" CustCpcty=\\\"2\\\" AvgPxInd=\\\"0\\\" Side=\\\"2\\\" PxTyp=\\\"2\\\" AvgPx=\\\"250.45\\\" TrdDt=\\\"2022-12-21\\\" TxnTm=\\\"2023-02-21T00:12:55.138-7:00\\\"><Hdr SID=\\\"MGEX\\\" TID=\\\"TL98\\\" PosDup=\\\"N\\\" PosRsnd=\\\"Y\\\" Snt=\\\"2023-02-21T00:12:55.160-7:00\\\"></Hdr><OrdAlloc ClOrdID=\\\"245BTN\\\"></OrdAlloc><Instrmt ID=\\\"B\\\" CFI=\\\"APYBKL\\\" MMY=\\\"202310\\\" MatDt=\\\"2023-10-1\\\" Exch=\\\"HDPL\\\"></Instrmt><Pty ID=\\\"MGEX\\\" R=\\\"21\\\"></Pty><Pty ID=\\\"210\\\" R=\\\"1\\\"></Pty><Pty ID=\\\"210\\\" R=\\\"4\\\"></Pty><Pty ID=\\\"ahmed\\\" R=\\\"24\\\"><Sub ID=\\\"1\\\" Typ=\\\"26\\\"></Sub></Pty><Alloc Qty=\\\"48.0\\\" IndAllocID=\\\"36617\\\" IndAllocID2=\\\"14051000005\\\" CustCpcty=\\\"4\\\" Txt=\\\"notes\\\"><Pty ID=\\\"MGEX\\\" R=\\\"21\\\"></Pty><Pty ID=\\\"128\\\" R=\\\"1\\\"></Pty><Pty ID=\\\"128\\\" R=\\\"4\\\"></Pty><Pty ID=\\\"Hassen\\\" R=\\\"24\\\"><Sub ID=\\\"2\\\" Typ=\\\"26\\\"></Sub></Pty></Alloc></AllocRpt>\",\n          \"<AllocRpt RptID=\\\"280201\\\" ID=\\\"2222060727408200763@SNTL&gt;14680325659GR@20230105\\\" TransTyp=\\\"0\\\" GrpID=\\\"14680325659\\\" RptTyp=\\\"15\\\" Stat=\\\"6\\\" BizDt=\\\"2023-02-05\\\" TrdTyp=\\\"1\\\" CustCpcty=\\\"3\\\" AvgPxInd=\\\"0\\\" Side=\\\"2\\\" PxTyp=\\\"2\\\" AvgPx=\\\"370\\\" TrdDt=\\\"2023-01-05\\\" TxnTm=\\\"2023-02-15T00:12:55.138-7:00\\\"><Hdr SID=\\\"MGEX\\\" TID=\\\"D210\\\" PosDup=\\\"Y\\\" PosRsnd=\\\"N\\\" Snt=\\\"2023-02-15T00:12:55.160-7:00\\\"></Hdr><OrdAlloc ClOrdID=\\\"145\\\"></OrdAlloc><Instrmt ID=\\\"BUS\\\" CFI=\\\"APYBKL\\\" MMY=\\\"202305\\\" MatDt=\\\"2023-05-16\\\" Exch=\\\"SNTL\\\"></Instrmt><Pty ID=\\\"MGEX\\\" R=\\\"21\\\"></Pty><Pty ID=\\\"210\\\" R=\\\"1\\\"></Pty><Pty ID=\\\"210\\\" R=\\\"4\\\"></Pty><Pty ID=\\\"Emira-115\\\" R=\\\"24\\\"><Sub ID=\\\"1\\\" Typ=\\\"26\\\"></Sub></Pty><Alloc Qty=\\\"49.0\\\" IndAllocID=\\\"36617\\\" IndAllocID2=\\\"14051000005\\\" CustCpcty=\\\"4\\\" Txt=\\\"some notes\\\"><Pty ID=\\\"MGEX\\\" R=\\\"21\\\"></Pty><Pty ID=\\\"100\\\" R=\\\"1\\\"></Pty><Pty ID=\\\"100\\\" R=\\\"4\\\"></Pty><Pty ID=\\\"00120007\\\" R=\\\"24\\\"><Sub ID=\\\"2\\\" Typ=\\\"26\\\"></Sub></Pty></Alloc></AllocRpt>\"\n        ],\n        \"semantic_type\": \"\",\n        \"description\": \"\"\n      }\n    }\n  ]\n}"
            }
          },
          "metadata": {},
          "execution_count": 101
        }
      ]
    },
    {
      "cell_type": "markdown",
      "source": [
        "**Extracting Relevant Information from SGW_Operation**"
      ],
      "metadata": {
        "id": "geUxGynFHP2M"
      }
    },
    {
      "cell_type": "code",
      "source": [
        "df0 = df.copy()"
      ],
      "metadata": {
        "id": "LSONKHrUOuc5"
      },
      "execution_count": null,
      "outputs": []
    },
    {
      "cell_type": "code",
      "source": [
        "import xml.etree.ElementTree as ET"
      ],
      "metadata": {
        "id": "GI_EsnDgQGAR"
      },
      "execution_count": null,
      "outputs": []
    },
    {
      "cell_type": "code",
      "source": [
        "def extract(xml_string):\n",
        "    root = ET.fromstring(xml_string)\n",
        "    hdr = root.find('Hdr')\n",
        "    if hdr is not None:\n",
        "        root.remove(hdr)\n",
        "    instrmt = root.find('Instrmt')\n",
        "    if instrmt is not None:\n",
        "        root.remove(instrmt)\n",
        "    pty_elements = root.findall('Pty')\n",
        "    for i in range(3):\n",
        "        if i < len(pty_elements):\n",
        "            root.remove(pty_elements[i])\n",
        "    return ET.tostring(root, encoding='utf-8', method='xml').decode()"
      ],
      "metadata": {
        "id": "V8KeNDDcOzDq"
      },
      "execution_count": null,
      "outputs": []
    },
    {
      "cell_type": "code",
      "source": [
        "df0['SGW_Operation'] = df0['SGW_Operation'].apply(extract)"
      ],
      "metadata": {
        "id": "4UZ0qDs0PVhx"
      },
      "execution_count": null,
      "outputs": []
    },
    {
      "cell_type": "code",
      "source": [
        "df0['SGW_Operation'].iloc[0]"
      ],
      "metadata": {
        "colab": {
          "base_uri": "https://localhost:8080/",
          "height": 70
        },
        "id": "om7B2n22PjKx",
        "outputId": "85724c87-1669-4b7b-e0e1-172a8b41f2fc"
      },
      "execution_count": null,
      "outputs": [
        {
          "output_type": "execute_result",
          "data": {
            "text/plain": [
              "'<AllocInstrctn Qty=\"80.0\" BizDt=\"2023-01-11\" TrdDt=\"2022-12-21\" TxnTm=\"2023-02-21T15:33:05.333-5:00\" Side=\"1\" ID=\"1228472040614781036@BTNL&gt;20038313606GR@20221221\" TransTyp=\"0\" Typ=\"17\" GrpID=\"20038313606\"><Alloc CustCpcty=\"3\" IndAllocID=\"4al98\" Txt=\"some notes\" Qty=\"80.0\"><Pty ID=\"CUSTACT6\" R=\"24\"><Sub ID=\"2\" Typ=\"26\" /></Pty><Pty ID=\"106\" R=\"1\" /><Pty ID=\"XMGE\" R=\"21\" /></Alloc></AllocInstrctn>'"
            ],
            "application/vnd.google.colaboratory.intrinsic+json": {
              "type": "string"
            }
          },
          "metadata": {},
          "execution_count": 106
        }
      ]
    },
    {
      "cell_type": "code",
      "source": [
        "df0.head()"
      ],
      "metadata": {
        "colab": {
          "base_uri": "https://localhost:8080/",
          "height": 206
        },
        "id": "GaGxJEj9csiW",
        "outputId": "8be816d0-f883-45fa-d630-01c452bf2bc6"
      },
      "execution_count": null,
      "outputs": [
        {
          "output_type": "execute_result",
          "data": {
            "text/plain": [
              "                                       Trade_message  \\\n",
              "0  <TrdCaptRpt RptID=\"55358\" TrdID=\"32861199879\" ...   \n",
              "1  <TrdCaptRpt RptID=\"4682\" TrdID=\"35318659463\" T...   \n",
              "2  <TrdCaptRpt RptID=\"84652\" TrdID=\"29988339415\" ...   \n",
              "3  <TrdCaptRpt RptID=\"1954\" TrdID=\"28103844021\" T...   \n",
              "4  <TrdCaptRpt RptID=\"165869\" TrdID=\"25872245128\"...   \n",
              "\n",
              "                                       SGW_Operation  \\\n",
              "0  <AllocInstrctn Qty=\"80.0\" BizDt=\"2023-01-11\" T...   \n",
              "1  <AllocInstrctn Qty=\"75.0\" BizDt=\"2023-01-11\" T...   \n",
              "2  <AllocInstrctn Qty=\"10.0\" BizDt=\"2023-01-06\" T...   \n",
              "3  <AllocInstrctn Qty=\"49.0\" BizDt=\"2023-02-05\" T...   \n",
              "4  <AllocInstrctn Qty=\"80.0\" BizDt=\"2023-02-10\" T...   \n",
              "\n",
              "                                         CCP_Message  \n",
              "0  <AllocRpt RptID=\"280201\" ID=\"12284720406147810...  \n",
              "1  <AllocRpt RptID=\"280201\" ID=\"24377961690289350...  \n",
              "2  <AllocRpt RptID=\"280201\" ID=\"26076103164846849...  \n",
              "3  <AllocRpt RptID=\"280201\" ID=\"19464235208152197...  \n",
              "4  <AllocRpt RptID=\"280201\" ID=\"12694049933053441...  "
            ],
            "text/html": [
              "\n",
              "  <div id=\"df-fecc7fa3-d012-4542-b040-cc19fa6f675d\" class=\"colab-df-container\">\n",
              "    <div>\n",
              "<style scoped>\n",
              "    .dataframe tbody tr th:only-of-type {\n",
              "        vertical-align: middle;\n",
              "    }\n",
              "\n",
              "    .dataframe tbody tr th {\n",
              "        vertical-align: top;\n",
              "    }\n",
              "\n",
              "    .dataframe thead th {\n",
              "        text-align: right;\n",
              "    }\n",
              "</style>\n",
              "<table border=\"1\" class=\"dataframe\">\n",
              "  <thead>\n",
              "    <tr style=\"text-align: right;\">\n",
              "      <th></th>\n",
              "      <th>Trade_message</th>\n",
              "      <th>SGW_Operation</th>\n",
              "      <th>CCP_Message</th>\n",
              "    </tr>\n",
              "  </thead>\n",
              "  <tbody>\n",
              "    <tr>\n",
              "      <th>0</th>\n",
              "      <td>&lt;TrdCaptRpt RptID=\"55358\" TrdID=\"32861199879\" ...</td>\n",
              "      <td>&lt;AllocInstrctn Qty=\"80.0\" BizDt=\"2023-01-11\" T...</td>\n",
              "      <td>&lt;AllocRpt RptID=\"280201\" ID=\"12284720406147810...</td>\n",
              "    </tr>\n",
              "    <tr>\n",
              "      <th>1</th>\n",
              "      <td>&lt;TrdCaptRpt RptID=\"4682\" TrdID=\"35318659463\" T...</td>\n",
              "      <td>&lt;AllocInstrctn Qty=\"75.0\" BizDt=\"2023-01-11\" T...</td>\n",
              "      <td>&lt;AllocRpt RptID=\"280201\" ID=\"24377961690289350...</td>\n",
              "    </tr>\n",
              "    <tr>\n",
              "      <th>2</th>\n",
              "      <td>&lt;TrdCaptRpt RptID=\"84652\" TrdID=\"29988339415\" ...</td>\n",
              "      <td>&lt;AllocInstrctn Qty=\"10.0\" BizDt=\"2023-01-06\" T...</td>\n",
              "      <td>&lt;AllocRpt RptID=\"280201\" ID=\"26076103164846849...</td>\n",
              "    </tr>\n",
              "    <tr>\n",
              "      <th>3</th>\n",
              "      <td>&lt;TrdCaptRpt RptID=\"1954\" TrdID=\"28103844021\" T...</td>\n",
              "      <td>&lt;AllocInstrctn Qty=\"49.0\" BizDt=\"2023-02-05\" T...</td>\n",
              "      <td>&lt;AllocRpt RptID=\"280201\" ID=\"19464235208152197...</td>\n",
              "    </tr>\n",
              "    <tr>\n",
              "      <th>4</th>\n",
              "      <td>&lt;TrdCaptRpt RptID=\"165869\" TrdID=\"25872245128\"...</td>\n",
              "      <td>&lt;AllocInstrctn Qty=\"80.0\" BizDt=\"2023-02-10\" T...</td>\n",
              "      <td>&lt;AllocRpt RptID=\"280201\" ID=\"12694049933053441...</td>\n",
              "    </tr>\n",
              "  </tbody>\n",
              "</table>\n",
              "</div>\n",
              "    <div class=\"colab-df-buttons\">\n",
              "\n",
              "  <div class=\"colab-df-container\">\n",
              "    <button class=\"colab-df-convert\" onclick=\"convertToInteractive('df-fecc7fa3-d012-4542-b040-cc19fa6f675d')\"\n",
              "            title=\"Convert this dataframe to an interactive table.\"\n",
              "            style=\"display:none;\">\n",
              "\n",
              "  <svg xmlns=\"http://www.w3.org/2000/svg\" height=\"24px\" viewBox=\"0 -960 960 960\">\n",
              "    <path d=\"M120-120v-720h720v720H120Zm60-500h600v-160H180v160Zm220 220h160v-160H400v160Zm0 220h160v-160H400v160ZM180-400h160v-160H180v160Zm440 0h160v-160H620v160ZM180-180h160v-160H180v160Zm440 0h160v-160H620v160Z\"/>\n",
              "  </svg>\n",
              "    </button>\n",
              "\n",
              "  <style>\n",
              "    .colab-df-container {\n",
              "      display:flex;\n",
              "      gap: 12px;\n",
              "    }\n",
              "\n",
              "    .colab-df-convert {\n",
              "      background-color: #E8F0FE;\n",
              "      border: none;\n",
              "      border-radius: 50%;\n",
              "      cursor: pointer;\n",
              "      display: none;\n",
              "      fill: #1967D2;\n",
              "      height: 32px;\n",
              "      padding: 0 0 0 0;\n",
              "      width: 32px;\n",
              "    }\n",
              "\n",
              "    .colab-df-convert:hover {\n",
              "      background-color: #E2EBFA;\n",
              "      box-shadow: 0px 1px 2px rgba(60, 64, 67, 0.3), 0px 1px 3px 1px rgba(60, 64, 67, 0.15);\n",
              "      fill: #174EA6;\n",
              "    }\n",
              "\n",
              "    .colab-df-buttons div {\n",
              "      margin-bottom: 4px;\n",
              "    }\n",
              "\n",
              "    [theme=dark] .colab-df-convert {\n",
              "      background-color: #3B4455;\n",
              "      fill: #D2E3FC;\n",
              "    }\n",
              "\n",
              "    [theme=dark] .colab-df-convert:hover {\n",
              "      background-color: #434B5C;\n",
              "      box-shadow: 0px 1px 3px 1px rgba(0, 0, 0, 0.15);\n",
              "      filter: drop-shadow(0px 1px 2px rgba(0, 0, 0, 0.3));\n",
              "      fill: #FFFFFF;\n",
              "    }\n",
              "  </style>\n",
              "\n",
              "    <script>\n",
              "      const buttonEl =\n",
              "        document.querySelector('#df-fecc7fa3-d012-4542-b040-cc19fa6f675d button.colab-df-convert');\n",
              "      buttonEl.style.display =\n",
              "        google.colab.kernel.accessAllowed ? 'block' : 'none';\n",
              "\n",
              "      async function convertToInteractive(key) {\n",
              "        const element = document.querySelector('#df-fecc7fa3-d012-4542-b040-cc19fa6f675d');\n",
              "        const dataTable =\n",
              "          await google.colab.kernel.invokeFunction('convertToInteractive',\n",
              "                                                    [key], {});\n",
              "        if (!dataTable) return;\n",
              "\n",
              "        const docLinkHtml = 'Like what you see? Visit the ' +\n",
              "          '<a target=\"_blank\" href=https://colab.research.google.com/notebooks/data_table.ipynb>data table notebook</a>'\n",
              "          + ' to learn more about interactive tables.';\n",
              "        element.innerHTML = '';\n",
              "        dataTable['output_type'] = 'display_data';\n",
              "        await google.colab.output.renderOutput(dataTable, element);\n",
              "        const docLink = document.createElement('div');\n",
              "        docLink.innerHTML = docLinkHtml;\n",
              "        element.appendChild(docLink);\n",
              "      }\n",
              "    </script>\n",
              "  </div>\n",
              "\n",
              "\n",
              "<div id=\"df-a19b1dde-1ba5-46f7-a72b-061e2e8a21b1\">\n",
              "  <button class=\"colab-df-quickchart\" onclick=\"quickchart('df-a19b1dde-1ba5-46f7-a72b-061e2e8a21b1')\"\n",
              "            title=\"Suggest charts\"\n",
              "            style=\"display:none;\">\n",
              "\n",
              "<svg xmlns=\"http://www.w3.org/2000/svg\" height=\"24px\"viewBox=\"0 0 24 24\"\n",
              "     width=\"24px\">\n",
              "    <g>\n",
              "        <path d=\"M19 3H5c-1.1 0-2 .9-2 2v14c0 1.1.9 2 2 2h14c1.1 0 2-.9 2-2V5c0-1.1-.9-2-2-2zM9 17H7v-7h2v7zm4 0h-2V7h2v10zm4 0h-2v-4h2v4z\"/>\n",
              "    </g>\n",
              "</svg>\n",
              "  </button>\n",
              "\n",
              "<style>\n",
              "  .colab-df-quickchart {\n",
              "      --bg-color: #E8F0FE;\n",
              "      --fill-color: #1967D2;\n",
              "      --hover-bg-color: #E2EBFA;\n",
              "      --hover-fill-color: #174EA6;\n",
              "      --disabled-fill-color: #AAA;\n",
              "      --disabled-bg-color: #DDD;\n",
              "  }\n",
              "\n",
              "  [theme=dark] .colab-df-quickchart {\n",
              "      --bg-color: #3B4455;\n",
              "      --fill-color: #D2E3FC;\n",
              "      --hover-bg-color: #434B5C;\n",
              "      --hover-fill-color: #FFFFFF;\n",
              "      --disabled-bg-color: #3B4455;\n",
              "      --disabled-fill-color: #666;\n",
              "  }\n",
              "\n",
              "  .colab-df-quickchart {\n",
              "    background-color: var(--bg-color);\n",
              "    border: none;\n",
              "    border-radius: 50%;\n",
              "    cursor: pointer;\n",
              "    display: none;\n",
              "    fill: var(--fill-color);\n",
              "    height: 32px;\n",
              "    padding: 0;\n",
              "    width: 32px;\n",
              "  }\n",
              "\n",
              "  .colab-df-quickchart:hover {\n",
              "    background-color: var(--hover-bg-color);\n",
              "    box-shadow: 0 1px 2px rgba(60, 64, 67, 0.3), 0 1px 3px 1px rgba(60, 64, 67, 0.15);\n",
              "    fill: var(--button-hover-fill-color);\n",
              "  }\n",
              "\n",
              "  .colab-df-quickchart-complete:disabled,\n",
              "  .colab-df-quickchart-complete:disabled:hover {\n",
              "    background-color: var(--disabled-bg-color);\n",
              "    fill: var(--disabled-fill-color);\n",
              "    box-shadow: none;\n",
              "  }\n",
              "\n",
              "  .colab-df-spinner {\n",
              "    border: 2px solid var(--fill-color);\n",
              "    border-color: transparent;\n",
              "    border-bottom-color: var(--fill-color);\n",
              "    animation:\n",
              "      spin 1s steps(1) infinite;\n",
              "  }\n",
              "\n",
              "  @keyframes spin {\n",
              "    0% {\n",
              "      border-color: transparent;\n",
              "      border-bottom-color: var(--fill-color);\n",
              "      border-left-color: var(--fill-color);\n",
              "    }\n",
              "    20% {\n",
              "      border-color: transparent;\n",
              "      border-left-color: var(--fill-color);\n",
              "      border-top-color: var(--fill-color);\n",
              "    }\n",
              "    30% {\n",
              "      border-color: transparent;\n",
              "      border-left-color: var(--fill-color);\n",
              "      border-top-color: var(--fill-color);\n",
              "      border-right-color: var(--fill-color);\n",
              "    }\n",
              "    40% {\n",
              "      border-color: transparent;\n",
              "      border-right-color: var(--fill-color);\n",
              "      border-top-color: var(--fill-color);\n",
              "    }\n",
              "    60% {\n",
              "      border-color: transparent;\n",
              "      border-right-color: var(--fill-color);\n",
              "    }\n",
              "    80% {\n",
              "      border-color: transparent;\n",
              "      border-right-color: var(--fill-color);\n",
              "      border-bottom-color: var(--fill-color);\n",
              "    }\n",
              "    90% {\n",
              "      border-color: transparent;\n",
              "      border-bottom-color: var(--fill-color);\n",
              "    }\n",
              "  }\n",
              "</style>\n",
              "\n",
              "  <script>\n",
              "    async function quickchart(key) {\n",
              "      const quickchartButtonEl =\n",
              "        document.querySelector('#' + key + ' button');\n",
              "      quickchartButtonEl.disabled = true;  // To prevent multiple clicks.\n",
              "      quickchartButtonEl.classList.add('colab-df-spinner');\n",
              "      try {\n",
              "        const charts = await google.colab.kernel.invokeFunction(\n",
              "            'suggestCharts', [key], {});\n",
              "      } catch (error) {\n",
              "        console.error('Error during call to suggestCharts:', error);\n",
              "      }\n",
              "      quickchartButtonEl.classList.remove('colab-df-spinner');\n",
              "      quickchartButtonEl.classList.add('colab-df-quickchart-complete');\n",
              "    }\n",
              "    (() => {\n",
              "      let quickchartButtonEl =\n",
              "        document.querySelector('#df-a19b1dde-1ba5-46f7-a72b-061e2e8a21b1 button');\n",
              "      quickchartButtonEl.style.display =\n",
              "        google.colab.kernel.accessAllowed ? 'block' : 'none';\n",
              "    })();\n",
              "  </script>\n",
              "</div>\n",
              "\n",
              "    </div>\n",
              "  </div>\n"
            ],
            "application/vnd.google.colaboratory.intrinsic+json": {
              "type": "dataframe",
              "variable_name": "df0",
              "summary": "{\n  \"name\": \"df0\",\n  \"rows\": 1000,\n  \"fields\": [\n    {\n      \"column\": \"Trade_message\",\n      \"properties\": {\n        \"dtype\": \"string\",\n        \"num_unique_values\": 1000,\n        \"samples\": [\n          \"<TrdCaptRpt RptID=\\\"191960\\\" TrdID=\\\"32970704462\\\" TransTyp=\\\"0\\\" RptTyp=\\\"2\\\" TrdTyp=\\\"1\\\" MtchID=\\\"30676726771\\\" PxTyp=\\\"2\\\" LastQty=\\\"12\\\" LastPx=\\\"100\\\" TrdDt=\\\"2023-01-02\\\" BizDt=\\\"2023-01-20\\\" TxnTm=\\\"2023-02-21T05:17:30.230-6:00\\\"><Hdr SID=\\\"MGEX\\\" TID=\\\"B509\\\" PosDup=\\\"N\\\" PosRsnd=\\\"Y\\\" Snt=\\\"2023-02-21T05:17:30.470-6:00\\\"></Hdr><Instrmt Sym=\\\"BUI\\\" ID=\\\"LM\\\" Src=\\\"H\\\" CFI=\\\"MKLPON\\\" MMY=\\\"202307\\\" MatDt=\\\"2023-07-26\\\" Mult=\\\"0.3\\\" Exch=\\\"HDPL\\\"></Instrmt><RptSide Side=\\\"1\\\" Ccy=\\\"USD\\\" InptSrc=\\\"SY\\\" InptDev=\\\"API\\\" CustCpcty=\\\"2\\\" PosEfct=\\\"C\\\" ClOrdID=\\\"123\\\" MLegRptTyp=\\\"1\\\" AllocInd=\\\"0\\\"><Pty ID=\\\"MGEX\\\" R=\\\"21\\\"></Pty><Pty ID=\\\"210\\\" R=\\\"1\\\"></Pty><Pty ID=\\\"218\\\" R=\\\"4\\\"></Pty><Pty ID=\\\"Emira-115\\\" R=\\\"24\\\"><Sub ID=\\\"1\\\" Typ=\\\"26\\\"></Sub></Pty><Pty ID=\\\"100\\\" R=\\\"12\\\"></Pty><TrdRegTS TS=\\\"2023-02-21T05:17:30.230-6:00\\\" Typ=\\\"1\\\"></TrdRegTS></RptSide></TrdCaptRpt>\",\n          \"<TrdCaptRpt RptID=\\\"85918\\\" TrdID=\\\"23014216351\\\" TransTyp=\\\"0\\\" RptTyp=\\\"2\\\" TrdTyp=\\\"20\\\" MtchID=\\\"26445948990\\\" PxTyp=\\\"2\\\" LastQty=\\\"48\\\" LastPx=\\\"250.45\\\" TrdDt=\\\"2022-12-21\\\" BizDt=\\\"2023-01-06\\\" TxnTm=\\\"2023-02-21T13:40:55.100-7:00\\\"><Hdr SID=\\\"MGEX\\\" TID=\\\"TL98\\\" PosDup=\\\"N\\\" PosRsnd=\\\"Y\\\" Snt=\\\"2023-02-21T13:40:55.350-7:00\\\"></Hdr><Instrmt Sym=\\\"ABP\\\" ID=\\\"B\\\" Src=\\\"H\\\" CFI=\\\"APYBKL\\\" MMY=\\\"202310\\\" MatDt=\\\"2023-10-1\\\" Mult=\\\"0.3\\\" Exch=\\\"HDPL\\\"></Instrmt><RptSide Side=\\\"1\\\" Ccy=\\\"USD\\\" InptSrc=\\\"SY\\\" InptDev=\\\"API\\\" CustCpcty=\\\"2\\\" PosEfct=\\\"C\\\" ClOrdID=\\\"245BTN\\\" MLegRptTyp=\\\"1\\\" AllocInd=\\\"1\\\"><Pty ID=\\\"MGEX\\\" R=\\\"21\\\"></Pty><Pty ID=\\\"210\\\" R=\\\"1\\\"></Pty><Pty ID=\\\"274\\\" R=\\\"4\\\"></Pty><Pty ID=\\\"ahmed\\\" R=\\\"24\\\"><Sub ID=\\\"1\\\" Typ=\\\"26\\\"></Sub></Pty><Pty ID=\\\"200\\\" R=\\\"12\\\"></Pty><TrdRegTS TS=\\\"2023-02-21T13:40:55.100-7:00\\\" Typ=\\\"1\\\"></TrdRegTS></RptSide></TrdCaptRpt>\",\n          \"<TrdCaptRpt RptID=\\\"8623\\\" TrdID=\\\"37555202419\\\" TransTyp=\\\"0\\\" RptTyp=\\\"2\\\" TrdTyp=\\\"1\\\" MtchID=\\\"25677354122\\\" PxTyp=\\\"2\\\" LastQty=\\\"49\\\" LastPx=\\\"370\\\" TrdDt=\\\"2023-01-05\\\" BizDt=\\\"2023-02-05\\\" TxnTm=\\\"2023-02-15T12:25:13.230-7:00\\\"><Hdr SID=\\\"MGEX\\\" TID=\\\"D210\\\" PosDup=\\\"Y\\\" PosRsnd=\\\"N\\\" Snt=\\\"2023-02-15T12:25:13.768-7:00\\\"></Hdr><Instrmt Sym=\\\"BUI\\\" ID=\\\"BUS\\\" Src=\\\"H\\\" CFI=\\\"APYBKL\\\" MMY=\\\"202305\\\" MatDt=\\\"2023-05-16\\\" Mult=\\\"0.4\\\" Exch=\\\"SNTL\\\"></Instrmt><RptSide Side=\\\"2\\\" Ccy=\\\"USD\\\" InptSrc=\\\"EL\\\" InptDev=\\\"PORTAL\\\" CustCpcty=\\\"3\\\" PosEfct=\\\"C\\\" ClOrdID=\\\"145\\\" MLegRptTyp=\\\"2\\\" AllocInd=\\\"1\\\"><Pty ID=\\\"MGEX\\\" R=\\\"21\\\"></Pty><Pty ID=\\\"210\\\" R=\\\"1\\\"></Pty><Pty ID=\\\"262\\\" R=\\\"4\\\"></Pty><Pty ID=\\\"Emira-115\\\" R=\\\"24\\\"><Sub ID=\\\"1\\\" Typ=\\\"26\\\"></Sub></Pty><Pty ID=\\\"A123\\\" R=\\\"12\\\"></Pty><TrdRegTS TS=\\\"2023-02-15T12:25:13.230-7:00\\\" Typ=\\\"1\\\"></TrdRegTS></RptSide></TrdCaptRpt>\"\n        ],\n        \"semantic_type\": \"\",\n        \"description\": \"\"\n      }\n    },\n    {\n      \"column\": \"SGW_Operation\",\n      \"properties\": {\n        \"dtype\": \"string\",\n        \"num_unique_values\": 1000,\n        \"samples\": [\n          \"<AllocInstrctn Qty=\\\"12.0\\\" BizDt=\\\"2023-01-20\\\" TrdDt=\\\"2023-01-02\\\" TxnTm=\\\"2023-02-21T14:30:55.600-6:00\\\" Side=\\\"1\\\" ID=\\\"1445202794059462080@HDPL&gt;17323070172GR@20230102\\\" TransTyp=\\\"0\\\" Typ=\\\"17\\\" GrpID=\\\"17323070172\\\"><Alloc CustCpcty=\\\"4\\\" IndAllocID=\\\"4al98\\\" Txt=\\\"This is a note.\\\" Qty=\\\"12.0\\\"><Pty ID=\\\"CUSTACT6\\\" R=\\\"24\\\"><Sub ID=\\\"2\\\" Typ=\\\"26\\\" /></Pty><Pty ID=\\\"162\\\" R=\\\"1\\\" /><Pty ID=\\\"XMGE\\\" R=\\\"21\\\" /></Alloc></AllocInstrctn>\",\n          \"<AllocInstrctn Qty=\\\"48.0\\\" BizDt=\\\"2023-01-06\\\" TrdDt=\\\"2022-12-21\\\" TxnTm=\\\"2023-02-21T17:03:12.436-7:00\\\" Side=\\\"1\\\" ID=\\\"1982727660015544060@HDPL&gt;22602077771GR@20221221\\\" TransTyp=\\\"0\\\" Typ=\\\"17\\\" GrpID=\\\"22602077771\\\"><Alloc CustCpcty=\\\"4\\\" IndAllocID=\\\"36617\\\" Txt=\\\"notes\\\" Qty=\\\"48.0\\\"><Pty ID=\\\"Hassen\\\" R=\\\"24\\\"><Sub ID=\\\"2\\\" Typ=\\\"26\\\" /></Pty><Pty ID=\\\"128\\\" R=\\\"1\\\" /><Pty ID=\\\"XMGE\\\" R=\\\"21\\\" /></Alloc></AllocInstrctn>\",\n          \"<AllocInstrctn Qty=\\\"49.0\\\" BizDt=\\\"2023-02-05\\\" TrdDt=\\\"2023-01-05\\\" TxnTm=\\\"2023-02-15T14:30:55.600-7:00\\\" Side=\\\"2\\\" ID=\\\"2222060727408200763@SNTL&gt;14680325659GR@20230105\\\" TransTyp=\\\"0\\\" Typ=\\\"17\\\" GrpID=\\\"14680325659\\\"><Alloc CustCpcty=\\\"4\\\" IndAllocID=\\\"36617\\\" Txt=\\\"some notes\\\" Qty=\\\"49.0\\\"><Pty ID=\\\"00120007\\\" R=\\\"24\\\"><Sub ID=\\\"2\\\" Typ=\\\"26\\\" /></Pty><Pty ID=\\\"100\\\" R=\\\"1\\\" /><Pty ID=\\\"XMGE\\\" R=\\\"21\\\" /></Alloc></AllocInstrctn>\"\n        ],\n        \"semantic_type\": \"\",\n        \"description\": \"\"\n      }\n    },\n    {\n      \"column\": \"CCP_Message\",\n      \"properties\": {\n        \"dtype\": \"string\",\n        \"num_unique_values\": 1000,\n        \"samples\": [\n          \"<AllocRpt RptID=\\\"280201\\\" ID=\\\"1445202794059462080@HDPL&gt;17323070172GR@20230102\\\" TransTyp=\\\"0\\\" GrpID=\\\"17323070172\\\" RptTyp=\\\"15\\\" Stat=\\\"6\\\" BizDt=\\\"2023-01-20\\\" TrdTyp=\\\"1\\\" CustCpcty=\\\"2\\\" AvgPxInd=\\\"0\\\" Side=\\\"2\\\" PxTyp=\\\"2\\\" AvgPx=\\\"100\\\" TrdDt=\\\"2023-01-02\\\" TxnTm=\\\"2023-02-21T00:12:55.138-6:00\\\"><Hdr SID=\\\"MGEX\\\" TID=\\\"B509\\\" PosDup=\\\"N\\\" PosRsnd=\\\"Y\\\" Snt=\\\"2023-02-21T00:12:55.160-6:00\\\"></Hdr><OrdAlloc ClOrdID=\\\"123\\\"></OrdAlloc><Instrmt ID=\\\"LM\\\" CFI=\\\"MKLPON\\\" MMY=\\\"202307\\\" MatDt=\\\"2023-07-26\\\" Exch=\\\"HDPL\\\"></Instrmt><Pty ID=\\\"MGEX\\\" R=\\\"21\\\"></Pty><Pty ID=\\\"210\\\" R=\\\"1\\\"></Pty><Pty ID=\\\"210\\\" R=\\\"4\\\"></Pty><Pty ID=\\\"Emira-115\\\" R=\\\"24\\\"><Sub ID=\\\"1\\\" Typ=\\\"26\\\"></Sub></Pty><Alloc Qty=\\\"12.0\\\" IndAllocID=\\\"4al98\\\" IndAllocID2=\\\"14051000005\\\" CustCpcty=\\\"4\\\" Txt=\\\"This is a note.\\\"><Pty ID=\\\"MGEX\\\" R=\\\"21\\\"></Pty><Pty ID=\\\"162\\\" R=\\\"1\\\"></Pty><Pty ID=\\\"162\\\" R=\\\"4\\\"></Pty><Pty ID=\\\"CUSTACT6\\\" R=\\\"24\\\"><Sub ID=\\\"2\\\" Typ=\\\"26\\\"></Sub></Pty></Alloc></AllocRpt>\",\n          \"<AllocRpt RptID=\\\"280201\\\" ID=\\\"1982727660015544060@HDPL&gt;22602077771GR@20221221\\\" TransTyp=\\\"0\\\" GrpID=\\\"22602077771\\\" RptTyp=\\\"15\\\" Stat=\\\"6\\\" BizDt=\\\"2023-01-06\\\" TrdTyp=\\\"20\\\" CustCpcty=\\\"2\\\" AvgPxInd=\\\"0\\\" Side=\\\"2\\\" PxTyp=\\\"2\\\" AvgPx=\\\"250.45\\\" TrdDt=\\\"2022-12-21\\\" TxnTm=\\\"2023-02-21T00:12:55.138-7:00\\\"><Hdr SID=\\\"MGEX\\\" TID=\\\"TL98\\\" PosDup=\\\"N\\\" PosRsnd=\\\"Y\\\" Snt=\\\"2023-02-21T00:12:55.160-7:00\\\"></Hdr><OrdAlloc ClOrdID=\\\"245BTN\\\"></OrdAlloc><Instrmt ID=\\\"B\\\" CFI=\\\"APYBKL\\\" MMY=\\\"202310\\\" MatDt=\\\"2023-10-1\\\" Exch=\\\"HDPL\\\"></Instrmt><Pty ID=\\\"MGEX\\\" R=\\\"21\\\"></Pty><Pty ID=\\\"210\\\" R=\\\"1\\\"></Pty><Pty ID=\\\"210\\\" R=\\\"4\\\"></Pty><Pty ID=\\\"ahmed\\\" R=\\\"24\\\"><Sub ID=\\\"1\\\" Typ=\\\"26\\\"></Sub></Pty><Alloc Qty=\\\"48.0\\\" IndAllocID=\\\"36617\\\" IndAllocID2=\\\"14051000005\\\" CustCpcty=\\\"4\\\" Txt=\\\"notes\\\"><Pty ID=\\\"MGEX\\\" R=\\\"21\\\"></Pty><Pty ID=\\\"128\\\" R=\\\"1\\\"></Pty><Pty ID=\\\"128\\\" R=\\\"4\\\"></Pty><Pty ID=\\\"Hassen\\\" R=\\\"24\\\"><Sub ID=\\\"2\\\" Typ=\\\"26\\\"></Sub></Pty></Alloc></AllocRpt>\",\n          \"<AllocRpt RptID=\\\"280201\\\" ID=\\\"2222060727408200763@SNTL&gt;14680325659GR@20230105\\\" TransTyp=\\\"0\\\" GrpID=\\\"14680325659\\\" RptTyp=\\\"15\\\" Stat=\\\"6\\\" BizDt=\\\"2023-02-05\\\" TrdTyp=\\\"1\\\" CustCpcty=\\\"3\\\" AvgPxInd=\\\"0\\\" Side=\\\"2\\\" PxTyp=\\\"2\\\" AvgPx=\\\"370\\\" TrdDt=\\\"2023-01-05\\\" TxnTm=\\\"2023-02-15T00:12:55.138-7:00\\\"><Hdr SID=\\\"MGEX\\\" TID=\\\"D210\\\" PosDup=\\\"Y\\\" PosRsnd=\\\"N\\\" Snt=\\\"2023-02-15T00:12:55.160-7:00\\\"></Hdr><OrdAlloc ClOrdID=\\\"145\\\"></OrdAlloc><Instrmt ID=\\\"BUS\\\" CFI=\\\"APYBKL\\\" MMY=\\\"202305\\\" MatDt=\\\"2023-05-16\\\" Exch=\\\"SNTL\\\"></Instrmt><Pty ID=\\\"MGEX\\\" R=\\\"21\\\"></Pty><Pty ID=\\\"210\\\" R=\\\"1\\\"></Pty><Pty ID=\\\"210\\\" R=\\\"4\\\"></Pty><Pty ID=\\\"Emira-115\\\" R=\\\"24\\\"><Sub ID=\\\"1\\\" Typ=\\\"26\\\"></Sub></Pty><Alloc Qty=\\\"49.0\\\" IndAllocID=\\\"36617\\\" IndAllocID2=\\\"14051000005\\\" CustCpcty=\\\"4\\\" Txt=\\\"some notes\\\"><Pty ID=\\\"MGEX\\\" R=\\\"21\\\"></Pty><Pty ID=\\\"100\\\" R=\\\"1\\\"></Pty><Pty ID=\\\"100\\\" R=\\\"4\\\"></Pty><Pty ID=\\\"00120007\\\" R=\\\"24\\\"><Sub ID=\\\"2\\\" Typ=\\\"26\\\"></Sub></Pty></Alloc></AllocRpt>\"\n        ],\n        \"semantic_type\": \"\",\n        \"description\": \"\"\n      }\n    }\n  ]\n}"
            }
          },
          "metadata": {},
          "execution_count": 204
        }
      ]
    },
    {
      "cell_type": "markdown",
      "source": [
        "**Creating a new column input_message by concatenating Trade_message and SGW_Operation and updating the DataFrame to retain only input_message and CCP_Message**"
      ],
      "metadata": {
        "id": "5KbkNXjfJkbr"
      }
    },
    {
      "cell_type": "code",
      "source": [
        "df1 = df0.copy()"
      ],
      "metadata": {
        "id": "W0T8YegWB2mD"
      },
      "execution_count": null,
      "outputs": []
    },
    {
      "cell_type": "code",
      "source": [
        "def concat_columns(df):\n",
        "    df['input_message'] = df['Trade_message'] + ' ' + df['SGW_Operation']\n",
        "    df.drop(['Trade_message', 'SGW_Operation'], axis=1, inplace=True)\n",
        "    return df"
      ],
      "metadata": {
        "id": "Po1AVgFBB7Hb"
      },
      "execution_count": null,
      "outputs": []
    },
    {
      "cell_type": "code",
      "source": [
        "df1 = concat_columns(df1)\n",
        "df1.head()"
      ],
      "metadata": {
        "colab": {
          "base_uri": "https://localhost:8080/",
          "height": 206
        },
        "id": "XJfkFBIRB8Nc",
        "outputId": "799bbf9c-d91e-4e3e-cb74-b634d5840d20"
      },
      "execution_count": null,
      "outputs": [
        {
          "output_type": "execute_result",
          "data": {
            "text/plain": [
              "                                         CCP_Message  \\\n",
              "0  <AllocRpt RptID=\"280201\" ID=\"12284720406147810...   \n",
              "1  <AllocRpt RptID=\"280201\" ID=\"24377961690289350...   \n",
              "2  <AllocRpt RptID=\"280201\" ID=\"26076103164846849...   \n",
              "3  <AllocRpt RptID=\"280201\" ID=\"19464235208152197...   \n",
              "4  <AllocRpt RptID=\"280201\" ID=\"12694049933053441...   \n",
              "\n",
              "                                       input_message  \n",
              "0  <TrdCaptRpt RptID=\"55358\" TrdID=\"32861199879\" ...  \n",
              "1  <TrdCaptRpt RptID=\"4682\" TrdID=\"35318659463\" T...  \n",
              "2  <TrdCaptRpt RptID=\"84652\" TrdID=\"29988339415\" ...  \n",
              "3  <TrdCaptRpt RptID=\"1954\" TrdID=\"28103844021\" T...  \n",
              "4  <TrdCaptRpt RptID=\"165869\" TrdID=\"25872245128\"...  "
            ],
            "text/html": [
              "\n",
              "  <div id=\"df-59b48b8b-9c2d-44d0-acaa-14d8f7c7793c\" class=\"colab-df-container\">\n",
              "    <div>\n",
              "<style scoped>\n",
              "    .dataframe tbody tr th:only-of-type {\n",
              "        vertical-align: middle;\n",
              "    }\n",
              "\n",
              "    .dataframe tbody tr th {\n",
              "        vertical-align: top;\n",
              "    }\n",
              "\n",
              "    .dataframe thead th {\n",
              "        text-align: right;\n",
              "    }\n",
              "</style>\n",
              "<table border=\"1\" class=\"dataframe\">\n",
              "  <thead>\n",
              "    <tr style=\"text-align: right;\">\n",
              "      <th></th>\n",
              "      <th>CCP_Message</th>\n",
              "      <th>input_message</th>\n",
              "    </tr>\n",
              "  </thead>\n",
              "  <tbody>\n",
              "    <tr>\n",
              "      <th>0</th>\n",
              "      <td>&lt;AllocRpt RptID=\"280201\" ID=\"12284720406147810...</td>\n",
              "      <td>&lt;TrdCaptRpt RptID=\"55358\" TrdID=\"32861199879\" ...</td>\n",
              "    </tr>\n",
              "    <tr>\n",
              "      <th>1</th>\n",
              "      <td>&lt;AllocRpt RptID=\"280201\" ID=\"24377961690289350...</td>\n",
              "      <td>&lt;TrdCaptRpt RptID=\"4682\" TrdID=\"35318659463\" T...</td>\n",
              "    </tr>\n",
              "    <tr>\n",
              "      <th>2</th>\n",
              "      <td>&lt;AllocRpt RptID=\"280201\" ID=\"26076103164846849...</td>\n",
              "      <td>&lt;TrdCaptRpt RptID=\"84652\" TrdID=\"29988339415\" ...</td>\n",
              "    </tr>\n",
              "    <tr>\n",
              "      <th>3</th>\n",
              "      <td>&lt;AllocRpt RptID=\"280201\" ID=\"19464235208152197...</td>\n",
              "      <td>&lt;TrdCaptRpt RptID=\"1954\" TrdID=\"28103844021\" T...</td>\n",
              "    </tr>\n",
              "    <tr>\n",
              "      <th>4</th>\n",
              "      <td>&lt;AllocRpt RptID=\"280201\" ID=\"12694049933053441...</td>\n",
              "      <td>&lt;TrdCaptRpt RptID=\"165869\" TrdID=\"25872245128\"...</td>\n",
              "    </tr>\n",
              "  </tbody>\n",
              "</table>\n",
              "</div>\n",
              "    <div class=\"colab-df-buttons\">\n",
              "\n",
              "  <div class=\"colab-df-container\">\n",
              "    <button class=\"colab-df-convert\" onclick=\"convertToInteractive('df-59b48b8b-9c2d-44d0-acaa-14d8f7c7793c')\"\n",
              "            title=\"Convert this dataframe to an interactive table.\"\n",
              "            style=\"display:none;\">\n",
              "\n",
              "  <svg xmlns=\"http://www.w3.org/2000/svg\" height=\"24px\" viewBox=\"0 -960 960 960\">\n",
              "    <path d=\"M120-120v-720h720v720H120Zm60-500h600v-160H180v160Zm220 220h160v-160H400v160Zm0 220h160v-160H400v160ZM180-400h160v-160H180v160Zm440 0h160v-160H620v160ZM180-180h160v-160H180v160Zm440 0h160v-160H620v160Z\"/>\n",
              "  </svg>\n",
              "    </button>\n",
              "\n",
              "  <style>\n",
              "    .colab-df-container {\n",
              "      display:flex;\n",
              "      gap: 12px;\n",
              "    }\n",
              "\n",
              "    .colab-df-convert {\n",
              "      background-color: #E8F0FE;\n",
              "      border: none;\n",
              "      border-radius: 50%;\n",
              "      cursor: pointer;\n",
              "      display: none;\n",
              "      fill: #1967D2;\n",
              "      height: 32px;\n",
              "      padding: 0 0 0 0;\n",
              "      width: 32px;\n",
              "    }\n",
              "\n",
              "    .colab-df-convert:hover {\n",
              "      background-color: #E2EBFA;\n",
              "      box-shadow: 0px 1px 2px rgba(60, 64, 67, 0.3), 0px 1px 3px 1px rgba(60, 64, 67, 0.15);\n",
              "      fill: #174EA6;\n",
              "    }\n",
              "\n",
              "    .colab-df-buttons div {\n",
              "      margin-bottom: 4px;\n",
              "    }\n",
              "\n",
              "    [theme=dark] .colab-df-convert {\n",
              "      background-color: #3B4455;\n",
              "      fill: #D2E3FC;\n",
              "    }\n",
              "\n",
              "    [theme=dark] .colab-df-convert:hover {\n",
              "      background-color: #434B5C;\n",
              "      box-shadow: 0px 1px 3px 1px rgba(0, 0, 0, 0.15);\n",
              "      filter: drop-shadow(0px 1px 2px rgba(0, 0, 0, 0.3));\n",
              "      fill: #FFFFFF;\n",
              "    }\n",
              "  </style>\n",
              "\n",
              "    <script>\n",
              "      const buttonEl =\n",
              "        document.querySelector('#df-59b48b8b-9c2d-44d0-acaa-14d8f7c7793c button.colab-df-convert');\n",
              "      buttonEl.style.display =\n",
              "        google.colab.kernel.accessAllowed ? 'block' : 'none';\n",
              "\n",
              "      async function convertToInteractive(key) {\n",
              "        const element = document.querySelector('#df-59b48b8b-9c2d-44d0-acaa-14d8f7c7793c');\n",
              "        const dataTable =\n",
              "          await google.colab.kernel.invokeFunction('convertToInteractive',\n",
              "                                                    [key], {});\n",
              "        if (!dataTable) return;\n",
              "\n",
              "        const docLinkHtml = 'Like what you see? Visit the ' +\n",
              "          '<a target=\"_blank\" href=https://colab.research.google.com/notebooks/data_table.ipynb>data table notebook</a>'\n",
              "          + ' to learn more about interactive tables.';\n",
              "        element.innerHTML = '';\n",
              "        dataTable['output_type'] = 'display_data';\n",
              "        await google.colab.output.renderOutput(dataTable, element);\n",
              "        const docLink = document.createElement('div');\n",
              "        docLink.innerHTML = docLinkHtml;\n",
              "        element.appendChild(docLink);\n",
              "      }\n",
              "    </script>\n",
              "  </div>\n",
              "\n",
              "\n",
              "<div id=\"df-3abdef3f-d616-41fe-af15-dbdd1b64f896\">\n",
              "  <button class=\"colab-df-quickchart\" onclick=\"quickchart('df-3abdef3f-d616-41fe-af15-dbdd1b64f896')\"\n",
              "            title=\"Suggest charts\"\n",
              "            style=\"display:none;\">\n",
              "\n",
              "<svg xmlns=\"http://www.w3.org/2000/svg\" height=\"24px\"viewBox=\"0 0 24 24\"\n",
              "     width=\"24px\">\n",
              "    <g>\n",
              "        <path d=\"M19 3H5c-1.1 0-2 .9-2 2v14c0 1.1.9 2 2 2h14c1.1 0 2-.9 2-2V5c0-1.1-.9-2-2-2zM9 17H7v-7h2v7zm4 0h-2V7h2v10zm4 0h-2v-4h2v4z\"/>\n",
              "    </g>\n",
              "</svg>\n",
              "  </button>\n",
              "\n",
              "<style>\n",
              "  .colab-df-quickchart {\n",
              "      --bg-color: #E8F0FE;\n",
              "      --fill-color: #1967D2;\n",
              "      --hover-bg-color: #E2EBFA;\n",
              "      --hover-fill-color: #174EA6;\n",
              "      --disabled-fill-color: #AAA;\n",
              "      --disabled-bg-color: #DDD;\n",
              "  }\n",
              "\n",
              "  [theme=dark] .colab-df-quickchart {\n",
              "      --bg-color: #3B4455;\n",
              "      --fill-color: #D2E3FC;\n",
              "      --hover-bg-color: #434B5C;\n",
              "      --hover-fill-color: #FFFFFF;\n",
              "      --disabled-bg-color: #3B4455;\n",
              "      --disabled-fill-color: #666;\n",
              "  }\n",
              "\n",
              "  .colab-df-quickchart {\n",
              "    background-color: var(--bg-color);\n",
              "    border: none;\n",
              "    border-radius: 50%;\n",
              "    cursor: pointer;\n",
              "    display: none;\n",
              "    fill: var(--fill-color);\n",
              "    height: 32px;\n",
              "    padding: 0;\n",
              "    width: 32px;\n",
              "  }\n",
              "\n",
              "  .colab-df-quickchart:hover {\n",
              "    background-color: var(--hover-bg-color);\n",
              "    box-shadow: 0 1px 2px rgba(60, 64, 67, 0.3), 0 1px 3px 1px rgba(60, 64, 67, 0.15);\n",
              "    fill: var(--button-hover-fill-color);\n",
              "  }\n",
              "\n",
              "  .colab-df-quickchart-complete:disabled,\n",
              "  .colab-df-quickchart-complete:disabled:hover {\n",
              "    background-color: var(--disabled-bg-color);\n",
              "    fill: var(--disabled-fill-color);\n",
              "    box-shadow: none;\n",
              "  }\n",
              "\n",
              "  .colab-df-spinner {\n",
              "    border: 2px solid var(--fill-color);\n",
              "    border-color: transparent;\n",
              "    border-bottom-color: var(--fill-color);\n",
              "    animation:\n",
              "      spin 1s steps(1) infinite;\n",
              "  }\n",
              "\n",
              "  @keyframes spin {\n",
              "    0% {\n",
              "      border-color: transparent;\n",
              "      border-bottom-color: var(--fill-color);\n",
              "      border-left-color: var(--fill-color);\n",
              "    }\n",
              "    20% {\n",
              "      border-color: transparent;\n",
              "      border-left-color: var(--fill-color);\n",
              "      border-top-color: var(--fill-color);\n",
              "    }\n",
              "    30% {\n",
              "      border-color: transparent;\n",
              "      border-left-color: var(--fill-color);\n",
              "      border-top-color: var(--fill-color);\n",
              "      border-right-color: var(--fill-color);\n",
              "    }\n",
              "    40% {\n",
              "      border-color: transparent;\n",
              "      border-right-color: var(--fill-color);\n",
              "      border-top-color: var(--fill-color);\n",
              "    }\n",
              "    60% {\n",
              "      border-color: transparent;\n",
              "      border-right-color: var(--fill-color);\n",
              "    }\n",
              "    80% {\n",
              "      border-color: transparent;\n",
              "      border-right-color: var(--fill-color);\n",
              "      border-bottom-color: var(--fill-color);\n",
              "    }\n",
              "    90% {\n",
              "      border-color: transparent;\n",
              "      border-bottom-color: var(--fill-color);\n",
              "    }\n",
              "  }\n",
              "</style>\n",
              "\n",
              "  <script>\n",
              "    async function quickchart(key) {\n",
              "      const quickchartButtonEl =\n",
              "        document.querySelector('#' + key + ' button');\n",
              "      quickchartButtonEl.disabled = true;  // To prevent multiple clicks.\n",
              "      quickchartButtonEl.classList.add('colab-df-spinner');\n",
              "      try {\n",
              "        const charts = await google.colab.kernel.invokeFunction(\n",
              "            'suggestCharts', [key], {});\n",
              "      } catch (error) {\n",
              "        console.error('Error during call to suggestCharts:', error);\n",
              "      }\n",
              "      quickchartButtonEl.classList.remove('colab-df-spinner');\n",
              "      quickchartButtonEl.classList.add('colab-df-quickchart-complete');\n",
              "    }\n",
              "    (() => {\n",
              "      let quickchartButtonEl =\n",
              "        document.querySelector('#df-3abdef3f-d616-41fe-af15-dbdd1b64f896 button');\n",
              "      quickchartButtonEl.style.display =\n",
              "        google.colab.kernel.accessAllowed ? 'block' : 'none';\n",
              "    })();\n",
              "  </script>\n",
              "</div>\n",
              "\n",
              "    </div>\n",
              "  </div>\n"
            ],
            "application/vnd.google.colaboratory.intrinsic+json": {
              "type": "dataframe",
              "variable_name": "df1",
              "summary": "{\n  \"name\": \"df1\",\n  \"rows\": 1000,\n  \"fields\": [\n    {\n      \"column\": \"CCP_Message\",\n      \"properties\": {\n        \"dtype\": \"string\",\n        \"num_unique_values\": 1000,\n        \"samples\": [\n          \"<AllocRpt RptID=\\\"280201\\\" ID=\\\"1445202794059462080@HDPL&gt;17323070172GR@20230102\\\" TransTyp=\\\"0\\\" GrpID=\\\"17323070172\\\" RptTyp=\\\"15\\\" Stat=\\\"6\\\" BizDt=\\\"2023-01-20\\\" TrdTyp=\\\"1\\\" CustCpcty=\\\"2\\\" AvgPxInd=\\\"0\\\" Side=\\\"2\\\" PxTyp=\\\"2\\\" AvgPx=\\\"100\\\" TrdDt=\\\"2023-01-02\\\" TxnTm=\\\"2023-02-21T00:12:55.138-6:00\\\"><Hdr SID=\\\"MGEX\\\" TID=\\\"B509\\\" PosDup=\\\"N\\\" PosRsnd=\\\"Y\\\" Snt=\\\"2023-02-21T00:12:55.160-6:00\\\"></Hdr><OrdAlloc ClOrdID=\\\"123\\\"></OrdAlloc><Instrmt ID=\\\"LM\\\" CFI=\\\"MKLPON\\\" MMY=\\\"202307\\\" MatDt=\\\"2023-07-26\\\" Exch=\\\"HDPL\\\"></Instrmt><Pty ID=\\\"MGEX\\\" R=\\\"21\\\"></Pty><Pty ID=\\\"210\\\" R=\\\"1\\\"></Pty><Pty ID=\\\"210\\\" R=\\\"4\\\"></Pty><Pty ID=\\\"Emira-115\\\" R=\\\"24\\\"><Sub ID=\\\"1\\\" Typ=\\\"26\\\"></Sub></Pty><Alloc Qty=\\\"12.0\\\" IndAllocID=\\\"4al98\\\" IndAllocID2=\\\"14051000005\\\" CustCpcty=\\\"4\\\" Txt=\\\"This is a note.\\\"><Pty ID=\\\"MGEX\\\" R=\\\"21\\\"></Pty><Pty ID=\\\"162\\\" R=\\\"1\\\"></Pty><Pty ID=\\\"162\\\" R=\\\"4\\\"></Pty><Pty ID=\\\"CUSTACT6\\\" R=\\\"24\\\"><Sub ID=\\\"2\\\" Typ=\\\"26\\\"></Sub></Pty></Alloc></AllocRpt>\",\n          \"<AllocRpt RptID=\\\"280201\\\" ID=\\\"1982727660015544060@HDPL&gt;22602077771GR@20221221\\\" TransTyp=\\\"0\\\" GrpID=\\\"22602077771\\\" RptTyp=\\\"15\\\" Stat=\\\"6\\\" BizDt=\\\"2023-01-06\\\" TrdTyp=\\\"20\\\" CustCpcty=\\\"2\\\" AvgPxInd=\\\"0\\\" Side=\\\"2\\\" PxTyp=\\\"2\\\" AvgPx=\\\"250.45\\\" TrdDt=\\\"2022-12-21\\\" TxnTm=\\\"2023-02-21T00:12:55.138-7:00\\\"><Hdr SID=\\\"MGEX\\\" TID=\\\"TL98\\\" PosDup=\\\"N\\\" PosRsnd=\\\"Y\\\" Snt=\\\"2023-02-21T00:12:55.160-7:00\\\"></Hdr><OrdAlloc ClOrdID=\\\"245BTN\\\"></OrdAlloc><Instrmt ID=\\\"B\\\" CFI=\\\"APYBKL\\\" MMY=\\\"202310\\\" MatDt=\\\"2023-10-1\\\" Exch=\\\"HDPL\\\"></Instrmt><Pty ID=\\\"MGEX\\\" R=\\\"21\\\"></Pty><Pty ID=\\\"210\\\" R=\\\"1\\\"></Pty><Pty ID=\\\"210\\\" R=\\\"4\\\"></Pty><Pty ID=\\\"ahmed\\\" R=\\\"24\\\"><Sub ID=\\\"1\\\" Typ=\\\"26\\\"></Sub></Pty><Alloc Qty=\\\"48.0\\\" IndAllocID=\\\"36617\\\" IndAllocID2=\\\"14051000005\\\" CustCpcty=\\\"4\\\" Txt=\\\"notes\\\"><Pty ID=\\\"MGEX\\\" R=\\\"21\\\"></Pty><Pty ID=\\\"128\\\" R=\\\"1\\\"></Pty><Pty ID=\\\"128\\\" R=\\\"4\\\"></Pty><Pty ID=\\\"Hassen\\\" R=\\\"24\\\"><Sub ID=\\\"2\\\" Typ=\\\"26\\\"></Sub></Pty></Alloc></AllocRpt>\",\n          \"<AllocRpt RptID=\\\"280201\\\" ID=\\\"2222060727408200763@SNTL&gt;14680325659GR@20230105\\\" TransTyp=\\\"0\\\" GrpID=\\\"14680325659\\\" RptTyp=\\\"15\\\" Stat=\\\"6\\\" BizDt=\\\"2023-02-05\\\" TrdTyp=\\\"1\\\" CustCpcty=\\\"3\\\" AvgPxInd=\\\"0\\\" Side=\\\"2\\\" PxTyp=\\\"2\\\" AvgPx=\\\"370\\\" TrdDt=\\\"2023-01-05\\\" TxnTm=\\\"2023-02-15T00:12:55.138-7:00\\\"><Hdr SID=\\\"MGEX\\\" TID=\\\"D210\\\" PosDup=\\\"Y\\\" PosRsnd=\\\"N\\\" Snt=\\\"2023-02-15T00:12:55.160-7:00\\\"></Hdr><OrdAlloc ClOrdID=\\\"145\\\"></OrdAlloc><Instrmt ID=\\\"BUS\\\" CFI=\\\"APYBKL\\\" MMY=\\\"202305\\\" MatDt=\\\"2023-05-16\\\" Exch=\\\"SNTL\\\"></Instrmt><Pty ID=\\\"MGEX\\\" R=\\\"21\\\"></Pty><Pty ID=\\\"210\\\" R=\\\"1\\\"></Pty><Pty ID=\\\"210\\\" R=\\\"4\\\"></Pty><Pty ID=\\\"Emira-115\\\" R=\\\"24\\\"><Sub ID=\\\"1\\\" Typ=\\\"26\\\"></Sub></Pty><Alloc Qty=\\\"49.0\\\" IndAllocID=\\\"36617\\\" IndAllocID2=\\\"14051000005\\\" CustCpcty=\\\"4\\\" Txt=\\\"some notes\\\"><Pty ID=\\\"MGEX\\\" R=\\\"21\\\"></Pty><Pty ID=\\\"100\\\" R=\\\"1\\\"></Pty><Pty ID=\\\"100\\\" R=\\\"4\\\"></Pty><Pty ID=\\\"00120007\\\" R=\\\"24\\\"><Sub ID=\\\"2\\\" Typ=\\\"26\\\"></Sub></Pty></Alloc></AllocRpt>\"\n        ],\n        \"semantic_type\": \"\",\n        \"description\": \"\"\n      }\n    },\n    {\n      \"column\": \"input_message\",\n      \"properties\": {\n        \"dtype\": \"string\",\n        \"num_unique_values\": 1000,\n        \"samples\": [\n          \"<TrdCaptRpt RptID=\\\"191960\\\" TrdID=\\\"32970704462\\\" TransTyp=\\\"0\\\" RptTyp=\\\"2\\\" TrdTyp=\\\"1\\\" MtchID=\\\"30676726771\\\" PxTyp=\\\"2\\\" LastQty=\\\"12\\\" LastPx=\\\"100\\\" TrdDt=\\\"2023-01-02\\\" BizDt=\\\"2023-01-20\\\" TxnTm=\\\"2023-02-21T05:17:30.230-6:00\\\"><Hdr SID=\\\"MGEX\\\" TID=\\\"B509\\\" PosDup=\\\"N\\\" PosRsnd=\\\"Y\\\" Snt=\\\"2023-02-21T05:17:30.470-6:00\\\"></Hdr><Instrmt Sym=\\\"BUI\\\" ID=\\\"LM\\\" Src=\\\"H\\\" CFI=\\\"MKLPON\\\" MMY=\\\"202307\\\" MatDt=\\\"2023-07-26\\\" Mult=\\\"0.3\\\" Exch=\\\"HDPL\\\"></Instrmt><RptSide Side=\\\"1\\\" Ccy=\\\"USD\\\" InptSrc=\\\"SY\\\" InptDev=\\\"API\\\" CustCpcty=\\\"2\\\" PosEfct=\\\"C\\\" ClOrdID=\\\"123\\\" MLegRptTyp=\\\"1\\\" AllocInd=\\\"0\\\"><Pty ID=\\\"MGEX\\\" R=\\\"21\\\"></Pty><Pty ID=\\\"210\\\" R=\\\"1\\\"></Pty><Pty ID=\\\"218\\\" R=\\\"4\\\"></Pty><Pty ID=\\\"Emira-115\\\" R=\\\"24\\\"><Sub ID=\\\"1\\\" Typ=\\\"26\\\"></Sub></Pty><Pty ID=\\\"100\\\" R=\\\"12\\\"></Pty><TrdRegTS TS=\\\"2023-02-21T05:17:30.230-6:00\\\" Typ=\\\"1\\\"></TrdRegTS></RptSide></TrdCaptRpt> <AllocInstrctn Qty=\\\"12.0\\\" BizDt=\\\"2023-01-20\\\" TrdDt=\\\"2023-01-02\\\" TxnTm=\\\"2023-02-21T14:30:55.600-6:00\\\" Side=\\\"1\\\" ID=\\\"1445202794059462080@HDPL&gt;17323070172GR@20230102\\\" TransTyp=\\\"0\\\" Typ=\\\"17\\\" GrpID=\\\"17323070172\\\"><Alloc CustCpcty=\\\"4\\\" IndAllocID=\\\"4al98\\\" Txt=\\\"This is a note.\\\" Qty=\\\"12.0\\\"><Pty ID=\\\"CUSTACT6\\\" R=\\\"24\\\"><Sub ID=\\\"2\\\" Typ=\\\"26\\\" /></Pty><Pty ID=\\\"162\\\" R=\\\"1\\\" /><Pty ID=\\\"XMGE\\\" R=\\\"21\\\" /></Alloc></AllocInstrctn>\",\n          \"<TrdCaptRpt RptID=\\\"85918\\\" TrdID=\\\"23014216351\\\" TransTyp=\\\"0\\\" RptTyp=\\\"2\\\" TrdTyp=\\\"20\\\" MtchID=\\\"26445948990\\\" PxTyp=\\\"2\\\" LastQty=\\\"48\\\" LastPx=\\\"250.45\\\" TrdDt=\\\"2022-12-21\\\" BizDt=\\\"2023-01-06\\\" TxnTm=\\\"2023-02-21T13:40:55.100-7:00\\\"><Hdr SID=\\\"MGEX\\\" TID=\\\"TL98\\\" PosDup=\\\"N\\\" PosRsnd=\\\"Y\\\" Snt=\\\"2023-02-21T13:40:55.350-7:00\\\"></Hdr><Instrmt Sym=\\\"ABP\\\" ID=\\\"B\\\" Src=\\\"H\\\" CFI=\\\"APYBKL\\\" MMY=\\\"202310\\\" MatDt=\\\"2023-10-1\\\" Mult=\\\"0.3\\\" Exch=\\\"HDPL\\\"></Instrmt><RptSide Side=\\\"1\\\" Ccy=\\\"USD\\\" InptSrc=\\\"SY\\\" InptDev=\\\"API\\\" CustCpcty=\\\"2\\\" PosEfct=\\\"C\\\" ClOrdID=\\\"245BTN\\\" MLegRptTyp=\\\"1\\\" AllocInd=\\\"1\\\"><Pty ID=\\\"MGEX\\\" R=\\\"21\\\"></Pty><Pty ID=\\\"210\\\" R=\\\"1\\\"></Pty><Pty ID=\\\"274\\\" R=\\\"4\\\"></Pty><Pty ID=\\\"ahmed\\\" R=\\\"24\\\"><Sub ID=\\\"1\\\" Typ=\\\"26\\\"></Sub></Pty><Pty ID=\\\"200\\\" R=\\\"12\\\"></Pty><TrdRegTS TS=\\\"2023-02-21T13:40:55.100-7:00\\\" Typ=\\\"1\\\"></TrdRegTS></RptSide></TrdCaptRpt> <AllocInstrctn Qty=\\\"48.0\\\" BizDt=\\\"2023-01-06\\\" TrdDt=\\\"2022-12-21\\\" TxnTm=\\\"2023-02-21T17:03:12.436-7:00\\\" Side=\\\"1\\\" ID=\\\"1982727660015544060@HDPL&gt;22602077771GR@20221221\\\" TransTyp=\\\"0\\\" Typ=\\\"17\\\" GrpID=\\\"22602077771\\\"><Alloc CustCpcty=\\\"4\\\" IndAllocID=\\\"36617\\\" Txt=\\\"notes\\\" Qty=\\\"48.0\\\"><Pty ID=\\\"Hassen\\\" R=\\\"24\\\"><Sub ID=\\\"2\\\" Typ=\\\"26\\\" /></Pty><Pty ID=\\\"128\\\" R=\\\"1\\\" /><Pty ID=\\\"XMGE\\\" R=\\\"21\\\" /></Alloc></AllocInstrctn>\",\n          \"<TrdCaptRpt RptID=\\\"8623\\\" TrdID=\\\"37555202419\\\" TransTyp=\\\"0\\\" RptTyp=\\\"2\\\" TrdTyp=\\\"1\\\" MtchID=\\\"25677354122\\\" PxTyp=\\\"2\\\" LastQty=\\\"49\\\" LastPx=\\\"370\\\" TrdDt=\\\"2023-01-05\\\" BizDt=\\\"2023-02-05\\\" TxnTm=\\\"2023-02-15T12:25:13.230-7:00\\\"><Hdr SID=\\\"MGEX\\\" TID=\\\"D210\\\" PosDup=\\\"Y\\\" PosRsnd=\\\"N\\\" Snt=\\\"2023-02-15T12:25:13.768-7:00\\\"></Hdr><Instrmt Sym=\\\"BUI\\\" ID=\\\"BUS\\\" Src=\\\"H\\\" CFI=\\\"APYBKL\\\" MMY=\\\"202305\\\" MatDt=\\\"2023-05-16\\\" Mult=\\\"0.4\\\" Exch=\\\"SNTL\\\"></Instrmt><RptSide Side=\\\"2\\\" Ccy=\\\"USD\\\" InptSrc=\\\"EL\\\" InptDev=\\\"PORTAL\\\" CustCpcty=\\\"3\\\" PosEfct=\\\"C\\\" ClOrdID=\\\"145\\\" MLegRptTyp=\\\"2\\\" AllocInd=\\\"1\\\"><Pty ID=\\\"MGEX\\\" R=\\\"21\\\"></Pty><Pty ID=\\\"210\\\" R=\\\"1\\\"></Pty><Pty ID=\\\"262\\\" R=\\\"4\\\"></Pty><Pty ID=\\\"Emira-115\\\" R=\\\"24\\\"><Sub ID=\\\"1\\\" Typ=\\\"26\\\"></Sub></Pty><Pty ID=\\\"A123\\\" R=\\\"12\\\"></Pty><TrdRegTS TS=\\\"2023-02-15T12:25:13.230-7:00\\\" Typ=\\\"1\\\"></TrdRegTS></RptSide></TrdCaptRpt> <AllocInstrctn Qty=\\\"49.0\\\" BizDt=\\\"2023-02-05\\\" TrdDt=\\\"2023-01-05\\\" TxnTm=\\\"2023-02-15T14:30:55.600-7:00\\\" Side=\\\"2\\\" ID=\\\"2222060727408200763@SNTL&gt;14680325659GR@20230105\\\" TransTyp=\\\"0\\\" Typ=\\\"17\\\" GrpID=\\\"14680325659\\\"><Alloc CustCpcty=\\\"4\\\" IndAllocID=\\\"36617\\\" Txt=\\\"some notes\\\" Qty=\\\"49.0\\\"><Pty ID=\\\"00120007\\\" R=\\\"24\\\"><Sub ID=\\\"2\\\" Typ=\\\"26\\\" /></Pty><Pty ID=\\\"100\\\" R=\\\"1\\\" /><Pty ID=\\\"XMGE\\\" R=\\\"21\\\" /></Alloc></AllocInstrctn>\"\n        ],\n        \"semantic_type\": \"\",\n        \"description\": \"\"\n      }\n    }\n  ]\n}"
            }
          },
          "metadata": {},
          "execution_count": 109
        }
      ]
    },
    {
      "cell_type": "code",
      "source": [
        "df1['input_message'].iloc[0]"
      ],
      "metadata": {
        "colab": {
          "base_uri": "https://localhost:8080/",
          "height": 140
        },
        "id": "aZ234KmjB_D0",
        "outputId": "23b94ec8-aa89-4ec9-cde9-4e3abe16a493"
      },
      "execution_count": null,
      "outputs": [
        {
          "output_type": "execute_result",
          "data": {
            "text/plain": [
              "'<TrdCaptRpt RptID=\"55358\" TrdID=\"32861199879\" TransTyp=\"0\" RptTyp=\"2\" TrdTyp=\"20\" MtchID=\"21983195132\" PxTyp=\"2\" LastQty=\"80\" LastPx=\"100\" TrdDt=\"2022-12-21\" BizDt=\"2023-01-11\" TxnTm=\"2023-02-21T05:17:30.230-5:00\"><Hdr SID=\"MGEX\" TID=\"D210\" PosDup=\"N\" PosRsnd=\"Y\" Snt=\"2023-02-21T05:17:30.768-5:00\"></Hdr><Instrmt Sym=\"TMP\" ID=\"B\" Src=\"H\" CFI=\"MKLPON\" MMY=\"202310\" MatDt=\"2023-10-8\" Mult=\"0.1\" Exch=\"BTNL\"></Instrmt><RptSide Side=\"1\" Ccy=\"USD\" InptSrc=\"MA\" InptDev=\"PORTAL\" CustCpcty=\"4\" PosEfct=\"C\" ClOrdID=\"123\" MLegRptTyp=\"1\" AllocInd=\"1\"><Pty ID=\"MGEX\" R=\"21\"></Pty><Pty ID=\"210\" R=\"1\"></Pty><Pty ID=\"462\" R=\"4\"></Pty><Pty ID=\"bl-NL\" R=\"24\"><Sub ID=\"1\" Typ=\"26\"></Sub></Pty><Pty ID=\"400\" R=\"12\"></Pty><TrdRegTS TS=\"2023-02-21T05:17:30.230-5:00\" Typ=\"1\"></TrdRegTS></RptSide></TrdCaptRpt> <AllocInstrctn Qty=\"80.0\" BizDt=\"2023-01-11\" TrdDt=\"2022-12-21\" TxnTm=\"2023-02-21T15:33:05.333-5:00\" Side=\"1\" ID=\"1228472040614781036@BTNL&gt;20038313606GR@20221221\" TransTyp=\"0\" Typ=\"17\" GrpID=\"20038313606\"><Alloc CustCpcty=\"3\" IndAllocID=\"4al98\" Txt=\"some notes\" Qty=\"80.0\"><Pty ID=\"CUSTACT6\" R=\"24\"><Sub ID=\"2\" Typ=\"26\" /></Pty><Pty ID=\"106\" R=\"1\" /><Pty ID=\"XMGE\" R=\"21\" /></Alloc></AllocInstrctn>'"
            ],
            "application/vnd.google.colaboratory.intrinsic+json": {
              "type": "string"
            }
          },
          "metadata": {},
          "execution_count": 110
        }
      ]
    },
    {
      "cell_type": "markdown",
      "source": [
        "**Cleaning the input_message by removing certain special characters (<, \\ ,\", /) and Replacing > with a space**"
      ],
      "metadata": {
        "id": "t0zFI8h5KGar"
      }
    },
    {
      "cell_type": "code",
      "source": [
        "import re"
      ],
      "metadata": {
        "id": "jbEK2znpCCYr"
      },
      "execution_count": null,
      "outputs": []
    },
    {
      "cell_type": "code",
      "source": [
        "def clean_sequence(input_text):\n",
        "    pattern = r'[<\\\"/]'\n",
        "    cleaned_seq1 = re.sub(pattern, '', input_text)\n",
        "    cleaned_seq = cleaned_seq1.replace('>',' ')\n",
        "    return cleaned_seq"
      ],
      "metadata": {
        "id": "RIrz3iIQCFOM"
      },
      "execution_count": null,
      "outputs": []
    },
    {
      "cell_type": "code",
      "source": [
        "df2 = df1.copy()"
      ],
      "metadata": {
        "id": "djfIPKw-CJ5K"
      },
      "execution_count": null,
      "outputs": []
    },
    {
      "cell_type": "code",
      "source": [
        "df2['cleaned_input_message'] = df2['input_message'].apply(clean_sequence)\n",
        "df2 = df2.drop('input_message',axis=1)"
      ],
      "metadata": {
        "id": "Xf8FixWBCMhz"
      },
      "execution_count": null,
      "outputs": []
    },
    {
      "cell_type": "code",
      "source": [
        "df2.head()"
      ],
      "metadata": {
        "colab": {
          "base_uri": "https://localhost:8080/",
          "height": 206
        },
        "id": "6W0hb4OnCQCT",
        "outputId": "e1293eda-21aa-4768-f5d1-a744efc0247e"
      },
      "execution_count": null,
      "outputs": [
        {
          "output_type": "execute_result",
          "data": {
            "text/plain": [
              "                                         CCP_Message  \\\n",
              "0  <AllocRpt RptID=\"280201\" ID=\"12284720406147810...   \n",
              "1  <AllocRpt RptID=\"280201\" ID=\"24377961690289350...   \n",
              "2  <AllocRpt RptID=\"280201\" ID=\"26076103164846849...   \n",
              "3  <AllocRpt RptID=\"280201\" ID=\"19464235208152197...   \n",
              "4  <AllocRpt RptID=\"280201\" ID=\"12694049933053441...   \n",
              "\n",
              "                               cleaned_input_message  \n",
              "0  TrdCaptRpt RptID=55358 TrdID=32861199879 Trans...  \n",
              "1  TrdCaptRpt RptID=4682 TrdID=35318659463 TransT...  \n",
              "2  TrdCaptRpt RptID=84652 TrdID=29988339415 Trans...  \n",
              "3  TrdCaptRpt RptID=1954 TrdID=28103844021 TransT...  \n",
              "4  TrdCaptRpt RptID=165869 TrdID=25872245128 Tran...  "
            ],
            "text/html": [
              "\n",
              "  <div id=\"df-2fd4661c-b9b7-41ac-84c4-0c7ea7280f30\" class=\"colab-df-container\">\n",
              "    <div>\n",
              "<style scoped>\n",
              "    .dataframe tbody tr th:only-of-type {\n",
              "        vertical-align: middle;\n",
              "    }\n",
              "\n",
              "    .dataframe tbody tr th {\n",
              "        vertical-align: top;\n",
              "    }\n",
              "\n",
              "    .dataframe thead th {\n",
              "        text-align: right;\n",
              "    }\n",
              "</style>\n",
              "<table border=\"1\" class=\"dataframe\">\n",
              "  <thead>\n",
              "    <tr style=\"text-align: right;\">\n",
              "      <th></th>\n",
              "      <th>CCP_Message</th>\n",
              "      <th>cleaned_input_message</th>\n",
              "    </tr>\n",
              "  </thead>\n",
              "  <tbody>\n",
              "    <tr>\n",
              "      <th>0</th>\n",
              "      <td>&lt;AllocRpt RptID=\"280201\" ID=\"12284720406147810...</td>\n",
              "      <td>TrdCaptRpt RptID=55358 TrdID=32861199879 Trans...</td>\n",
              "    </tr>\n",
              "    <tr>\n",
              "      <th>1</th>\n",
              "      <td>&lt;AllocRpt RptID=\"280201\" ID=\"24377961690289350...</td>\n",
              "      <td>TrdCaptRpt RptID=4682 TrdID=35318659463 TransT...</td>\n",
              "    </tr>\n",
              "    <tr>\n",
              "      <th>2</th>\n",
              "      <td>&lt;AllocRpt RptID=\"280201\" ID=\"26076103164846849...</td>\n",
              "      <td>TrdCaptRpt RptID=84652 TrdID=29988339415 Trans...</td>\n",
              "    </tr>\n",
              "    <tr>\n",
              "      <th>3</th>\n",
              "      <td>&lt;AllocRpt RptID=\"280201\" ID=\"19464235208152197...</td>\n",
              "      <td>TrdCaptRpt RptID=1954 TrdID=28103844021 TransT...</td>\n",
              "    </tr>\n",
              "    <tr>\n",
              "      <th>4</th>\n",
              "      <td>&lt;AllocRpt RptID=\"280201\" ID=\"12694049933053441...</td>\n",
              "      <td>TrdCaptRpt RptID=165869 TrdID=25872245128 Tran...</td>\n",
              "    </tr>\n",
              "  </tbody>\n",
              "</table>\n",
              "</div>\n",
              "    <div class=\"colab-df-buttons\">\n",
              "\n",
              "  <div class=\"colab-df-container\">\n",
              "    <button class=\"colab-df-convert\" onclick=\"convertToInteractive('df-2fd4661c-b9b7-41ac-84c4-0c7ea7280f30')\"\n",
              "            title=\"Convert this dataframe to an interactive table.\"\n",
              "            style=\"display:none;\">\n",
              "\n",
              "  <svg xmlns=\"http://www.w3.org/2000/svg\" height=\"24px\" viewBox=\"0 -960 960 960\">\n",
              "    <path d=\"M120-120v-720h720v720H120Zm60-500h600v-160H180v160Zm220 220h160v-160H400v160Zm0 220h160v-160H400v160ZM180-400h160v-160H180v160Zm440 0h160v-160H620v160ZM180-180h160v-160H180v160Zm440 0h160v-160H620v160Z\"/>\n",
              "  </svg>\n",
              "    </button>\n",
              "\n",
              "  <style>\n",
              "    .colab-df-container {\n",
              "      display:flex;\n",
              "      gap: 12px;\n",
              "    }\n",
              "\n",
              "    .colab-df-convert {\n",
              "      background-color: #E8F0FE;\n",
              "      border: none;\n",
              "      border-radius: 50%;\n",
              "      cursor: pointer;\n",
              "      display: none;\n",
              "      fill: #1967D2;\n",
              "      height: 32px;\n",
              "      padding: 0 0 0 0;\n",
              "      width: 32px;\n",
              "    }\n",
              "\n",
              "    .colab-df-convert:hover {\n",
              "      background-color: #E2EBFA;\n",
              "      box-shadow: 0px 1px 2px rgba(60, 64, 67, 0.3), 0px 1px 3px 1px rgba(60, 64, 67, 0.15);\n",
              "      fill: #174EA6;\n",
              "    }\n",
              "\n",
              "    .colab-df-buttons div {\n",
              "      margin-bottom: 4px;\n",
              "    }\n",
              "\n",
              "    [theme=dark] .colab-df-convert {\n",
              "      background-color: #3B4455;\n",
              "      fill: #D2E3FC;\n",
              "    }\n",
              "\n",
              "    [theme=dark] .colab-df-convert:hover {\n",
              "      background-color: #434B5C;\n",
              "      box-shadow: 0px 1px 3px 1px rgba(0, 0, 0, 0.15);\n",
              "      filter: drop-shadow(0px 1px 2px rgba(0, 0, 0, 0.3));\n",
              "      fill: #FFFFFF;\n",
              "    }\n",
              "  </style>\n",
              "\n",
              "    <script>\n",
              "      const buttonEl =\n",
              "        document.querySelector('#df-2fd4661c-b9b7-41ac-84c4-0c7ea7280f30 button.colab-df-convert');\n",
              "      buttonEl.style.display =\n",
              "        google.colab.kernel.accessAllowed ? 'block' : 'none';\n",
              "\n",
              "      async function convertToInteractive(key) {\n",
              "        const element = document.querySelector('#df-2fd4661c-b9b7-41ac-84c4-0c7ea7280f30');\n",
              "        const dataTable =\n",
              "          await google.colab.kernel.invokeFunction('convertToInteractive',\n",
              "                                                    [key], {});\n",
              "        if (!dataTable) return;\n",
              "\n",
              "        const docLinkHtml = 'Like what you see? Visit the ' +\n",
              "          '<a target=\"_blank\" href=https://colab.research.google.com/notebooks/data_table.ipynb>data table notebook</a>'\n",
              "          + ' to learn more about interactive tables.';\n",
              "        element.innerHTML = '';\n",
              "        dataTable['output_type'] = 'display_data';\n",
              "        await google.colab.output.renderOutput(dataTable, element);\n",
              "        const docLink = document.createElement('div');\n",
              "        docLink.innerHTML = docLinkHtml;\n",
              "        element.appendChild(docLink);\n",
              "      }\n",
              "    </script>\n",
              "  </div>\n",
              "\n",
              "\n",
              "<div id=\"df-e1941e18-ec0d-450b-b636-65ca0439678a\">\n",
              "  <button class=\"colab-df-quickchart\" onclick=\"quickchart('df-e1941e18-ec0d-450b-b636-65ca0439678a')\"\n",
              "            title=\"Suggest charts\"\n",
              "            style=\"display:none;\">\n",
              "\n",
              "<svg xmlns=\"http://www.w3.org/2000/svg\" height=\"24px\"viewBox=\"0 0 24 24\"\n",
              "     width=\"24px\">\n",
              "    <g>\n",
              "        <path d=\"M19 3H5c-1.1 0-2 .9-2 2v14c0 1.1.9 2 2 2h14c1.1 0 2-.9 2-2V5c0-1.1-.9-2-2-2zM9 17H7v-7h2v7zm4 0h-2V7h2v10zm4 0h-2v-4h2v4z\"/>\n",
              "    </g>\n",
              "</svg>\n",
              "  </button>\n",
              "\n",
              "<style>\n",
              "  .colab-df-quickchart {\n",
              "      --bg-color: #E8F0FE;\n",
              "      --fill-color: #1967D2;\n",
              "      --hover-bg-color: #E2EBFA;\n",
              "      --hover-fill-color: #174EA6;\n",
              "      --disabled-fill-color: #AAA;\n",
              "      --disabled-bg-color: #DDD;\n",
              "  }\n",
              "\n",
              "  [theme=dark] .colab-df-quickchart {\n",
              "      --bg-color: #3B4455;\n",
              "      --fill-color: #D2E3FC;\n",
              "      --hover-bg-color: #434B5C;\n",
              "      --hover-fill-color: #FFFFFF;\n",
              "      --disabled-bg-color: #3B4455;\n",
              "      --disabled-fill-color: #666;\n",
              "  }\n",
              "\n",
              "  .colab-df-quickchart {\n",
              "    background-color: var(--bg-color);\n",
              "    border: none;\n",
              "    border-radius: 50%;\n",
              "    cursor: pointer;\n",
              "    display: none;\n",
              "    fill: var(--fill-color);\n",
              "    height: 32px;\n",
              "    padding: 0;\n",
              "    width: 32px;\n",
              "  }\n",
              "\n",
              "  .colab-df-quickchart:hover {\n",
              "    background-color: var(--hover-bg-color);\n",
              "    box-shadow: 0 1px 2px rgba(60, 64, 67, 0.3), 0 1px 3px 1px rgba(60, 64, 67, 0.15);\n",
              "    fill: var(--button-hover-fill-color);\n",
              "  }\n",
              "\n",
              "  .colab-df-quickchart-complete:disabled,\n",
              "  .colab-df-quickchart-complete:disabled:hover {\n",
              "    background-color: var(--disabled-bg-color);\n",
              "    fill: var(--disabled-fill-color);\n",
              "    box-shadow: none;\n",
              "  }\n",
              "\n",
              "  .colab-df-spinner {\n",
              "    border: 2px solid var(--fill-color);\n",
              "    border-color: transparent;\n",
              "    border-bottom-color: var(--fill-color);\n",
              "    animation:\n",
              "      spin 1s steps(1) infinite;\n",
              "  }\n",
              "\n",
              "  @keyframes spin {\n",
              "    0% {\n",
              "      border-color: transparent;\n",
              "      border-bottom-color: var(--fill-color);\n",
              "      border-left-color: var(--fill-color);\n",
              "    }\n",
              "    20% {\n",
              "      border-color: transparent;\n",
              "      border-left-color: var(--fill-color);\n",
              "      border-top-color: var(--fill-color);\n",
              "    }\n",
              "    30% {\n",
              "      border-color: transparent;\n",
              "      border-left-color: var(--fill-color);\n",
              "      border-top-color: var(--fill-color);\n",
              "      border-right-color: var(--fill-color);\n",
              "    }\n",
              "    40% {\n",
              "      border-color: transparent;\n",
              "      border-right-color: var(--fill-color);\n",
              "      border-top-color: var(--fill-color);\n",
              "    }\n",
              "    60% {\n",
              "      border-color: transparent;\n",
              "      border-right-color: var(--fill-color);\n",
              "    }\n",
              "    80% {\n",
              "      border-color: transparent;\n",
              "      border-right-color: var(--fill-color);\n",
              "      border-bottom-color: var(--fill-color);\n",
              "    }\n",
              "    90% {\n",
              "      border-color: transparent;\n",
              "      border-bottom-color: var(--fill-color);\n",
              "    }\n",
              "  }\n",
              "</style>\n",
              "\n",
              "  <script>\n",
              "    async function quickchart(key) {\n",
              "      const quickchartButtonEl =\n",
              "        document.querySelector('#' + key + ' button');\n",
              "      quickchartButtonEl.disabled = true;  // To prevent multiple clicks.\n",
              "      quickchartButtonEl.classList.add('colab-df-spinner');\n",
              "      try {\n",
              "        const charts = await google.colab.kernel.invokeFunction(\n",
              "            'suggestCharts', [key], {});\n",
              "      } catch (error) {\n",
              "        console.error('Error during call to suggestCharts:', error);\n",
              "      }\n",
              "      quickchartButtonEl.classList.remove('colab-df-spinner');\n",
              "      quickchartButtonEl.classList.add('colab-df-quickchart-complete');\n",
              "    }\n",
              "    (() => {\n",
              "      let quickchartButtonEl =\n",
              "        document.querySelector('#df-e1941e18-ec0d-450b-b636-65ca0439678a button');\n",
              "      quickchartButtonEl.style.display =\n",
              "        google.colab.kernel.accessAllowed ? 'block' : 'none';\n",
              "    })();\n",
              "  </script>\n",
              "</div>\n",
              "\n",
              "    </div>\n",
              "  </div>\n"
            ],
            "application/vnd.google.colaboratory.intrinsic+json": {
              "type": "dataframe",
              "variable_name": "df2",
              "summary": "{\n  \"name\": \"df2\",\n  \"rows\": 1000,\n  \"fields\": [\n    {\n      \"column\": \"CCP_Message\",\n      \"properties\": {\n        \"dtype\": \"string\",\n        \"num_unique_values\": 1000,\n        \"samples\": [\n          \"<AllocRpt RptID=\\\"280201\\\" ID=\\\"1445202794059462080@HDPL&gt;17323070172GR@20230102\\\" TransTyp=\\\"0\\\" GrpID=\\\"17323070172\\\" RptTyp=\\\"15\\\" Stat=\\\"6\\\" BizDt=\\\"2023-01-20\\\" TrdTyp=\\\"1\\\" CustCpcty=\\\"2\\\" AvgPxInd=\\\"0\\\" Side=\\\"2\\\" PxTyp=\\\"2\\\" AvgPx=\\\"100\\\" TrdDt=\\\"2023-01-02\\\" TxnTm=\\\"2023-02-21T00:12:55.138-6:00\\\"><Hdr SID=\\\"MGEX\\\" TID=\\\"B509\\\" PosDup=\\\"N\\\" PosRsnd=\\\"Y\\\" Snt=\\\"2023-02-21T00:12:55.160-6:00\\\"></Hdr><OrdAlloc ClOrdID=\\\"123\\\"></OrdAlloc><Instrmt ID=\\\"LM\\\" CFI=\\\"MKLPON\\\" MMY=\\\"202307\\\" MatDt=\\\"2023-07-26\\\" Exch=\\\"HDPL\\\"></Instrmt><Pty ID=\\\"MGEX\\\" R=\\\"21\\\"></Pty><Pty ID=\\\"210\\\" R=\\\"1\\\"></Pty><Pty ID=\\\"210\\\" R=\\\"4\\\"></Pty><Pty ID=\\\"Emira-115\\\" R=\\\"24\\\"><Sub ID=\\\"1\\\" Typ=\\\"26\\\"></Sub></Pty><Alloc Qty=\\\"12.0\\\" IndAllocID=\\\"4al98\\\" IndAllocID2=\\\"14051000005\\\" CustCpcty=\\\"4\\\" Txt=\\\"This is a note.\\\"><Pty ID=\\\"MGEX\\\" R=\\\"21\\\"></Pty><Pty ID=\\\"162\\\" R=\\\"1\\\"></Pty><Pty ID=\\\"162\\\" R=\\\"4\\\"></Pty><Pty ID=\\\"CUSTACT6\\\" R=\\\"24\\\"><Sub ID=\\\"2\\\" Typ=\\\"26\\\"></Sub></Pty></Alloc></AllocRpt>\",\n          \"<AllocRpt RptID=\\\"280201\\\" ID=\\\"1982727660015544060@HDPL&gt;22602077771GR@20221221\\\" TransTyp=\\\"0\\\" GrpID=\\\"22602077771\\\" RptTyp=\\\"15\\\" Stat=\\\"6\\\" BizDt=\\\"2023-01-06\\\" TrdTyp=\\\"20\\\" CustCpcty=\\\"2\\\" AvgPxInd=\\\"0\\\" Side=\\\"2\\\" PxTyp=\\\"2\\\" AvgPx=\\\"250.45\\\" TrdDt=\\\"2022-12-21\\\" TxnTm=\\\"2023-02-21T00:12:55.138-7:00\\\"><Hdr SID=\\\"MGEX\\\" TID=\\\"TL98\\\" PosDup=\\\"N\\\" PosRsnd=\\\"Y\\\" Snt=\\\"2023-02-21T00:12:55.160-7:00\\\"></Hdr><OrdAlloc ClOrdID=\\\"245BTN\\\"></OrdAlloc><Instrmt ID=\\\"B\\\" CFI=\\\"APYBKL\\\" MMY=\\\"202310\\\" MatDt=\\\"2023-10-1\\\" Exch=\\\"HDPL\\\"></Instrmt><Pty ID=\\\"MGEX\\\" R=\\\"21\\\"></Pty><Pty ID=\\\"210\\\" R=\\\"1\\\"></Pty><Pty ID=\\\"210\\\" R=\\\"4\\\"></Pty><Pty ID=\\\"ahmed\\\" R=\\\"24\\\"><Sub ID=\\\"1\\\" Typ=\\\"26\\\"></Sub></Pty><Alloc Qty=\\\"48.0\\\" IndAllocID=\\\"36617\\\" IndAllocID2=\\\"14051000005\\\" CustCpcty=\\\"4\\\" Txt=\\\"notes\\\"><Pty ID=\\\"MGEX\\\" R=\\\"21\\\"></Pty><Pty ID=\\\"128\\\" R=\\\"1\\\"></Pty><Pty ID=\\\"128\\\" R=\\\"4\\\"></Pty><Pty ID=\\\"Hassen\\\" R=\\\"24\\\"><Sub ID=\\\"2\\\" Typ=\\\"26\\\"></Sub></Pty></Alloc></AllocRpt>\",\n          \"<AllocRpt RptID=\\\"280201\\\" ID=\\\"2222060727408200763@SNTL&gt;14680325659GR@20230105\\\" TransTyp=\\\"0\\\" GrpID=\\\"14680325659\\\" RptTyp=\\\"15\\\" Stat=\\\"6\\\" BizDt=\\\"2023-02-05\\\" TrdTyp=\\\"1\\\" CustCpcty=\\\"3\\\" AvgPxInd=\\\"0\\\" Side=\\\"2\\\" PxTyp=\\\"2\\\" AvgPx=\\\"370\\\" TrdDt=\\\"2023-01-05\\\" TxnTm=\\\"2023-02-15T00:12:55.138-7:00\\\"><Hdr SID=\\\"MGEX\\\" TID=\\\"D210\\\" PosDup=\\\"Y\\\" PosRsnd=\\\"N\\\" Snt=\\\"2023-02-15T00:12:55.160-7:00\\\"></Hdr><OrdAlloc ClOrdID=\\\"145\\\"></OrdAlloc><Instrmt ID=\\\"BUS\\\" CFI=\\\"APYBKL\\\" MMY=\\\"202305\\\" MatDt=\\\"2023-05-16\\\" Exch=\\\"SNTL\\\"></Instrmt><Pty ID=\\\"MGEX\\\" R=\\\"21\\\"></Pty><Pty ID=\\\"210\\\" R=\\\"1\\\"></Pty><Pty ID=\\\"210\\\" R=\\\"4\\\"></Pty><Pty ID=\\\"Emira-115\\\" R=\\\"24\\\"><Sub ID=\\\"1\\\" Typ=\\\"26\\\"></Sub></Pty><Alloc Qty=\\\"49.0\\\" IndAllocID=\\\"36617\\\" IndAllocID2=\\\"14051000005\\\" CustCpcty=\\\"4\\\" Txt=\\\"some notes\\\"><Pty ID=\\\"MGEX\\\" R=\\\"21\\\"></Pty><Pty ID=\\\"100\\\" R=\\\"1\\\"></Pty><Pty ID=\\\"100\\\" R=\\\"4\\\"></Pty><Pty ID=\\\"00120007\\\" R=\\\"24\\\"><Sub ID=\\\"2\\\" Typ=\\\"26\\\"></Sub></Pty></Alloc></AllocRpt>\"\n        ],\n        \"semantic_type\": \"\",\n        \"description\": \"\"\n      }\n    },\n    {\n      \"column\": \"cleaned_input_message\",\n      \"properties\": {\n        \"dtype\": \"string\",\n        \"num_unique_values\": 1000,\n        \"samples\": [\n          \"TrdCaptRpt RptID=191960 TrdID=32970704462 TransTyp=0 RptTyp=2 TrdTyp=1 MtchID=30676726771 PxTyp=2 LastQty=12 LastPx=100 TrdDt=2023-01-02 BizDt=2023-01-20 TxnTm=2023-02-21T05:17:30.230-6:00 Hdr SID=MGEX TID=B509 PosDup=N PosRsnd=Y Snt=2023-02-21T05:17:30.470-6:00 Hdr Instrmt Sym=BUI ID=LM Src=H CFI=MKLPON MMY=202307 MatDt=2023-07-26 Mult=0.3 Exch=HDPL Instrmt RptSide Side=1 Ccy=USD InptSrc=SY InptDev=API CustCpcty=2 PosEfct=C ClOrdID=123 MLegRptTyp=1 AllocInd=0 Pty ID=MGEX R=21 Pty Pty ID=210 R=1 Pty Pty ID=218 R=4 Pty Pty ID=Emira-115 R=24 Sub ID=1 Typ=26 Sub Pty Pty ID=100 R=12 Pty TrdRegTS TS=2023-02-21T05:17:30.230-6:00 Typ=1 TrdRegTS RptSide TrdCaptRpt  AllocInstrctn Qty=12.0 BizDt=2023-01-20 TrdDt=2023-01-02 TxnTm=2023-02-21T14:30:55.600-6:00 Side=1 ID=1445202794059462080@HDPL&gt;17323070172GR@20230102 TransTyp=0 Typ=17 GrpID=17323070172 Alloc CustCpcty=4 IndAllocID=4al98 Txt=This is a note. Qty=12.0 Pty ID=CUSTACT6 R=24 Sub ID=2 Typ=26  Pty Pty ID=162 R=1  Pty ID=XMGE R=21  Alloc AllocInstrctn \",\n          \"TrdCaptRpt RptID=85918 TrdID=23014216351 TransTyp=0 RptTyp=2 TrdTyp=20 MtchID=26445948990 PxTyp=2 LastQty=48 LastPx=250.45 TrdDt=2022-12-21 BizDt=2023-01-06 TxnTm=2023-02-21T13:40:55.100-7:00 Hdr SID=MGEX TID=TL98 PosDup=N PosRsnd=Y Snt=2023-02-21T13:40:55.350-7:00 Hdr Instrmt Sym=ABP ID=B Src=H CFI=APYBKL MMY=202310 MatDt=2023-10-1 Mult=0.3 Exch=HDPL Instrmt RptSide Side=1 Ccy=USD InptSrc=SY InptDev=API CustCpcty=2 PosEfct=C ClOrdID=245BTN MLegRptTyp=1 AllocInd=1 Pty ID=MGEX R=21 Pty Pty ID=210 R=1 Pty Pty ID=274 R=4 Pty Pty ID=ahmed R=24 Sub ID=1 Typ=26 Sub Pty Pty ID=200 R=12 Pty TrdRegTS TS=2023-02-21T13:40:55.100-7:00 Typ=1 TrdRegTS RptSide TrdCaptRpt  AllocInstrctn Qty=48.0 BizDt=2023-01-06 TrdDt=2022-12-21 TxnTm=2023-02-21T17:03:12.436-7:00 Side=1 ID=1982727660015544060@HDPL&gt;22602077771GR@20221221 TransTyp=0 Typ=17 GrpID=22602077771 Alloc CustCpcty=4 IndAllocID=36617 Txt=notes Qty=48.0 Pty ID=Hassen R=24 Sub ID=2 Typ=26  Pty Pty ID=128 R=1  Pty ID=XMGE R=21  Alloc AllocInstrctn \",\n          \"TrdCaptRpt RptID=8623 TrdID=37555202419 TransTyp=0 RptTyp=2 TrdTyp=1 MtchID=25677354122 PxTyp=2 LastQty=49 LastPx=370 TrdDt=2023-01-05 BizDt=2023-02-05 TxnTm=2023-02-15T12:25:13.230-7:00 Hdr SID=MGEX TID=D210 PosDup=Y PosRsnd=N Snt=2023-02-15T12:25:13.768-7:00 Hdr Instrmt Sym=BUI ID=BUS Src=H CFI=APYBKL MMY=202305 MatDt=2023-05-16 Mult=0.4 Exch=SNTL Instrmt RptSide Side=2 Ccy=USD InptSrc=EL InptDev=PORTAL CustCpcty=3 PosEfct=C ClOrdID=145 MLegRptTyp=2 AllocInd=1 Pty ID=MGEX R=21 Pty Pty ID=210 R=1 Pty Pty ID=262 R=4 Pty Pty ID=Emira-115 R=24 Sub ID=1 Typ=26 Sub Pty Pty ID=A123 R=12 Pty TrdRegTS TS=2023-02-15T12:25:13.230-7:00 Typ=1 TrdRegTS RptSide TrdCaptRpt  AllocInstrctn Qty=49.0 BizDt=2023-02-05 TrdDt=2023-01-05 TxnTm=2023-02-15T14:30:55.600-7:00 Side=2 ID=2222060727408200763@SNTL&gt;14680325659GR@20230105 TransTyp=0 Typ=17 GrpID=14680325659 Alloc CustCpcty=4 IndAllocID=36617 Txt=some notes Qty=49.0 Pty ID=00120007 R=24 Sub ID=2 Typ=26  Pty Pty ID=100 R=1  Pty ID=XMGE R=21  Alloc AllocInstrctn \"\n        ],\n        \"semantic_type\": \"\",\n        \"description\": \"\"\n      }\n    }\n  ]\n}"
            }
          },
          "metadata": {},
          "execution_count": 115
        }
      ]
    },
    {
      "cell_type": "code",
      "source": [
        "df2['cleaned_input_message'].iloc[0]"
      ],
      "metadata": {
        "colab": {
          "base_uri": "https://localhost:8080/",
          "height": 123
        },
        "id": "L2ieVS2iCR6m",
        "outputId": "e9f19cc7-bb47-46a1-cc16-29f4f884c55a"
      },
      "execution_count": null,
      "outputs": [
        {
          "output_type": "execute_result",
          "data": {
            "text/plain": [
              "'TrdCaptRpt RptID=55358 TrdID=32861199879 TransTyp=0 RptTyp=2 TrdTyp=20 MtchID=21983195132 PxTyp=2 LastQty=80 LastPx=100 TrdDt=2022-12-21 BizDt=2023-01-11 TxnTm=2023-02-21T05:17:30.230-5:00 Hdr SID=MGEX TID=D210 PosDup=N PosRsnd=Y Snt=2023-02-21T05:17:30.768-5:00 Hdr Instrmt Sym=TMP ID=B Src=H CFI=MKLPON MMY=202310 MatDt=2023-10-8 Mult=0.1 Exch=BTNL Instrmt RptSide Side=1 Ccy=USD InptSrc=MA InptDev=PORTAL CustCpcty=4 PosEfct=C ClOrdID=123 MLegRptTyp=1 AllocInd=1 Pty ID=MGEX R=21 Pty Pty ID=210 R=1 Pty Pty ID=462 R=4 Pty Pty ID=bl-NL R=24 Sub ID=1 Typ=26 Sub Pty Pty ID=400 R=12 Pty TrdRegTS TS=2023-02-21T05:17:30.230-5:00 Typ=1 TrdRegTS RptSide TrdCaptRpt  AllocInstrctn Qty=80.0 BizDt=2023-01-11 TrdDt=2022-12-21 TxnTm=2023-02-21T15:33:05.333-5:00 Side=1 ID=1228472040614781036@BTNL&gt;20038313606GR@20221221 TransTyp=0 Typ=17 GrpID=20038313606 Alloc CustCpcty=3 IndAllocID=4al98 Txt=some notes Qty=80.0 Pty ID=CUSTACT6 R=24 Sub ID=2 Typ=26  Pty Pty ID=106 R=1  Pty ID=XMGE R=21  Alloc AllocInstrctn '"
            ],
            "application/vnd.google.colaboratory.intrinsic+json": {
              "type": "string"
            }
          },
          "metadata": {},
          "execution_count": 116
        }
      ]
    },
    {
      "cell_type": "markdown",
      "source": [
        "**Splitting Data into Training and Validation Sets**"
      ],
      "metadata": {
        "id": "0D5Yh7QtKMhU"
      }
    },
    {
      "cell_type": "code",
      "source": [
        "train_data = df2.iloc[:int(len(df2) * 0.9)]\n",
        "val_data = df2.iloc[int(len(df2) * 0.9):]"
      ],
      "metadata": {
        "id": "giAXkZhrCVil"
      },
      "execution_count": null,
      "outputs": []
    },
    {
      "cell_type": "code",
      "source": [
        "train_data.shape"
      ],
      "metadata": {
        "colab": {
          "base_uri": "https://localhost:8080/"
        },
        "id": "BBzWdTklCYUk",
        "outputId": "0e482621-495e-4e2b-ba1a-09ab9b4ac874"
      },
      "execution_count": null,
      "outputs": [
        {
          "output_type": "execute_result",
          "data": {
            "text/plain": [
              "(900, 2)"
            ]
          },
          "metadata": {},
          "execution_count": 118
        }
      ]
    },
    {
      "cell_type": "code",
      "source": [
        "train_data.head()"
      ],
      "metadata": {
        "colab": {
          "base_uri": "https://localhost:8080/",
          "height": 206
        },
        "id": "E0Z9oR_NCaKb",
        "outputId": "71f37359-829e-403d-f316-614c71512877"
      },
      "execution_count": null,
      "outputs": [
        {
          "output_type": "execute_result",
          "data": {
            "text/plain": [
              "                                         CCP_Message  \\\n",
              "0  <AllocRpt RptID=\"280201\" ID=\"12284720406147810...   \n",
              "1  <AllocRpt RptID=\"280201\" ID=\"24377961690289350...   \n",
              "2  <AllocRpt RptID=\"280201\" ID=\"26076103164846849...   \n",
              "3  <AllocRpt RptID=\"280201\" ID=\"19464235208152197...   \n",
              "4  <AllocRpt RptID=\"280201\" ID=\"12694049933053441...   \n",
              "\n",
              "                               cleaned_input_message  \n",
              "0  TrdCaptRpt RptID=55358 TrdID=32861199879 Trans...  \n",
              "1  TrdCaptRpt RptID=4682 TrdID=35318659463 TransT...  \n",
              "2  TrdCaptRpt RptID=84652 TrdID=29988339415 Trans...  \n",
              "3  TrdCaptRpt RptID=1954 TrdID=28103844021 TransT...  \n",
              "4  TrdCaptRpt RptID=165869 TrdID=25872245128 Tran...  "
            ],
            "text/html": [
              "\n",
              "  <div id=\"df-63b35124-1732-4288-863e-4bfa84dd9784\" class=\"colab-df-container\">\n",
              "    <div>\n",
              "<style scoped>\n",
              "    .dataframe tbody tr th:only-of-type {\n",
              "        vertical-align: middle;\n",
              "    }\n",
              "\n",
              "    .dataframe tbody tr th {\n",
              "        vertical-align: top;\n",
              "    }\n",
              "\n",
              "    .dataframe thead th {\n",
              "        text-align: right;\n",
              "    }\n",
              "</style>\n",
              "<table border=\"1\" class=\"dataframe\">\n",
              "  <thead>\n",
              "    <tr style=\"text-align: right;\">\n",
              "      <th></th>\n",
              "      <th>CCP_Message</th>\n",
              "      <th>cleaned_input_message</th>\n",
              "    </tr>\n",
              "  </thead>\n",
              "  <tbody>\n",
              "    <tr>\n",
              "      <th>0</th>\n",
              "      <td>&lt;AllocRpt RptID=\"280201\" ID=\"12284720406147810...</td>\n",
              "      <td>TrdCaptRpt RptID=55358 TrdID=32861199879 Trans...</td>\n",
              "    </tr>\n",
              "    <tr>\n",
              "      <th>1</th>\n",
              "      <td>&lt;AllocRpt RptID=\"280201\" ID=\"24377961690289350...</td>\n",
              "      <td>TrdCaptRpt RptID=4682 TrdID=35318659463 TransT...</td>\n",
              "    </tr>\n",
              "    <tr>\n",
              "      <th>2</th>\n",
              "      <td>&lt;AllocRpt RptID=\"280201\" ID=\"26076103164846849...</td>\n",
              "      <td>TrdCaptRpt RptID=84652 TrdID=29988339415 Trans...</td>\n",
              "    </tr>\n",
              "    <tr>\n",
              "      <th>3</th>\n",
              "      <td>&lt;AllocRpt RptID=\"280201\" ID=\"19464235208152197...</td>\n",
              "      <td>TrdCaptRpt RptID=1954 TrdID=28103844021 TransT...</td>\n",
              "    </tr>\n",
              "    <tr>\n",
              "      <th>4</th>\n",
              "      <td>&lt;AllocRpt RptID=\"280201\" ID=\"12694049933053441...</td>\n",
              "      <td>TrdCaptRpt RptID=165869 TrdID=25872245128 Tran...</td>\n",
              "    </tr>\n",
              "  </tbody>\n",
              "</table>\n",
              "</div>\n",
              "    <div class=\"colab-df-buttons\">\n",
              "\n",
              "  <div class=\"colab-df-container\">\n",
              "    <button class=\"colab-df-convert\" onclick=\"convertToInteractive('df-63b35124-1732-4288-863e-4bfa84dd9784')\"\n",
              "            title=\"Convert this dataframe to an interactive table.\"\n",
              "            style=\"display:none;\">\n",
              "\n",
              "  <svg xmlns=\"http://www.w3.org/2000/svg\" height=\"24px\" viewBox=\"0 -960 960 960\">\n",
              "    <path d=\"M120-120v-720h720v720H120Zm60-500h600v-160H180v160Zm220 220h160v-160H400v160Zm0 220h160v-160H400v160ZM180-400h160v-160H180v160Zm440 0h160v-160H620v160ZM180-180h160v-160H180v160Zm440 0h160v-160H620v160Z\"/>\n",
              "  </svg>\n",
              "    </button>\n",
              "\n",
              "  <style>\n",
              "    .colab-df-container {\n",
              "      display:flex;\n",
              "      gap: 12px;\n",
              "    }\n",
              "\n",
              "    .colab-df-convert {\n",
              "      background-color: #E8F0FE;\n",
              "      border: none;\n",
              "      border-radius: 50%;\n",
              "      cursor: pointer;\n",
              "      display: none;\n",
              "      fill: #1967D2;\n",
              "      height: 32px;\n",
              "      padding: 0 0 0 0;\n",
              "      width: 32px;\n",
              "    }\n",
              "\n",
              "    .colab-df-convert:hover {\n",
              "      background-color: #E2EBFA;\n",
              "      box-shadow: 0px 1px 2px rgba(60, 64, 67, 0.3), 0px 1px 3px 1px rgba(60, 64, 67, 0.15);\n",
              "      fill: #174EA6;\n",
              "    }\n",
              "\n",
              "    .colab-df-buttons div {\n",
              "      margin-bottom: 4px;\n",
              "    }\n",
              "\n",
              "    [theme=dark] .colab-df-convert {\n",
              "      background-color: #3B4455;\n",
              "      fill: #D2E3FC;\n",
              "    }\n",
              "\n",
              "    [theme=dark] .colab-df-convert:hover {\n",
              "      background-color: #434B5C;\n",
              "      box-shadow: 0px 1px 3px 1px rgba(0, 0, 0, 0.15);\n",
              "      filter: drop-shadow(0px 1px 2px rgba(0, 0, 0, 0.3));\n",
              "      fill: #FFFFFF;\n",
              "    }\n",
              "  </style>\n",
              "\n",
              "    <script>\n",
              "      const buttonEl =\n",
              "        document.querySelector('#df-63b35124-1732-4288-863e-4bfa84dd9784 button.colab-df-convert');\n",
              "      buttonEl.style.display =\n",
              "        google.colab.kernel.accessAllowed ? 'block' : 'none';\n",
              "\n",
              "      async function convertToInteractive(key) {\n",
              "        const element = document.querySelector('#df-63b35124-1732-4288-863e-4bfa84dd9784');\n",
              "        const dataTable =\n",
              "          await google.colab.kernel.invokeFunction('convertToInteractive',\n",
              "                                                    [key], {});\n",
              "        if (!dataTable) return;\n",
              "\n",
              "        const docLinkHtml = 'Like what you see? Visit the ' +\n",
              "          '<a target=\"_blank\" href=https://colab.research.google.com/notebooks/data_table.ipynb>data table notebook</a>'\n",
              "          + ' to learn more about interactive tables.';\n",
              "        element.innerHTML = '';\n",
              "        dataTable['output_type'] = 'display_data';\n",
              "        await google.colab.output.renderOutput(dataTable, element);\n",
              "        const docLink = document.createElement('div');\n",
              "        docLink.innerHTML = docLinkHtml;\n",
              "        element.appendChild(docLink);\n",
              "      }\n",
              "    </script>\n",
              "  </div>\n",
              "\n",
              "\n",
              "<div id=\"df-d8ad1616-6af1-4725-b2ae-13e7d734832e\">\n",
              "  <button class=\"colab-df-quickchart\" onclick=\"quickchart('df-d8ad1616-6af1-4725-b2ae-13e7d734832e')\"\n",
              "            title=\"Suggest charts\"\n",
              "            style=\"display:none;\">\n",
              "\n",
              "<svg xmlns=\"http://www.w3.org/2000/svg\" height=\"24px\"viewBox=\"0 0 24 24\"\n",
              "     width=\"24px\">\n",
              "    <g>\n",
              "        <path d=\"M19 3H5c-1.1 0-2 .9-2 2v14c0 1.1.9 2 2 2h14c1.1 0 2-.9 2-2V5c0-1.1-.9-2-2-2zM9 17H7v-7h2v7zm4 0h-2V7h2v10zm4 0h-2v-4h2v4z\"/>\n",
              "    </g>\n",
              "</svg>\n",
              "  </button>\n",
              "\n",
              "<style>\n",
              "  .colab-df-quickchart {\n",
              "      --bg-color: #E8F0FE;\n",
              "      --fill-color: #1967D2;\n",
              "      --hover-bg-color: #E2EBFA;\n",
              "      --hover-fill-color: #174EA6;\n",
              "      --disabled-fill-color: #AAA;\n",
              "      --disabled-bg-color: #DDD;\n",
              "  }\n",
              "\n",
              "  [theme=dark] .colab-df-quickchart {\n",
              "      --bg-color: #3B4455;\n",
              "      --fill-color: #D2E3FC;\n",
              "      --hover-bg-color: #434B5C;\n",
              "      --hover-fill-color: #FFFFFF;\n",
              "      --disabled-bg-color: #3B4455;\n",
              "      --disabled-fill-color: #666;\n",
              "  }\n",
              "\n",
              "  .colab-df-quickchart {\n",
              "    background-color: var(--bg-color);\n",
              "    border: none;\n",
              "    border-radius: 50%;\n",
              "    cursor: pointer;\n",
              "    display: none;\n",
              "    fill: var(--fill-color);\n",
              "    height: 32px;\n",
              "    padding: 0;\n",
              "    width: 32px;\n",
              "  }\n",
              "\n",
              "  .colab-df-quickchart:hover {\n",
              "    background-color: var(--hover-bg-color);\n",
              "    box-shadow: 0 1px 2px rgba(60, 64, 67, 0.3), 0 1px 3px 1px rgba(60, 64, 67, 0.15);\n",
              "    fill: var(--button-hover-fill-color);\n",
              "  }\n",
              "\n",
              "  .colab-df-quickchart-complete:disabled,\n",
              "  .colab-df-quickchart-complete:disabled:hover {\n",
              "    background-color: var(--disabled-bg-color);\n",
              "    fill: var(--disabled-fill-color);\n",
              "    box-shadow: none;\n",
              "  }\n",
              "\n",
              "  .colab-df-spinner {\n",
              "    border: 2px solid var(--fill-color);\n",
              "    border-color: transparent;\n",
              "    border-bottom-color: var(--fill-color);\n",
              "    animation:\n",
              "      spin 1s steps(1) infinite;\n",
              "  }\n",
              "\n",
              "  @keyframes spin {\n",
              "    0% {\n",
              "      border-color: transparent;\n",
              "      border-bottom-color: var(--fill-color);\n",
              "      border-left-color: var(--fill-color);\n",
              "    }\n",
              "    20% {\n",
              "      border-color: transparent;\n",
              "      border-left-color: var(--fill-color);\n",
              "      border-top-color: var(--fill-color);\n",
              "    }\n",
              "    30% {\n",
              "      border-color: transparent;\n",
              "      border-left-color: var(--fill-color);\n",
              "      border-top-color: var(--fill-color);\n",
              "      border-right-color: var(--fill-color);\n",
              "    }\n",
              "    40% {\n",
              "      border-color: transparent;\n",
              "      border-right-color: var(--fill-color);\n",
              "      border-top-color: var(--fill-color);\n",
              "    }\n",
              "    60% {\n",
              "      border-color: transparent;\n",
              "      border-right-color: var(--fill-color);\n",
              "    }\n",
              "    80% {\n",
              "      border-color: transparent;\n",
              "      border-right-color: var(--fill-color);\n",
              "      border-bottom-color: var(--fill-color);\n",
              "    }\n",
              "    90% {\n",
              "      border-color: transparent;\n",
              "      border-bottom-color: var(--fill-color);\n",
              "    }\n",
              "  }\n",
              "</style>\n",
              "\n",
              "  <script>\n",
              "    async function quickchart(key) {\n",
              "      const quickchartButtonEl =\n",
              "        document.querySelector('#' + key + ' button');\n",
              "      quickchartButtonEl.disabled = true;  // To prevent multiple clicks.\n",
              "      quickchartButtonEl.classList.add('colab-df-spinner');\n",
              "      try {\n",
              "        const charts = await google.colab.kernel.invokeFunction(\n",
              "            'suggestCharts', [key], {});\n",
              "      } catch (error) {\n",
              "        console.error('Error during call to suggestCharts:', error);\n",
              "      }\n",
              "      quickchartButtonEl.classList.remove('colab-df-spinner');\n",
              "      quickchartButtonEl.classList.add('colab-df-quickchart-complete');\n",
              "    }\n",
              "    (() => {\n",
              "      let quickchartButtonEl =\n",
              "        document.querySelector('#df-d8ad1616-6af1-4725-b2ae-13e7d734832e button');\n",
              "      quickchartButtonEl.style.display =\n",
              "        google.colab.kernel.accessAllowed ? 'block' : 'none';\n",
              "    })();\n",
              "  </script>\n",
              "</div>\n",
              "\n",
              "    </div>\n",
              "  </div>\n"
            ],
            "application/vnd.google.colaboratory.intrinsic+json": {
              "type": "dataframe",
              "variable_name": "train_data",
              "summary": "{\n  \"name\": \"train_data\",\n  \"rows\": 900,\n  \"fields\": [\n    {\n      \"column\": \"CCP_Message\",\n      \"properties\": {\n        \"dtype\": \"string\",\n        \"num_unique_values\": 900,\n        \"samples\": [\n          \"<AllocRpt RptID=\\\"280201\\\" ID=\\\"1688723539013760127@BTNL&gt;15724217386GR@20221221\\\" TransTyp=\\\"0\\\" GrpID=\\\"15724217386\\\" RptTyp=\\\"15\\\" Stat=\\\"6\\\" BizDt=\\\"2023-02-05\\\" TrdTyp=\\\"45\\\" CustCpcty=\\\"1\\\" AvgPxInd=\\\"0\\\" Side=\\\"2\\\" PxTyp=\\\"2\\\" AvgPx=\\\"876\\\" TrdDt=\\\"2022-12-21\\\" TxnTm=\\\"2023-03-20T00:12:55.138-7:00\\\"><Hdr SID=\\\"MGEX\\\" TID=\\\"HBPL\\\" PosDup=\\\"N\\\" PosRsnd=\\\"N\\\" Snt=\\\"2023-03-20T00:12:55.160-7:00\\\"></Hdr><OrdAlloc ClOrdID=\\\"OrdAT\\\"></OrdAlloc><Instrmt ID=\\\"BUS\\\" CFI=\\\"FCCPXX\\\" MMY=\\\"202310\\\" MatDt=\\\"2023-10-7\\\" Exch=\\\"BTNL\\\"></Instrmt><Pty ID=\\\"MGEX\\\" R=\\\"21\\\"></Pty><Pty ID=\\\"210\\\" R=\\\"1\\\"></Pty><Pty ID=\\\"210\\\" R=\\\"4\\\"></Pty><Pty ID=\\\"acc-AT\\\" R=\\\"24\\\"><Sub ID=\\\"2\\\" Typ=\\\"26\\\"></Sub></Pty><Alloc Qty=\\\"99.0\\\" IndAllocID=\\\"46518\\\" IndAllocID2=\\\"14051000005\\\" CustCpcty=\\\"1\\\" Txt=\\\"some notes\\\"><Pty ID=\\\"MGEX\\\" R=\\\"21\\\"></Pty><Pty ID=\\\"146\\\" R=\\\"1\\\"></Pty><Pty ID=\\\"146\\\" R=\\\"4\\\"></Pty><Pty ID=\\\"MPLAMP6\\\" R=\\\"24\\\"><Sub ID=\\\"2\\\" Typ=\\\"26\\\"></Sub></Pty></Alloc></AllocRpt>\",\n          \"<AllocRpt RptID=\\\"280201\\\" ID=\\\"1889842377040990738@XMGE&gt;16634482971GR@20221221\\\" TransTyp=\\\"0\\\" GrpID=\\\"16634482971\\\" RptTyp=\\\"15\\\" Stat=\\\"6\\\" BizDt=\\\"2023-01-11\\\" TrdTyp=\\\"31\\\" CustCpcty=\\\"3\\\" AvgPxInd=\\\"0\\\" Side=\\\"2\\\" PxTyp=\\\"2\\\" AvgPx=\\\"540.698\\\" TrdDt=\\\"2022-12-21\\\" TxnTm=\\\"2023-02-15T00:12:55.138-7:00\\\"><Hdr SID=\\\"MGEX\\\" TID=\\\"TL98\\\" PosDup=\\\"Y\\\" PosRsnd=\\\"Y\\\" Snt=\\\"2023-02-15T00:12:55.160-7:00\\\"></Hdr><OrdAlloc ClOrdID=\\\"123\\\"></OrdAlloc><Instrmt ID=\\\"BUI\\\" CFI=\\\"APYBKL\\\" MMY=\\\"202307\\\" MatDt=\\\"2023-07-9\\\" Exch=\\\"XMGE\\\"></Instrmt><Pty ID=\\\"MGEX\\\" R=\\\"21\\\"></Pty><Pty ID=\\\"210\\\" R=\\\"1\\\"></Pty><Pty ID=\\\"210\\\" R=\\\"4\\\"></Pty><Pty ID=\\\"Ahlem-110\\\" R=\\\"24\\\"><Sub ID=\\\"2\\\" Typ=\\\"26\\\"></Sub></Pty><Alloc Qty=\\\"99.0\\\" IndAllocID=\\\"56127\\\" IndAllocID2=\\\"14051000005\\\" CustCpcty=\\\"4\\\" Txt=\\\"This is a note.\\\"><Pty ID=\\\"MGEX\\\" R=\\\"21\\\"></Pty><Pty ID=\\\"192\\\" R=\\\"1\\\"></Pty><Pty ID=\\\"192\\\" R=\\\"4\\\"></Pty><Pty ID=\\\"Akrem\\\" R=\\\"24\\\"><Sub ID=\\\"2\\\" Typ=\\\"26\\\"></Sub></Pty></Alloc></AllocRpt>\",\n          \"<AllocRpt RptID=\\\"280201\\\" ID=\\\"1674722804227878352@SNTL&gt;17396162307GR@20230102\\\" TransTyp=\\\"0\\\" GrpID=\\\"17396162307\\\" RptTyp=\\\"15\\\" Stat=\\\"6\\\" BizDt=\\\"2023-01-06\\\" TrdTyp=\\\"15\\\" CustCpcty=\\\"1\\\" AvgPxInd=\\\"0\\\" Side=\\\"2\\\" PxTyp=\\\"2\\\" AvgPx=\\\"540.698\\\" TrdDt=\\\"2023-01-02\\\" TxnTm=\\\"2023-02-15T00:12:55.138-6:00\\\"><Hdr SID=\\\"MGEX\\\" TID=\\\"ABCD\\\" PosDup=\\\"Y\\\" PosRsnd=\\\"Y\\\" Snt=\\\"2023-02-15T00:12:55.160-6:00\\\"></Hdr><OrdAlloc ClOrdID=\\\"123\\\"></OrdAlloc><Instrmt ID=\\\"W\\\" CFI=\\\"FCCPXX\\\" MMY=\\\"202307\\\" MatDt=\\\"2023-07-18\\\" Exch=\\\"SNTL\\\"></Instrmt><Pty ID=\\\"MGEX\\\" R=\\\"21\\\"></Pty><Pty ID=\\\"210\\\" R=\\\"1\\\"></Pty><Pty ID=\\\"210\\\" R=\\\"4\\\"></Pty><Pty ID=\\\"Karim-200\\\" R=\\\"24\\\"><Sub ID=\\\"1\\\" Typ=\\\"26\\\"></Sub></Pty><Alloc Qty=\\\"64.0\\\" IndAllocID=\\\"36617\\\" IndAllocID2=\\\"14051000005\\\" CustCpcty=\\\"3\\\" Txt=\\\"notes\\\"><Pty ID=\\\"MGEX\\\" R=\\\"21\\\"></Pty><Pty ID=\\\"184\\\" R=\\\"1\\\"></Pty><Pty ID=\\\"184\\\" R=\\\"4\\\"></Pty><Pty ID=\\\"Akrem\\\" R=\\\"24\\\"><Sub ID=\\\"1\\\" Typ=\\\"26\\\"></Sub></Pty></Alloc></AllocRpt>\"\n        ],\n        \"semantic_type\": \"\",\n        \"description\": \"\"\n      }\n    },\n    {\n      \"column\": \"cleaned_input_message\",\n      \"properties\": {\n        \"dtype\": \"string\",\n        \"num_unique_values\": 900,\n        \"samples\": [\n          \"TrdCaptRpt RptID=57740 TrdID=28443676883 TransTyp=0 RptTyp=2 TrdTyp=45 MtchID=26629945079 PxTyp=10 LastQty=99 LastPx=876 TrdDt=2022-12-21 BizDt=2023-02-05 TxnTm=2023-03-20T13:40:55.100-7:00 Hdr SID=MGEX TID=HBPL PosDup=N PosRsnd=N Snt=2023-03-20T13:40:55.768-7:00 Hdr Instrmt Sym=ABP ID=BUS Src=H CFI=FCCPXX MMY=202310 MatDt=2023-10-7 Mult=0.1 Exch=BTNL Instrmt RptSide Side=2 Ccy=USD InptSrc=EL InptDev=PORTAL CustCpcty=1 PosEfct=C ClOrdID=OrdAT MLegRptTyp=1 AllocInd=1 Pty ID=MGEX R=21 Pty Pty ID=210 R=1 Pty Pty ID=118 R=4 Pty Pty ID=acc-AT R=24 Sub ID=2 Typ=26 Sub Pty Pty ID=400 R=12 Pty TrdRegTS TS=2023-03-20T13:40:55.100-7:00 Typ=1 TrdRegTS RptSide TrdCaptRpt  AllocInstrctn Qty=99.0 BizDt=2023-02-05 TrdDt=2022-12-21 TxnTm=2023-03-20T15:33:05.333-7:00 Side=2 ID=1688723539013760127@BTNL&gt;15724217386GR@20221221 TransTyp=0 Typ=17 GrpID=15724217386 Alloc CustCpcty=1 IndAllocID=46518 Txt=some notes Qty=99.0 Pty ID=MPLAMP6 R=24 Sub ID=2 Typ=26  Pty Pty ID=146 R=1  Pty ID=XMGE R=21  Alloc AllocInstrctn \",\n          \"TrdCaptRpt RptID=156619 TrdID=37209760083 TransTyp=0 RptTyp=2 TrdTyp=31 MtchID=29735783789 PxTyp=10 LastQty=99 LastPx=540.698 TrdDt=2022-12-21 BizDt=2023-01-11 TxnTm=2023-02-15T05:17:30.230-7:00 Hdr SID=MGEX TID=TL98 PosDup=Y PosRsnd=Y Snt=2023-02-15T05:17:30.768-7:00 Hdr Instrmt Sym=TMP ID=BUI Src=H CFI=APYBKL MMY=202307 MatDt=2023-07-9 Mult=70 Exch=XMGE Instrmt RptSide Side=1 Ccy=USD InptSrc=MA InptDev=CLEARING CustCpcty=3 PosEfct=O ClOrdID=123 MLegRptTyp=3 AllocInd=0 Pty ID=MGEX R=21 Pty Pty ID=210 R=1 Pty Pty ID=344 R=4 Pty Pty ID=Ahlem-110 R=24 Sub ID=2 Typ=26 Sub Pty Pty ID=200 R=12 Pty TrdRegTS TS=2023-02-15T05:17:30.230-7:00 Typ=1 TrdRegTS RptSide TrdCaptRpt  AllocInstrctn Qty=99.0 BizDt=2023-01-11 TrdDt=2022-12-21 TxnTm=2023-02-15T15:33:05.333-7:00 Side=1 ID=1889842377040990738@XMGE&gt;16634482971GR@20221221 TransTyp=0 Typ=17 GrpID=16634482971 Alloc CustCpcty=4 IndAllocID=56127 Txt=This is a note. Qty=99.0 Pty ID=Akrem R=24 Sub ID=2 Typ=26  Pty Pty ID=192 R=1  Pty ID=XMGE R=21  Alloc AllocInstrctn \",\n          \"TrdCaptRpt RptID=147511 TrdID=25290693233 TransTyp=0 RptTyp=2 TrdTyp=15 MtchID=33618669599 PxTyp=2 LastQty=64 LastPx=540.698 TrdDt=2023-01-02 BizDt=2023-01-06 TxnTm=2023-02-15T05:17:30.326-6:00 Hdr SID=MGEX TID=ABCD PosDup=Y PosRsnd=Y Snt=2023-02-15T05:17:30.350-6:00 Hdr Instrmt Sym=BUI ID=W Src=H CFI=FCCPXX MMY=202307 MatDt=2023-07-18 Mult=0.2 Exch=SNTL Instrmt RptSide Side=1 Ccy=USD InptSrc=MA InptDev=API CustCpcty=1 PosEfct=C ClOrdID=123 MLegRptTyp=2 AllocInd=0 Pty ID=MGEX R=21 Pty Pty ID=210 R=1 Pty Pty ID=145 R=4 Pty Pty ID=Karim-200 R=24 Sub ID=1 Typ=26 Sub Pty Pty ID=400 R=12 Pty TrdRegTS TS=2023-02-15T05:17:30.326-6:00 Typ=1 TrdRegTS RptSide TrdCaptRpt  AllocInstrctn Qty=64.0 BizDt=2023-01-06 TrdDt=2023-01-02 TxnTm=2023-02-15T17:03:12.436-6:00 Side=1 ID=1674722804227878352@SNTL&gt;17396162307GR@20230102 TransTyp=0 Typ=17 GrpID=17396162307 Alloc CustCpcty=3 IndAllocID=36617 Txt=notes Qty=64.0 Pty ID=Akrem R=24 Sub ID=1 Typ=26  Pty Pty ID=184 R=1  Pty ID=XMGE R=21  Alloc AllocInstrctn \"\n        ],\n        \"semantic_type\": \"\",\n        \"description\": \"\"\n      }\n    }\n  ]\n}"
            }
          },
          "metadata": {},
          "execution_count": 119
        }
      ]
    },
    {
      "cell_type": "markdown",
      "source": [
        "**Creating Custom Datasets, Data Loaders and Loading the Tokenizer and the Model**"
      ],
      "metadata": {
        "id": "W4xT-ZkBKTFz"
      }
    },
    {
      "cell_type": "code",
      "source": [
        "import torch\n",
        "from transformers import GPT2Tokenizer, GPT2LMHeadModel\n",
        "from torch.utils.data import DataLoader, Dataset"
      ],
      "metadata": {
        "id": "eiT1PbQ5Cdfr"
      },
      "execution_count": null,
      "outputs": []
    },
    {
      "cell_type": "code",
      "source": [
        "class CustomDataset(Dataset):\n",
        "    def __init__(self, data, tokenizer, max_length):\n",
        "        self.data = data\n",
        "        self.tokenizer = tokenizer\n",
        "        self.max_length = max_length\n",
        "\n",
        "    def __len__(self):\n",
        "        return len(self.data)\n",
        "\n",
        "    def __getitem__(self, index):\n",
        "        seq = self.data.iloc[index]['cleaned_input_message']\n",
        "        target = self.data.iloc[index]['CCP_Message']\n",
        "\n",
        "        input_seq = f\"{seq} {target}\"\n",
        "\n",
        "        input_ids = self.tokenizer.encode(input_seq, return_tensors='pt', max_length=self.max_length, truncation=True, padding='max_length')\n",
        "\n",
        "        return input_ids"
      ],
      "metadata": {
        "id": "eoNl8f0LCgyS"
      },
      "execution_count": null,
      "outputs": []
    },
    {
      "cell_type": "code",
      "source": [
        "tokenizer = GPT2Tokenizer.from_pretrained('distilgpt2')\n",
        "model = GPT2LMHeadModel.from_pretrained('distilgpt2')"
      ],
      "metadata": {
        "id": "dBomXLkACh_s"
      },
      "execution_count": null,
      "outputs": []
    },
    {
      "cell_type": "code",
      "source": [
        "tokenizer.pad_token = tokenizer.eos_token"
      ],
      "metadata": {
        "id": "l9FQe1QTClZq"
      },
      "execution_count": null,
      "outputs": []
    },
    {
      "cell_type": "code",
      "source": [
        "MAX_LENGTH = 1000\n",
        "BATCH_SIZE = 2\n",
        "EPOCHS = 3"
      ],
      "metadata": {
        "id": "1c3O52dSCm5j"
      },
      "execution_count": null,
      "outputs": []
    },
    {
      "cell_type": "code",
      "source": [
        "train_dataset = CustomDataset(train_data, tokenizer, MAX_LENGTH)\n",
        "val_dataset = CustomDataset(val_data, tokenizer, MAX_LENGTH)"
      ],
      "metadata": {
        "id": "uXJsRfXJCo3q"
      },
      "execution_count": null,
      "outputs": []
    },
    {
      "cell_type": "code",
      "source": [
        "print(type(train_dataset[0]))"
      ],
      "metadata": {
        "colab": {
          "base_uri": "https://localhost:8080/"
        },
        "id": "ZtAhaeouCq76",
        "outputId": "7f5c1ea7-a425-4777-caec-99747df8ed6e"
      },
      "execution_count": null,
      "outputs": [
        {
          "output_type": "stream",
          "name": "stdout",
          "text": [
            "<class 'torch.Tensor'>\n"
          ]
        }
      ]
    },
    {
      "cell_type": "code",
      "source": [
        "train_loader = DataLoader(train_dataset, batch_size=BATCH_SIZE, shuffle=True)\n",
        "val_loader = DataLoader(val_dataset, batch_size=BATCH_SIZE, shuffle=False)"
      ],
      "metadata": {
        "id": "8MOA5TXMCsy6"
      },
      "execution_count": null,
      "outputs": []
    },
    {
      "cell_type": "code",
      "source": [
        "device = torch.device('cuda' if torch.cuda.is_available() else 'cpu')\n",
        "model.to(device)"
      ],
      "metadata": {
        "colab": {
          "base_uri": "https://localhost:8080/"
        },
        "id": "eXnF2_0cCvHi",
        "outputId": "b35899b3-c0fe-4fde-b0ee-8f9eeb32731b"
      },
      "execution_count": null,
      "outputs": [
        {
          "output_type": "execute_result",
          "data": {
            "text/plain": [
              "GPT2LMHeadModel(\n",
              "  (transformer): GPT2Model(\n",
              "    (wte): Embedding(50257, 768)\n",
              "    (wpe): Embedding(1024, 768)\n",
              "    (drop): Dropout(p=0.1, inplace=False)\n",
              "    (h): ModuleList(\n",
              "      (0-5): 6 x GPT2Block(\n",
              "        (ln_1): LayerNorm((768,), eps=1e-05, elementwise_affine=True)\n",
              "        (attn): GPT2Attention(\n",
              "          (c_attn): Conv1D()\n",
              "          (c_proj): Conv1D()\n",
              "          (attn_dropout): Dropout(p=0.1, inplace=False)\n",
              "          (resid_dropout): Dropout(p=0.1, inplace=False)\n",
              "        )\n",
              "        (ln_2): LayerNorm((768,), eps=1e-05, elementwise_affine=True)\n",
              "        (mlp): GPT2MLP(\n",
              "          (c_fc): Conv1D()\n",
              "          (c_proj): Conv1D()\n",
              "          (act): NewGELUActivation()\n",
              "          (dropout): Dropout(p=0.1, inplace=False)\n",
              "        )\n",
              "      )\n",
              "    )\n",
              "    (ln_f): LayerNorm((768,), eps=1e-05, elementwise_affine=True)\n",
              "  )\n",
              "  (lm_head): Linear(in_features=768, out_features=50257, bias=False)\n",
              ")"
            ]
          },
          "metadata": {},
          "execution_count": 128
        }
      ]
    },
    {
      "cell_type": "code",
      "source": [
        "optimizer = torch.optim.AdamW(model.parameters(), lr=2e-5)"
      ],
      "metadata": {
        "id": "kC0N5lgeCxBC"
      },
      "execution_count": null,
      "outputs": []
    },
    {
      "cell_type": "markdown",
      "source": [
        "**Training the model**"
      ],
      "metadata": {
        "id": "azisW29JKa4U"
      }
    },
    {
      "cell_type": "code",
      "source": [
        "for epoch in range(EPOCHS):\n",
        "    model.train()\n",
        "    total_loss = 0\n",
        "    for batch in train_loader:\n",
        "        input_ids = batch.to(device)\n",
        "\n",
        "        labels = input_ids.clone()\n",
        "\n",
        "        optimizer.zero_grad()\n",
        "\n",
        "        outputs = model(input_ids, labels=labels)\n",
        "        loss = outputs.loss\n",
        "        loss.backward()\n",
        "        optimizer.step()\n",
        "\n",
        "        total_loss += loss.item()\n",
        "\n",
        "    avg_train_loss = total_loss / len(train_loader)\n",
        "    print(f'Epoch {epoch+1}, Average Training Loss: {avg_train_loss}')"
      ],
      "metadata": {
        "colab": {
          "base_uri": "https://localhost:8080/"
        },
        "id": "EuDSBRTCCzdC",
        "outputId": "09b4d1a4-a0a4-43be-87d1-7b6219d243cc"
      },
      "execution_count": null,
      "outputs": [
        {
          "output_type": "stream",
          "name": "stdout",
          "text": [
            "Epoch 1, Average Training Loss: 0.7578642341163423\n",
            "Epoch 2, Average Training Loss: 0.2620921629998419\n",
            "Epoch 3, Average Training Loss: 0.23439668744802475\n"
          ]
        }
      ]
    },
    {
      "cell_type": "markdown",
      "source": [
        "**Evaluating the pre-trained model**"
      ],
      "metadata": {
        "id": "tizVRhEiKpRc"
      }
    },
    {
      "cell_type": "code",
      "source": [
        "model.eval()\n",
        "total_loss = 0\n",
        "\n",
        "with torch.no_grad():\n",
        "    for batch in val_loader:\n",
        "        input_ids = batch.to(device)\n",
        "\n",
        "        labels = input_ids.clone()\n",
        "\n",
        "        outputs = model(input_ids, labels=labels)\n",
        "        loss = outputs.loss\n",
        "\n",
        "        total_loss += loss.item()\n",
        "\n",
        "avg_val_loss = total_loss / len(val_loader)\n",
        "print(f'Average Validation Loss: {avg_val_loss}')"
      ],
      "metadata": {
        "colab": {
          "base_uri": "https://localhost:8080/"
        },
        "id": "NiAhY-8oC1f8",
        "outputId": "1289a792-0563-4ea1-9c84-d8f3c769c2be"
      },
      "execution_count": null,
      "outputs": [
        {
          "output_type": "stream",
          "name": "stdout",
          "text": [
            "Average Validation Loss: 0.20983675330877305\n"
          ]
        }
      ]
    },
    {
      "cell_type": "markdown",
      "source": [
        "**Function to generate sequences using the pre-trained GPT-2 model**"
      ],
      "metadata": {
        "id": "hgIgEVqFKued"
      }
    },
    {
      "cell_type": "code",
      "source": [
        "def predict(seq):\n",
        "  model.eval()\n",
        "  input_ids = tokenizer.encode(seq, return_tensors='pt').to(device)\n",
        "  output = model.generate(input_ids, max_length=1000, num_return_sequences=1, pad_token_id=tokenizer.eos_token_id)\n",
        "  decoded_output = tokenizer.decode(output[0], skip_special_tokens=True)\n",
        "  output_sequence = decoded_output[len(seq):].strip()\n",
        "  return output_sequence"
      ],
      "metadata": {
        "id": "vS2Z3nOEC4sb"
      },
      "execution_count": null,
      "outputs": []
    },
    {
      "cell_type": "code",
      "source": [
        "val_data.iloc[0]['CCP_Message']"
      ],
      "metadata": {
        "colab": {
          "base_uri": "https://localhost:8080/",
          "height": 105
        },
        "id": "m8K5zpM9C8wL",
        "outputId": "7c22db4c-7b13-43e9-8493-b4087e4b705b"
      },
      "execution_count": null,
      "outputs": [
        {
          "output_type": "execute_result",
          "data": {
            "text/plain": [
              "'<AllocRpt RptID=\"280201\" ID=\"1808873987123135480@BTNL&gt;20987705719GR@20230105\" TransTyp=\"0\" GrpID=\"20987705719\" RptTyp=\"15\" Stat=\"6\" BizDt=\"2023-02-10\" TrdTyp=\"29\" CustCpcty=\"4\" AvgPxInd=\"0\" Side=\"2\" PxTyp=\"2\" AvgPx=\"3590.59\" TrdDt=\"2023-01-05\" TxnTm=\"2023-02-15T00:12:55.138-6:00\"><Hdr SID=\"MGEX\" TID=\"TL98\" PosDup=\"Y\" PosRsnd=\"N\" Snt=\"2023-02-15T00:12:55.160-6:00\"></Hdr><OrdAlloc ClOrdID=\"123\"></OrdAlloc><Instrmt ID=\"BUS\" CFI=\"MKLPON\" MMY=\"202307\" MatDt=\"2023-07-8\" Exch=\"BTNL\"></Instrmt><Pty ID=\"MGEX\" R=\"21\"></Pty><Pty ID=\"210\" R=\"1\"></Pty><Pty ID=\"210\" R=\"4\"></Pty><Pty ID=\"Emira-115\" R=\"24\"><Sub ID=\"2\" Typ=\"26\"></Sub></Pty><Alloc Qty=\"49.0\" IndAllocID=\"46518\" IndAllocID2=\"14051000005\" CustCpcty=\"3\" Txt=\"some notes\"><Pty ID=\"MGEX\" R=\"21\"></Pty><Pty ID=\"191\" R=\"1\"></Pty><Pty ID=\"191\" R=\"4\"></Pty><Pty ID=\"AKLPM9\" R=\"24\"><Sub ID=\"1\" Typ=\"26\"></Sub></Pty></Alloc></AllocRpt>'"
            ],
            "application/vnd.google.colaboratory.intrinsic+json": {
              "type": "string"
            }
          },
          "metadata": {},
          "execution_count": 136
        }
      ]
    },
    {
      "cell_type": "code",
      "source": [
        "predict(val_data.iloc[0]['cleaned_input_message'])"
      ],
      "metadata": {
        "colab": {
          "base_uri": "https://localhost:8080/",
          "height": 105
        },
        "id": "rR8Chm3MC-Nj",
        "outputId": "741e9ea9-d79b-4c12-b4a1-bb32b7002a85"
      },
      "execution_count": null,
      "outputs": [
        {
          "output_type": "execute_result",
          "data": {
            "text/plain": [
              "'<AllocRpt RptID=\"280201\" ID=\"1808873987123135480@BTNL&gt;20987705719GR@20230105\" TransTyp=\"0\" GrpID=\"20987705719\" RptTyp=\"15\" Stat=\"6\" BizDt=\"2023-02-10\" TrdTyp=\"29\" CustCpcty=\"4\" AvgPxInd=\"0\" Side=\"2\" PxTyp=\"2\" AvgPx=\"3590.59\" TrdDt=\"2023-01-05\" TxnTm=\"2023-02-15T00:12:55.138-6:00\"><Hdr SID=\"MGEX\" TID=\"TL98\" PosDup=\"Y\" PosRsnd=\"N\" Snt=\"2023-02-15T00:12:55.160-6:00\"></Hdr><OrdAlloc ClOrdID=\"123\"></OrdAlloc><Instrmt ID=\"BUS\" CFI=\"MKLPON\" MMY=\"202307\" MatDt=\"2023-07-8\" Exch=\"BTNL\"></Instrmt><Pty ID=\"MGEX\" R=\"21\"></Pty><Pty ID=\"210\" R=\"1\"></Pty><Pty ID=\"210\" R=\"4\"></Pty><Pty ID=\"Emira-115\" R=\"24\"><Sub ID=\"2\" Typ=\"26\"></Sub></Pty><Alloc Qty=\"49.0\" IndAllocID=\"46518\" IndAllocID2=\"14051000005\" CustCpcty=\"3\" Txt=\"some notes\"><Pty ID=\"MGEX\" R=\"21\"></Pty><Pty ID=\"191\" R=\"1\"></Pty><Pty ID=\"191\" R=\"4\"></Pty><Pty ID=\"AKLPM9\" R=\"24\"><Sub ID=\"1\" Typ=\"26\"></Sub></Pty></Alloc></AllocRpt>'"
            ],
            "application/vnd.google.colaboratory.intrinsic+json": {
              "type": "string"
            }
          },
          "metadata": {},
          "execution_count": 137
        }
      ]
    },
    {
      "cell_type": "markdown",
      "source": [
        "**Calculating the Accuracy**"
      ],
      "metadata": {
        "id": "kseSNZl3K6A-"
      }
    },
    {
      "cell_type": "code",
      "source": [
        "som = 0\n",
        "for i in range(100):\n",
        "  if val_data.iloc[i]['CCP_Message'] == predict(val_data.iloc[i]['cleaned_input_message']):\n",
        "    som = som+1\n",
        "print('Accuracy:',som/100)"
      ],
      "metadata": {
        "colab": {
          "base_uri": "https://localhost:8080/"
        },
        "id": "RAqpYSv8Su-i",
        "outputId": "fa473c12-8357-4d39-8552-b70b7a3a6c3d"
      },
      "execution_count": null,
      "outputs": [
        {
          "output_type": "stream",
          "name": "stdout",
          "text": [
            "Accuracy: 0.97\n"
          ]
        }
      ]
    },
    {
      "cell_type": "markdown",
      "source": [
        "**Identifying Causes of Mismatched Predictions**"
      ],
      "metadata": {
        "id": "ptSgX85sLOa-"
      }
    },
    {
      "cell_type": "code",
      "source": [
        "for i in range(100):\n",
        "  if val_data.iloc[i]['CCP_Message'] != predict(val_data.iloc[i]['cleaned_input_message']):\n",
        "    print('Message', i)\n",
        "    print('Predicted message:')\n",
        "    print(predict(val_data.iloc[i]['cleaned_input_message']))\n",
        "    print('Test message:')\n",
        "    print(val_data.iloc[i]['CCP_Message'])"
      ],
      "metadata": {
        "colab": {
          "base_uri": "https://localhost:8080/"
        },
        "id": "l9kvPlEnUIyR",
        "outputId": "bc8700c7-ca87-4eea-b162-fb1ef1ff9bef"
      },
      "execution_count": null,
      "outputs": [
        {
          "output_type": "stream",
          "name": "stdout",
          "text": [
            "Message 1\n",
            "Predicted message:\n",
            "<AllocRpt RptID=\"280201\" ID=\"20946187484710813@XMGE&gt;14067399229GR@20221217\" TransTyp=\"0\" GrpID=\"14067399229\" RptTyp=\"15\" Stat=\"6\" BizDt=\"2023-01-06\" TrdTyp=\"1\" CustCpcty=\"1\" AvgPxInd=\"0\" Side=\"2\" PxTyp=\"2\" AvgPx=\"3590.59\" TrdDt=\"2022-12-17\" TxnTm=\"2023-03-30T00:12:55.138-7:00\"><Hdr SID=\"MGEX\" TID=\"TL98\" PosDup=\"N\" PosRsnd=\"Y\" Snt=\"2023-03-30T00:12:55.160-7:00\"></Hdr><OrdAlloc ClOrdID=\"OrdAT\"></OrdAlloc><Instrmt ID=\"W\" CFI=\"FCCPXX\" MMY=\"202307\" MatDt=\"2023-07-8\" Exch=\"XMGE\"></Instrmt><Pty ID=\"MGEX\" R=\"21\"></Pty><Pty ID=\"210\" R=\"1\"></Pty><Pty ID=\"210\" R=\"4\"></Pty><Pty ID=\"Mohamed-300\" R=\"24\"><Sub ID=\"2\" Typ=\"26\"></Sub></Pty><Alloc Qty=\"94.0\" IndAllocID=\"3fb78\" IndAllocID2=\"14051000005\" CustCpcty=\"3\" Txt=\"This is a note.\"><Pty ID=\"MGEX\" R=\"21\"></Pty><Pty ID=\"154\" R=\"1\"></Pty><Pty ID=\"154\" R=\"4\"></Pty><Pty ID=\"Akrem\" R=\"24\"><Sub ID=\"1\" Typ=\"26\"></Sub></Pty></Alloc></AllocRpt>\n",
            "Test message:\n",
            "<AllocRpt RptID=\"280201\" ID=\"2094618748474710813@XMGE&gt;14067399229GR@20221217\" TransTyp=\"0\" GrpID=\"14067399229\" RptTyp=\"15\" Stat=\"6\" BizDt=\"2023-01-06\" TrdTyp=\"1\" CustCpcty=\"1\" AvgPxInd=\"0\" Side=\"2\" PxTyp=\"2\" AvgPx=\"3590.59\" TrdDt=\"2022-12-17\" TxnTm=\"2023-03-30T00:12:55.138-7:00\"><Hdr SID=\"MGEX\" TID=\"TL98\" PosDup=\"N\" PosRsnd=\"Y\" Snt=\"2023-03-30T00:12:55.160-7:00\"></Hdr><OrdAlloc ClOrdID=\"OrdAT\"></OrdAlloc><Instrmt ID=\"W\" CFI=\"FCCPXX\" MMY=\"202307\" MatDt=\"2023-07-8\" Exch=\"XMGE\"></Instrmt><Pty ID=\"MGEX\" R=\"21\"></Pty><Pty ID=\"210\" R=\"1\"></Pty><Pty ID=\"210\" R=\"4\"></Pty><Pty ID=\"Mohamed-300\" R=\"24\"><Sub ID=\"2\" Typ=\"26\"></Sub></Pty><Alloc Qty=\"94.0\" IndAllocID=\"3fb78\" IndAllocID2=\"14051000005\" CustCpcty=\"3\" Txt=\"This is a note.\"><Pty ID=\"MGEX\" R=\"21\"></Pty><Pty ID=\"154\" R=\"1\"></Pty><Pty ID=\"154\" R=\"4\"></Pty><Pty ID=\"Akrem\" R=\"24\"><Sub ID=\"1\" Typ=\"26\"></Sub></Pty></Alloc></AllocRpt>\n",
            "Message 50\n",
            "Predicted message:\n",
            "<AllocRpt RptID=\"280201\" ID=\"25896480589259237@HDPL&gt;16019007448GR@20230105\" TransTyp=\"0\" GrpID=\"16019007448\" RptTyp=\"15\" Stat=\"6\" BizDt=\"2023-02-10\" TrdTyp=\"0\" CustCpcty=\"1\" AvgPxInd=\"0\" Side=\"2\" PxTyp=\"2\" AvgPx=\"3590.59\" TrdDt=\"2023-01-05\" TxnTm=\"2023-02-21T00:12:55.138-5:00\"><Hdr SID=\"MGEX\" TID=\"ABCD\" PosDup=\"N\" PosRsnd=\"Y\" Snt=\"2023-02-21T00:12:55.160-5:00\"></Hdr><OrdAlloc ClOrdID=\"245BTN\"></OrdAlloc><Instrmt ID=\"W\" CFI=\"MKLPON\" MMY=\"202305\" MatDt=\"2023-05-21\" Exch=\"HDPL\"></Instrmt><Pty ID=\"MGEX\" R=\"21\"></Pty><Pty ID=\"210\" R=\"1\"></Pty><Pty ID=\"210\" R=\"4\"></Pty><Pty ID=\"Karim-200\" R=\"24\"><Sub ID=\"2\" Typ=\"26\"></Sub></Pty><Alloc Qty=\"23.0\" IndAllocID=\"46518\" IndAllocID2=\"14051000005\" CustCpcty=\"3\" Txt=\"some notes\"><Pty ID=\"MGEX\" R=\"21\"></Pty><Pty ID=\"200\" R=\"1\"></Pty><Pty ID=\"200\" R=\"4\"></Pty><Pty ID=\"AKLPM9\" R=\"24\"><Sub ID=\"1\" Typ=\"26\"></Sub></Pty></Alloc></AllocRpt>\n",
            "Test message:\n",
            "<AllocRpt RptID=\"280201\" ID=\"2589648080589259237@HDPL&gt;16019007448GR@20230105\" TransTyp=\"0\" GrpID=\"16019007448\" RptTyp=\"15\" Stat=\"6\" BizDt=\"2023-02-10\" TrdTyp=\"0\" CustCpcty=\"1\" AvgPxInd=\"0\" Side=\"2\" PxTyp=\"2\" AvgPx=\"3590.59\" TrdDt=\"2023-01-05\" TxnTm=\"2023-02-21T00:12:55.138-5:00\"><Hdr SID=\"MGEX\" TID=\"ABCD\" PosDup=\"N\" PosRsnd=\"Y\" Snt=\"2023-02-21T00:12:55.160-5:00\"></Hdr><OrdAlloc ClOrdID=\"245BTN\"></OrdAlloc><Instrmt ID=\"W\" CFI=\"MKLPON\" MMY=\"202305\" MatDt=\"2023-05-21\" Exch=\"HDPL\"></Instrmt><Pty ID=\"MGEX\" R=\"21\"></Pty><Pty ID=\"210\" R=\"1\"></Pty><Pty ID=\"210\" R=\"4\"></Pty><Pty ID=\"Karim-200\" R=\"24\"><Sub ID=\"2\" Typ=\"26\"></Sub></Pty><Alloc Qty=\"23.0\" IndAllocID=\"46518\" IndAllocID2=\"14051000005\" CustCpcty=\"3\" Txt=\"some notes\"><Pty ID=\"MGEX\" R=\"21\"></Pty><Pty ID=\"200\" R=\"1\"></Pty><Pty ID=\"200\" R=\"4\"></Pty><Pty ID=\"AKLPM9\" R=\"24\"><Sub ID=\"1\" Typ=\"26\"></Sub></Pty></Alloc></AllocRpt>\n",
            "Message 86\n",
            "Predicted message:\n",
            "<AllocRpt RptID=\"280201\" ID=\"181818370565592670758@HDPL&gt;23920546858GR@20221221\" TransTyp=\"0\" GrpID=\"23920546858\" RptTyp=\"15\" Stat=\"6\" BizDt=\"2023-02-05\" TrdTyp=\"29\" CustCpcty=\"2\" AvgPxInd=\"0\" Side=\"2\" PxTyp=\"2\" AvgPx=\"370\" TrdDt=\"2022-12-21\" TxnTm=\"2023-02-21T00:12:55.138-6:00\"><Hdr SID=\"MGEX\" TID=\"ABCD\" PosDup=\"Y\" PosRsnd=\"Y\" Snt=\"2023-02-21T00:12:55.160-6:00\"></Hdr><OrdAlloc ClOrdID=\"OrdAT\"></OrdAlloc><Instrmt ID=\"BUS\" CFI=\"FCCPXX\" MMY=\"202307\" MatDt=\"2023-07-6\" Exch=\"HDPL\"></Instrmt><Pty ID=\"MGEX\" R=\"21\"></Pty><Pty ID=\"210\" R=\"1\"></Pty><Pty ID=\"210\" R=\"4\"></Pty><Pty ID=\"Ahlem-110\" R=\"24\"><Sub ID=\"1\" Typ=\"26\"></Sub></Pty><Alloc Qty=\"90.0\" IndAllocID=\"4al98\" IndAllocID2=\"14051000005\" CustCpcty=\"4\" Txt=\"some notes\"><Pty ID=\"MGEX\" R=\"21\"></Pty><Pty ID=\"173\" R=\"1\"></Pty><Pty ID=\"173\" R=\"4\"></Pty><Pty ID=\"FIRMACT1\" R=\"24\"><Sub ID=\"2\" Typ=\"26\"></Sub></Pty></Alloc></AllocRpt>\n",
            "Test message:\n",
            "<AllocRpt RptID=\"280201\" ID=\"1818370565592670758@HDPL&gt;23920546858GR@20221221\" TransTyp=\"0\" GrpID=\"23920546858\" RptTyp=\"15\" Stat=\"6\" BizDt=\"2023-02-05\" TrdTyp=\"29\" CustCpcty=\"2\" AvgPxInd=\"0\" Side=\"2\" PxTyp=\"2\" AvgPx=\"370\" TrdDt=\"2022-12-21\" TxnTm=\"2023-02-21T00:12:55.138-6:00\"><Hdr SID=\"MGEX\" TID=\"ABCD\" PosDup=\"Y\" PosRsnd=\"Y\" Snt=\"2023-02-21T00:12:55.160-6:00\"></Hdr><OrdAlloc ClOrdID=\"OrdAT\"></OrdAlloc><Instrmt ID=\"BUS\" CFI=\"FCCPXX\" MMY=\"202307\" MatDt=\"2023-07-6\" Exch=\"HDPL\"></Instrmt><Pty ID=\"MGEX\" R=\"21\"></Pty><Pty ID=\"210\" R=\"1\"></Pty><Pty ID=\"210\" R=\"4\"></Pty><Pty ID=\"Ahlem-110\" R=\"24\"><Sub ID=\"1\" Typ=\"26\"></Sub></Pty><Alloc Qty=\"90.0\" IndAllocID=\"4al98\" IndAllocID2=\"14051000005\" CustCpcty=\"4\" Txt=\"some notes\"><Pty ID=\"MGEX\" R=\"21\"></Pty><Pty ID=\"173\" R=\"1\"></Pty><Pty ID=\"173\" R=\"4\"></Pty><Pty ID=\"FIRMACT1\" R=\"24\"><Sub ID=\"2\" Typ=\"26\"></Sub></Pty></Alloc></AllocRpt>\n"
          ]
        }
      ]
    },
    {
      "cell_type": "code",
      "source": [
        "val_data.iloc[1]['CCP_Message']"
      ],
      "metadata": {
        "colab": {
          "base_uri": "https://localhost:8080/",
          "height": 105
        },
        "id": "8umEx-hrVit4",
        "outputId": "7eeef0e2-18db-49f4-cd1e-fc6c2da8d876"
      },
      "execution_count": null,
      "outputs": [
        {
          "output_type": "execute_result",
          "data": {
            "text/plain": [
              "'<AllocRpt RptID=\"280201\" ID=\"2094618748474710813@XMGE&gt;14067399229GR@20221217\" TransTyp=\"0\" GrpID=\"14067399229\" RptTyp=\"15\" Stat=\"6\" BizDt=\"2023-01-06\" TrdTyp=\"1\" CustCpcty=\"1\" AvgPxInd=\"0\" Side=\"2\" PxTyp=\"2\" AvgPx=\"3590.59\" TrdDt=\"2022-12-17\" TxnTm=\"2023-03-30T00:12:55.138-7:00\"><Hdr SID=\"MGEX\" TID=\"TL98\" PosDup=\"N\" PosRsnd=\"Y\" Snt=\"2023-03-30T00:12:55.160-7:00\"></Hdr><OrdAlloc ClOrdID=\"OrdAT\"></OrdAlloc><Instrmt ID=\"W\" CFI=\"FCCPXX\" MMY=\"202307\" MatDt=\"2023-07-8\" Exch=\"XMGE\"></Instrmt><Pty ID=\"MGEX\" R=\"21\"></Pty><Pty ID=\"210\" R=\"1\"></Pty><Pty ID=\"210\" R=\"4\"></Pty><Pty ID=\"Mohamed-300\" R=\"24\"><Sub ID=\"2\" Typ=\"26\"></Sub></Pty><Alloc Qty=\"94.0\" IndAllocID=\"3fb78\" IndAllocID2=\"14051000005\" CustCpcty=\"3\" Txt=\"This is a note.\"><Pty ID=\"MGEX\" R=\"21\"></Pty><Pty ID=\"154\" R=\"1\"></Pty><Pty ID=\"154\" R=\"4\"></Pty><Pty ID=\"Akrem\" R=\"24\"><Sub ID=\"1\" Typ=\"26\"></Sub></Pty></Alloc></AllocRpt>'"
            ],
            "application/vnd.google.colaboratory.intrinsic+json": {
              "type": "string"
            }
          },
          "metadata": {},
          "execution_count": 140
        }
      ]
    },
    {
      "cell_type": "code",
      "source": [
        "predict(val_data.iloc[1]['cleaned_input_message'])"
      ],
      "metadata": {
        "colab": {
          "base_uri": "https://localhost:8080/",
          "height": 105
        },
        "id": "738Q6sRWUuSO",
        "outputId": "8a70624d-75d6-4312-c7e5-1cdd517a12f7"
      },
      "execution_count": null,
      "outputs": [
        {
          "output_type": "execute_result",
          "data": {
            "text/plain": [
              "'<AllocRpt RptID=\"280201\" ID=\"20946187484710813@XMGE&gt;14067399229GR@20221217\" TransTyp=\"0\" GrpID=\"14067399229\" RptTyp=\"15\" Stat=\"6\" BizDt=\"2023-01-06\" TrdTyp=\"1\" CustCpcty=\"1\" AvgPxInd=\"0\" Side=\"2\" PxTyp=\"2\" AvgPx=\"3590.59\" TrdDt=\"2022-12-17\" TxnTm=\"2023-03-30T00:12:55.138-7:00\"><Hdr SID=\"MGEX\" TID=\"TL98\" PosDup=\"N\" PosRsnd=\"Y\" Snt=\"2023-03-30T00:12:55.160-7:00\"></Hdr><OrdAlloc ClOrdID=\"OrdAT\"></OrdAlloc><Instrmt ID=\"W\" CFI=\"FCCPXX\" MMY=\"202307\" MatDt=\"2023-07-8\" Exch=\"XMGE\"></Instrmt><Pty ID=\"MGEX\" R=\"21\"></Pty><Pty ID=\"210\" R=\"1\"></Pty><Pty ID=\"210\" R=\"4\"></Pty><Pty ID=\"Mohamed-300\" R=\"24\"><Sub ID=\"2\" Typ=\"26\"></Sub></Pty><Alloc Qty=\"94.0\" IndAllocID=\"3fb78\" IndAllocID2=\"14051000005\" CustCpcty=\"3\" Txt=\"This is a note.\"><Pty ID=\"MGEX\" R=\"21\"></Pty><Pty ID=\"154\" R=\"1\"></Pty><Pty ID=\"154\" R=\"4\"></Pty><Pty ID=\"Akrem\" R=\"24\"><Sub ID=\"1\" Typ=\"26\"></Sub></Pty></Alloc></AllocRpt>'"
            ],
            "application/vnd.google.colaboratory.intrinsic+json": {
              "type": "string"
            }
          },
          "metadata": {},
          "execution_count": 141
        }
      ]
    },
    {
      "cell_type": "code",
      "source": [
        "val_data.iloc[50]['CCP_Message']"
      ],
      "metadata": {
        "colab": {
          "base_uri": "https://localhost:8080/",
          "height": 105
        },
        "id": "TLf_kmf6VrpX",
        "outputId": "f946b87b-49b7-41ec-8593-3fe0ed314b6e"
      },
      "execution_count": null,
      "outputs": [
        {
          "output_type": "execute_result",
          "data": {
            "text/plain": [
              "'<AllocRpt RptID=\"280201\" ID=\"2589648080589259237@HDPL&gt;16019007448GR@20230105\" TransTyp=\"0\" GrpID=\"16019007448\" RptTyp=\"15\" Stat=\"6\" BizDt=\"2023-02-10\" TrdTyp=\"0\" CustCpcty=\"1\" AvgPxInd=\"0\" Side=\"2\" PxTyp=\"2\" AvgPx=\"3590.59\" TrdDt=\"2023-01-05\" TxnTm=\"2023-02-21T00:12:55.138-5:00\"><Hdr SID=\"MGEX\" TID=\"ABCD\" PosDup=\"N\" PosRsnd=\"Y\" Snt=\"2023-02-21T00:12:55.160-5:00\"></Hdr><OrdAlloc ClOrdID=\"245BTN\"></OrdAlloc><Instrmt ID=\"W\" CFI=\"MKLPON\" MMY=\"202305\" MatDt=\"2023-05-21\" Exch=\"HDPL\"></Instrmt><Pty ID=\"MGEX\" R=\"21\"></Pty><Pty ID=\"210\" R=\"1\"></Pty><Pty ID=\"210\" R=\"4\"></Pty><Pty ID=\"Karim-200\" R=\"24\"><Sub ID=\"2\" Typ=\"26\"></Sub></Pty><Alloc Qty=\"23.0\" IndAllocID=\"46518\" IndAllocID2=\"14051000005\" CustCpcty=\"3\" Txt=\"some notes\"><Pty ID=\"MGEX\" R=\"21\"></Pty><Pty ID=\"200\" R=\"1\"></Pty><Pty ID=\"200\" R=\"4\"></Pty><Pty ID=\"AKLPM9\" R=\"24\"><Sub ID=\"1\" Typ=\"26\"></Sub></Pty></Alloc></AllocRpt>'"
            ],
            "application/vnd.google.colaboratory.intrinsic+json": {
              "type": "string"
            }
          },
          "metadata": {},
          "execution_count": 142
        }
      ]
    },
    {
      "cell_type": "code",
      "source": [
        "predict(val_data.iloc[50]['cleaned_input_message'])"
      ],
      "metadata": {
        "colab": {
          "base_uri": "https://localhost:8080/",
          "height": 105
        },
        "id": "gVuDWAZfVvHD",
        "outputId": "44b6f81b-5191-4d96-feb3-010826ee0898"
      },
      "execution_count": null,
      "outputs": [
        {
          "output_type": "execute_result",
          "data": {
            "text/plain": [
              "'<AllocRpt RptID=\"280201\" ID=\"25896480589259237@HDPL&gt;16019007448GR@20230105\" TransTyp=\"0\" GrpID=\"16019007448\" RptTyp=\"15\" Stat=\"6\" BizDt=\"2023-02-10\" TrdTyp=\"0\" CustCpcty=\"1\" AvgPxInd=\"0\" Side=\"2\" PxTyp=\"2\" AvgPx=\"3590.59\" TrdDt=\"2023-01-05\" TxnTm=\"2023-02-21T00:12:55.138-5:00\"><Hdr SID=\"MGEX\" TID=\"ABCD\" PosDup=\"N\" PosRsnd=\"Y\" Snt=\"2023-02-21T00:12:55.160-5:00\"></Hdr><OrdAlloc ClOrdID=\"245BTN\"></OrdAlloc><Instrmt ID=\"W\" CFI=\"MKLPON\" MMY=\"202305\" MatDt=\"2023-05-21\" Exch=\"HDPL\"></Instrmt><Pty ID=\"MGEX\" R=\"21\"></Pty><Pty ID=\"210\" R=\"1\"></Pty><Pty ID=\"210\" R=\"4\"></Pty><Pty ID=\"Karim-200\" R=\"24\"><Sub ID=\"2\" Typ=\"26\"></Sub></Pty><Alloc Qty=\"23.0\" IndAllocID=\"46518\" IndAllocID2=\"14051000005\" CustCpcty=\"3\" Txt=\"some notes\"><Pty ID=\"MGEX\" R=\"21\"></Pty><Pty ID=\"200\" R=\"1\"></Pty><Pty ID=\"200\" R=\"4\"></Pty><Pty ID=\"AKLPM9\" R=\"24\"><Sub ID=\"1\" Typ=\"26\"></Sub></Pty></Alloc></AllocRpt>'"
            ],
            "application/vnd.google.colaboratory.intrinsic+json": {
              "type": "string"
            }
          },
          "metadata": {},
          "execution_count": 143
        }
      ]
    },
    {
      "cell_type": "code",
      "source": [
        "val_data.iloc[86]['CCP_Message']"
      ],
      "metadata": {
        "colab": {
          "base_uri": "https://localhost:8080/",
          "height": 105
        },
        "id": "y53h9Hk_VzV7",
        "outputId": "012cc844-4de1-4e5b-bda3-1a16ff5872d5"
      },
      "execution_count": null,
      "outputs": [
        {
          "output_type": "execute_result",
          "data": {
            "text/plain": [
              "'<AllocRpt RptID=\"280201\" ID=\"1818370565592670758@HDPL&gt;23920546858GR@20221221\" TransTyp=\"0\" GrpID=\"23920546858\" RptTyp=\"15\" Stat=\"6\" BizDt=\"2023-02-05\" TrdTyp=\"29\" CustCpcty=\"2\" AvgPxInd=\"0\" Side=\"2\" PxTyp=\"2\" AvgPx=\"370\" TrdDt=\"2022-12-21\" TxnTm=\"2023-02-21T00:12:55.138-6:00\"><Hdr SID=\"MGEX\" TID=\"ABCD\" PosDup=\"Y\" PosRsnd=\"Y\" Snt=\"2023-02-21T00:12:55.160-6:00\"></Hdr><OrdAlloc ClOrdID=\"OrdAT\"></OrdAlloc><Instrmt ID=\"BUS\" CFI=\"FCCPXX\" MMY=\"202307\" MatDt=\"2023-07-6\" Exch=\"HDPL\"></Instrmt><Pty ID=\"MGEX\" R=\"21\"></Pty><Pty ID=\"210\" R=\"1\"></Pty><Pty ID=\"210\" R=\"4\"></Pty><Pty ID=\"Ahlem-110\" R=\"24\"><Sub ID=\"1\" Typ=\"26\"></Sub></Pty><Alloc Qty=\"90.0\" IndAllocID=\"4al98\" IndAllocID2=\"14051000005\" CustCpcty=\"4\" Txt=\"some notes\"><Pty ID=\"MGEX\" R=\"21\"></Pty><Pty ID=\"173\" R=\"1\"></Pty><Pty ID=\"173\" R=\"4\"></Pty><Pty ID=\"FIRMACT1\" R=\"24\"><Sub ID=\"2\" Typ=\"26\"></Sub></Pty></Alloc></AllocRpt>'"
            ],
            "application/vnd.google.colaboratory.intrinsic+json": {
              "type": "string"
            }
          },
          "metadata": {},
          "execution_count": 144
        }
      ]
    },
    {
      "cell_type": "code",
      "source": [
        "predict(val_data.iloc[86]['cleaned_input_message'])"
      ],
      "metadata": {
        "colab": {
          "base_uri": "https://localhost:8080/",
          "height": 105
        },
        "id": "LSxzrNesV6K3",
        "outputId": "eb79cae1-dc41-4a99-a8f3-dc1a14263ac1"
      },
      "execution_count": null,
      "outputs": [
        {
          "output_type": "execute_result",
          "data": {
            "text/plain": [
              "'<AllocRpt RptID=\"280201\" ID=\"181818370565592670758@HDPL&gt;23920546858GR@20221221\" TransTyp=\"0\" GrpID=\"23920546858\" RptTyp=\"15\" Stat=\"6\" BizDt=\"2023-02-05\" TrdTyp=\"29\" CustCpcty=\"2\" AvgPxInd=\"0\" Side=\"2\" PxTyp=\"2\" AvgPx=\"370\" TrdDt=\"2022-12-21\" TxnTm=\"2023-02-21T00:12:55.138-6:00\"><Hdr SID=\"MGEX\" TID=\"ABCD\" PosDup=\"Y\" PosRsnd=\"Y\" Snt=\"2023-02-21T00:12:55.160-6:00\"></Hdr><OrdAlloc ClOrdID=\"OrdAT\"></OrdAlloc><Instrmt ID=\"BUS\" CFI=\"FCCPXX\" MMY=\"202307\" MatDt=\"2023-07-6\" Exch=\"HDPL\"></Instrmt><Pty ID=\"MGEX\" R=\"21\"></Pty><Pty ID=\"210\" R=\"1\"></Pty><Pty ID=\"210\" R=\"4\"></Pty><Pty ID=\"Ahlem-110\" R=\"24\"><Sub ID=\"1\" Typ=\"26\"></Sub></Pty><Alloc Qty=\"90.0\" IndAllocID=\"4al98\" IndAllocID2=\"14051000005\" CustCpcty=\"4\" Txt=\"some notes\"><Pty ID=\"MGEX\" R=\"21\"></Pty><Pty ID=\"173\" R=\"1\"></Pty><Pty ID=\"173\" R=\"4\"></Pty><Pty ID=\"FIRMACT1\" R=\"24\"><Sub ID=\"2\" Typ=\"26\"></Sub></Pty></Alloc></AllocRpt>'"
            ],
            "application/vnd.google.colaboratory.intrinsic+json": {
              "type": "string"
            }
          },
          "metadata": {},
          "execution_count": 145
        }
      ]
    },
    {
      "cell_type": "markdown",
      "source": [
        "**Testing the pre-trained model on new samples**"
      ],
      "metadata": {
        "id": "WPxlVelVLVyf"
      }
    },
    {
      "cell_type": "code",
      "source": [
        "trade_msg1 = \"\"\"<TrdCaptRpt RptID=\"25980\" TrdID=\"50381005000\" TransTyp=\"0\" RptTyp=\"2\" TrdTyp=\"2\" MtchID=\"60281001700\" PxTyp=\"2\" LastQty=\"900\" LastPx=\"5300.5\" TrdDt=\"2024-01-18\" BizDt=\"2024-01-19\" TxnTm=\"2024-02-04T15:18:30.549-05:00\"><Hdr SID=\"MGEX\" TID=\"KMPL\" PosDup=\"N\" PosRsnd=\"N\" \"2024-02-04T15:18:30.700-05:00\"></Hdr><Instrmt Sym=\"BUI\" ID=\"BUI\" Src=\"H\" CFI=\"FCAPSX\" MMY=\"202405\" MatDt=\"2024-05-12\" Mult=\"5000\" Exch=\"MPLM\"></Instrmt><RptSide Side=\"2\" Ccy=\"USD\" InptSrc=\"MA\" InptDev=\"PORTAL\" CustCpcty=\"1\" PosEfct=\"C\" ClOrdID=\"AB09T\" MLegRptTyp=\"1\" AllocInd=\"0\"><Pty ID=\"MGEX\" R=\"21\"></Pty><Pty ID=\"210\" R=\"1\"></Pty><Pty ID=\"210\" R=\"4\"></Pty><Pty ID=\"Bassma-400\" R=\"24\"><Sub ID=\"2\" Typ=\"26\"></Sub></Pty><Pty ID=\"210\" R=\"12\"></Pty><TrdRegTS TS=\"2024-02-04T15:18:30.549-05:00\" Typ=\"1\"></TrdRegTS></RptSide></TrdCaptRpt>\"\"\"\n",
        "sgw_op1 = \"\"\"<AllocInstrctn Qty=\"900.0\" BizDt=\"2024-01-19\" TrdDt=\"2024-01-18\" TxnTm=\"2024-02-04T17:42:49.585-05:00\" Side=\"1\" ID=\"1943329322613915600@BTNL>13051123040GR@20240118\" TransTyp=\"0\" Typ=\"17\" GrpID=\"13051123040\"><Hdr Snt=\"2023-09-05T15:42:51.012+01:00\" TID=\"MGEX\" SID=\"D210\"/><Instrmt Exch=\"BTNL\" ID=\"BUS\" MMY=\"202405\" CFI=\"FXXXXX\"/><Pty ID=\"Bassma-400\" R=\"24\"><Sub ID=\"2\" Typ=\"26\"/></Pty><Pty ID=\"210\" R=\"1\"/><Pty ID=\"XMGE\" R=\"21\"/><Alloc CustCpcty=\"1\" IndAllocID=\"56890\" Txt=\"some notes\" Qty=\"900.0\"><Pty ID=\"cust98\" R=\"24\"><Sub ID=\"2\" Typ=\"26\"/></Pty><Pty ID=\"167\" R=\"1\"/><Pty ID=\"XMGE\" R=\"21\"/></Alloc></AllocInstrctn>\"\"\""
      ],
      "metadata": {
        "id": "K6GxdNE8V8wf"
      },
      "execution_count": null,
      "outputs": []
    },
    {
      "cell_type": "code",
      "source": [
        "extr_sgw_op1 = extract(sgw_op1)"
      ],
      "metadata": {
        "id": "wHtYRdYYXhv_"
      },
      "execution_count": null,
      "outputs": []
    },
    {
      "cell_type": "code",
      "source": [
        "trade_msg1"
      ],
      "metadata": {
        "colab": {
          "base_uri": "https://localhost:8080/",
          "height": 105
        },
        "id": "GBXNzxJPXn9p",
        "outputId": "be238456-055b-4dea-efa0-8c8d91986b22"
      },
      "execution_count": null,
      "outputs": [
        {
          "output_type": "execute_result",
          "data": {
            "text/plain": [
              "'<TrdCaptRpt RptID=\"25980\" TrdID=\"50381005000\" TransTyp=\"0\" RptTyp=\"2\" TrdTyp=\"2\" MtchID=\"60281001700\" PxTyp=\"2\" LastQty=\"900\" LastPx=\"5300.5\" TrdDt=\"2024-01-18\" BizDt=\"2024-01-19\" TxnTm=\"2024-02-04T15:18:30.549-05:00\"><Hdr SID=\"MGEX\" TID=\"KMPL\" PosDup=\"N\" PosRsnd=\"N\" \"2024-02-04T15:18:30.700-05:00\"></Hdr><Instrmt Sym=\"BUI\" ID=\"BUI\" Src=\"H\" CFI=\"FCAPSX\" MMY=\"202405\" MatDt=\"2024-05-12\" Mult=\"5000\" Exch=\"MPLM\"></Instrmt><RptSide Side=\"2\" Ccy=\"USD\" InptSrc=\"MA\" InptDev=\"PORTAL\" CustCpcty=\"1\" PosEfct=\"C\" ClOrdID=\"AB09T\" MLegRptTyp=\"1\" AllocInd=\"0\"><Pty ID=\"MGEX\" R=\"21\"></Pty><Pty ID=\"210\" R=\"1\"></Pty><Pty ID=\"210\" R=\"4\"></Pty><Pty ID=\"Bassma-400\" R=\"24\"><Sub ID=\"2\" Typ=\"26\"></Sub></Pty><Pty ID=\"210\" R=\"12\"></Pty><TrdRegTS TS=\"2024-02-04T15:18:30.549-05:00\" Typ=\"1\"></TrdRegTS></RptSide></TrdCaptRpt>'"
            ],
            "application/vnd.google.colaboratory.intrinsic+json": {
              "type": "string"
            }
          },
          "metadata": {},
          "execution_count": 160
        }
      ]
    },
    {
      "cell_type": "code",
      "source": [
        "sgw_op1"
      ],
      "metadata": {
        "colab": {
          "base_uri": "https://localhost:8080/",
          "height": 88
        },
        "id": "YlSg7SBnXsMP",
        "outputId": "33ef9053-65dc-4b01-bfff-fa83196fe108"
      },
      "execution_count": null,
      "outputs": [
        {
          "output_type": "execute_result",
          "data": {
            "text/plain": [
              "'<AllocInstrctn Qty=\"900.0\" BizDt=\"2024-01-19\" TrdDt=\"2024-01-18\" TxnTm=\"2024-02-04T17:42:49.585-05:00\" Side=\"1\" ID=\"1943329322613915600@BTNL>13051123040GR@20240118\" TransTyp=\"0\" Typ=\"17\" GrpID=\"13051123040\"><Hdr Snt=\"2023-09-05T15:42:51.012+01:00\" TID=\"MGEX\" SID=\"D210\"/><Instrmt Exch=\"BTNL\" ID=\"BUS\" MMY=\"202405\" CFI=\"FXXXXX\"/><Pty ID=\"Bassma-400\" R=\"24\"><Sub ID=\"2\" Typ=\"26\"/></Pty><Pty ID=\"210\" R=\"1\"/><Pty ID=\"XMGE\" R=\"21\"/><Alloc CustCpcty=\"1\" IndAllocID=\"56890\" Txt=\"some notes\" Qty=\"900.0\"><Pty ID=\"cust98\" R=\"24\"><Sub ID=\"2\" Typ=\"26\"/></Pty><Pty ID=\"167\" R=\"1\"/><Pty ID=\"XMGE\" R=\"21\"/></Alloc></AllocInstrctn>'"
            ],
            "application/vnd.google.colaboratory.intrinsic+json": {
              "type": "string"
            }
          },
          "metadata": {},
          "execution_count": 161
        }
      ]
    },
    {
      "cell_type": "code",
      "source": [
        "extr_sgw_op1"
      ],
      "metadata": {
        "colab": {
          "base_uri": "https://localhost:8080/",
          "height": 70
        },
        "id": "F_QLexwYXt8n",
        "outputId": "962be644-d1dc-4280-8e98-ad7d50091c89"
      },
      "execution_count": null,
      "outputs": [
        {
          "output_type": "execute_result",
          "data": {
            "text/plain": [
              "'<AllocInstrctn Qty=\"900.0\" BizDt=\"2024-01-19\" TrdDt=\"2024-01-18\" TxnTm=\"2024-02-04T17:42:49.585-05:00\" Side=\"1\" ID=\"1943329322613915600@BTNL&gt;13051123040GR@20240118\" TransTyp=\"0\" Typ=\"17\" GrpID=\"13051123040\"><Alloc CustCpcty=\"1\" IndAllocID=\"56890\" Txt=\"some notes\" Qty=\"900.0\"><Pty ID=\"cust98\" R=\"24\"><Sub ID=\"2\" Typ=\"26\" /></Pty><Pty ID=\"167\" R=\"1\" /><Pty ID=\"XMGE\" R=\"21\" /></Alloc></AllocInstrctn>'"
            ],
            "application/vnd.google.colaboratory.intrinsic+json": {
              "type": "string"
            }
          },
          "metadata": {},
          "execution_count": 162
        }
      ]
    },
    {
      "cell_type": "code",
      "source": [
        "inp_msg1=trade_msg1+' '+extr_sgw_op1\n",
        "cleaned_inp_seq=clean_sequence(inp_msg1)"
      ],
      "metadata": {
        "id": "k-WNDnW4XxhY"
      },
      "execution_count": null,
      "outputs": []
    },
    {
      "cell_type": "code",
      "source": [
        "inp_msg1"
      ],
      "metadata": {
        "colab": {
          "base_uri": "https://localhost:8080/",
          "height": 140
        },
        "id": "a43rkXTtX70g",
        "outputId": "9fe81ee5-a548-4266-e76e-2852848a6ceb"
      },
      "execution_count": null,
      "outputs": [
        {
          "output_type": "execute_result",
          "data": {
            "text/plain": [
              "'<TrdCaptRpt RptID=\"25980\" TrdID=\"50381005000\" TransTyp=\"0\" RptTyp=\"2\" TrdTyp=\"2\" MtchID=\"60281001700\" PxTyp=\"2\" LastQty=\"900\" LastPx=\"5300.5\" TrdDt=\"2024-01-18\" BizDt=\"2024-01-19\" TxnTm=\"2024-02-04T15:18:30.549-05:00\"><Hdr SID=\"MGEX\" TID=\"KMPL\" PosDup=\"N\" PosRsnd=\"N\" \"2024-02-04T15:18:30.700-05:00\"></Hdr><Instrmt Sym=\"BUI\" ID=\"BUI\" Src=\"H\" CFI=\"FCAPSX\" MMY=\"202405\" MatDt=\"2024-05-12\" Mult=\"5000\" Exch=\"MPLM\"></Instrmt><RptSide Side=\"2\" Ccy=\"USD\" InptSrc=\"MA\" InptDev=\"PORTAL\" CustCpcty=\"1\" PosEfct=\"C\" ClOrdID=\"AB09T\" MLegRptTyp=\"1\" AllocInd=\"0\"><Pty ID=\"MGEX\" R=\"21\"></Pty><Pty ID=\"210\" R=\"1\"></Pty><Pty ID=\"210\" R=\"4\"></Pty><Pty ID=\"Bassma-400\" R=\"24\"><Sub ID=\"2\" Typ=\"26\"></Sub></Pty><Pty ID=\"210\" R=\"12\"></Pty><TrdRegTS TS=\"2024-02-04T15:18:30.549-05:00\" Typ=\"1\"></TrdRegTS></RptSide></TrdCaptRpt> <AllocInstrctn Qty=\"900.0\" BizDt=\"2024-01-19\" TrdDt=\"2024-01-18\" TxnTm=\"2024-02-04T17:42:49.585-05:00\" Side=\"1\" ID=\"1943329322613915600@BTNL&gt;13051123040GR@20240118\" TransTyp=\"0\" Typ=\"17\" GrpID=\"13051123040\"><Alloc CustCpcty=\"1\" IndAllocID=\"56890\" Txt=\"some notes\" Qty=\"900.0\"><Pty ID=\"cust98\" R=\"24\"><Sub ID=\"2\" Typ=\"26\" /></Pty><Pty ID=\"167\" R=\"1\" /><Pty ID=\"XMGE\" R=\"21\" /></Alloc></AllocInstrctn>'"
            ],
            "application/vnd.google.colaboratory.intrinsic+json": {
              "type": "string"
            }
          },
          "metadata": {},
          "execution_count": 164
        }
      ]
    },
    {
      "cell_type": "code",
      "source": [
        "cleaned_inp_seq"
      ],
      "metadata": {
        "colab": {
          "base_uri": "https://localhost:8080/",
          "height": 123
        },
        "id": "MUrUE4_jX9tf",
        "outputId": "e3bf7082-20ae-4d32-e1ff-12d7eb5a4b12"
      },
      "execution_count": null,
      "outputs": [
        {
          "output_type": "execute_result",
          "data": {
            "text/plain": [
              "'TrdCaptRpt RptID=25980 TrdID=50381005000 TransTyp=0 RptTyp=2 TrdTyp=2 MtchID=60281001700 PxTyp=2 LastQty=900 LastPx=5300.5 TrdDt=2024-01-18 BizDt=2024-01-19 TxnTm=2024-02-04T15:18:30.549-05:00 Hdr SID=MGEX TID=KMPL PosDup=N PosRsnd=N 2024-02-04T15:18:30.700-05:00 Hdr Instrmt Sym=BUI ID=BUI Src=H CFI=FCAPSX MMY=202405 MatDt=2024-05-12 Mult=5000 Exch=MPLM Instrmt RptSide Side=2 Ccy=USD InptSrc=MA InptDev=PORTAL CustCpcty=1 PosEfct=C ClOrdID=AB09T MLegRptTyp=1 AllocInd=0 Pty ID=MGEX R=21 Pty Pty ID=210 R=1 Pty Pty ID=210 R=4 Pty Pty ID=Bassma-400 R=24 Sub ID=2 Typ=26 Sub Pty Pty ID=210 R=12 Pty TrdRegTS TS=2024-02-04T15:18:30.549-05:00 Typ=1 TrdRegTS RptSide TrdCaptRpt  AllocInstrctn Qty=900.0 BizDt=2024-01-19 TrdDt=2024-01-18 TxnTm=2024-02-04T17:42:49.585-05:00 Side=1 ID=1943329322613915600@BTNL&gt;13051123040GR@20240118 TransTyp=0 Typ=17 GrpID=13051123040 Alloc CustCpcty=1 IndAllocID=56890 Txt=some notes Qty=900.0 Pty ID=cust98 R=24 Sub ID=2 Typ=26  Pty Pty ID=167 R=1  Pty ID=XMGE R=21  Alloc AllocInstrctn '"
            ],
            "application/vnd.google.colaboratory.intrinsic+json": {
              "type": "string"
            }
          },
          "metadata": {},
          "execution_count": 165
        }
      ]
    },
    {
      "cell_type": "code",
      "source": [
        "predict(cleaned_inp_seq)"
      ],
      "metadata": {
        "colab": {
          "base_uri": "https://localhost:8080/",
          "height": 105
        },
        "id": "DqLD20e7YA1I",
        "outputId": "d5317761-8012-427a-acce-be9b23029f5b"
      },
      "execution_count": null,
      "outputs": [
        {
          "output_type": "execute_result",
          "data": {
            "text/plain": [
              "'<AllocRpt RptID=\"280201\" ID=\"1943329322613915600@BTNL&gt;13051123040GR@20240118\" TransTyp=\"0\" GrpID=\"13051123040\" RptTyp=\"15\" Stat=\"6\" BizDt=\"2024-01-19\" TrdTyp=\"2\" CustCpcty=\"1\" AvgPxInd=\"0\" Side=\"2\" PxTyp=\"2\" AvgPx=\"5300.5\" TrdDt=\"2024-01-18\" TxnTm=\"2024-02-04T00:12:55.138-05:00\"><Hdr SID=\"MGEX\" TID=\"KMPL\" PosDup=\"N\" PosRsnd=\"N\" 2024-02-04T00:12:55.160-05:00\"></Hdr><OrdAlloc ClOrdID=\"AB09T\"></OrdAlloc><Instrmt ID=\"BUI\" CFI=\"FCAPSX\" MMY=\"202405\" MatDt=\"2024-05-12\" Exch=\"MPLM\"></Instrmt><Pty ID=\"MGEX\" R=\"21\"></Pty><Pty ID=\"210\" R=\"1\"></Pty><Pty ID=\"210\" R=\"4\"></Pty><Pty ID=\"Bassma-400\" R=\"24\"><Sub ID=\"2\" Typ=\"26\"></Sub></Pty><Alloc Qty=\"900.0\" IndAllocID=\"56890\" IndAllocID2=\"14051000005\" CustCpcty=\"1\" Txt=\"some notes\"><Pty ID=\"MGEX\" R=\"21\"></Pty><Pty ID=\"167\" R=\"1\"></Pty><Pty ID=\"167\" R=\"4\"></Pty><Pty ID=\"cust98\" R=\"24\"><Sub ID=\"2\" Typ=\"26\"></Sub></Pty></Alloc></AllocRpt>'"
            ],
            "application/vnd.google.colaboratory.intrinsic+json": {
              "type": "string"
            }
          },
          "metadata": {},
          "execution_count": 166
        }
      ]
    },
    {
      "cell_type": "code",
      "source": [
        "trade_msg2 = \"\"\"<TrdCaptRpt RptID=\"141\" TrdID=\"30051000852\" TransTyp=\"0\" RptTyp=\"2\" TrdTyp=\"1\" MtchID=\"30051000320\" PxTyp=\"2\" LastQty=\"10\" LastPx=\"29870\" TrdDt=\"2023-09-05\" BizDt=\"2023-09-05\" TxnTm=\"2023-09-05T09:38:55.276-05:00\"><Hdr SID=\"MGEX\" TID=\"D210\" PosDup=\"N\" PosRsnd=\"N\" Snt=\"2023-09-05T09:38:55.324-05:00\"></Hdr><Instrmt Sym=\"BUS\" ID=\"BUS\" Src=\"H\" CFI=\"FCCPXX\" MMY=\"202309\" MatDt=\"2023-09-27\" Mult=\"1\" Exch=\"BTNL\"></Instrmt><RptSide Side=\"1\" Ccy=\"USD\" InptSrc=\"MA\" InptDev=\"PORTAL\" CustCpcty=\"1\" PosEfct=\"O\" ClOrdID=\"CL1234\" MLegRptTyp=\"1\" AllocInd=\"0\"><Pty ID=\"MGEX\" R=\"21\"></Pty><Pty ID=\"210\" R=\"1\"></Pty><Pty ID=\"210\" R=\"4\"></Pty><Pty ID=\"acc457\" R=\"24\"><Sub ID=\"2\" Typ=\"26\"></Sub></Pty><Pty ID=\"210\" R=\"12\"></Pty><TrdRegTS TS=\"2023-09-05T09:38:55.276-05:00\" Typ=\"1\"></TrdRegTS></RptSide></TrdCaptRpt>\"\"\"\n",
        "sgw_op2 = \"\"\"<AllocInstrctn Qty=\"10.0\" BizDt=\"2023-09-05\" TrdDt=\"2023-09-05\" TxnTm=\"2023-09-05T09:42:49.585-05:00\" Side=\"1\" ID=\"1148629322613915648@BTNL>14051000002GR@20230905\" TransTyp=\"0\" Typ=\"17\" GrpID=\"14051000002\"><Hdr Snt=\"2023-09-05T15:42:51.012+01:00\" TID=\"MGEX\" SID=\"D210\"/><Instrmt Exch=\"BTNL\" ID=\"BUS\" MMY=\"202309\" CFI=\"FXXXXX\"/><Pty ID=\"acc457\" R=\"24\"><Sub ID=\"2\" Typ=\"26\"/></Pty><Pty ID=\"210\" R=\"1\"/><Pty ID=\"XMGE\" R=\"21\"/><Alloc CustCpcty=\"2\" IndAllocID=\"4lop5\" Txt=\"some notes\" Qty=\"10.0\"><Pty ID=\"us78\" R=\"24\"><Sub ID=\"2\" Typ=\"26\"/></Pty><Pty ID=\"301\" R=\"1\"/><Pty ID=\"XMGE\" R=\"21\"/></Alloc></AllocInstrctn>\"\"\""
      ],
      "metadata": {
        "id": "Va1gabeGYviO"
      },
      "execution_count": null,
      "outputs": []
    },
    {
      "cell_type": "code",
      "source": [
        "extr_sgw_op2 = extract(sgw_op2)"
      ],
      "metadata": {
        "id": "cyjDjnLLZVlA"
      },
      "execution_count": null,
      "outputs": []
    },
    {
      "cell_type": "code",
      "source": [
        "inp_msg2=trade_msg2+' '+extr_sgw_op2\n",
        "cleaned_inp_seq2=clean_sequence(inp_msg2)"
      ],
      "metadata": {
        "id": "clBCAQG4Zcso"
      },
      "execution_count": null,
      "outputs": []
    },
    {
      "cell_type": "code",
      "source": [
        "trade_msg2"
      ],
      "metadata": {
        "colab": {
          "base_uri": "https://localhost:8080/",
          "height": 105
        },
        "id": "prJBQ6U-Zqc3",
        "outputId": "6b13bada-c3c3-46c7-c9b4-113bce8300f8"
      },
      "execution_count": null,
      "outputs": [
        {
          "output_type": "execute_result",
          "data": {
            "text/plain": [
              "'<TrdCaptRpt RptID=\"141\" TrdID=\"30051000852\" TransTyp=\"0\" RptTyp=\"2\" TrdTyp=\"1\" MtchID=\"30051000320\" PxTyp=\"2\" LastQty=\"10\" LastPx=\"29870\" TrdDt=\"2023-09-05\" BizDt=\"2023-09-05\" TxnTm=\"2023-09-05T09:38:55.276-05:00\"><Hdr SID=\"MGEX\" TID=\"D210\" PosDup=\"N\" PosRsnd=\"N\" Snt=\"2023-09-05T09:38:55.324-05:00\"></Hdr><Instrmt Sym=\"BUS\" ID=\"BUS\" Src=\"H\" CFI=\"FCCPXX\" MMY=\"202309\" MatDt=\"2023-09-27\" Mult=\"1\" Exch=\"BTNL\"></Instrmt><RptSide Side=\"1\" Ccy=\"USD\" InptSrc=\"MA\" InptDev=\"PORTAL\" CustCpcty=\"1\" PosEfct=\"O\" ClOrdID=\"CL1234\" MLegRptTyp=\"1\" AllocInd=\"0\"><Pty ID=\"MGEX\" R=\"21\"></Pty><Pty ID=\"210\" R=\"1\"></Pty><Pty ID=\"210\" R=\"4\"></Pty><Pty ID=\"acc457\" R=\"24\"><Sub ID=\"2\" Typ=\"26\"></Sub></Pty><Pty ID=\"210\" R=\"12\"></Pty><TrdRegTS TS=\"2023-09-05T09:38:55.276-05:00\" Typ=\"1\"></TrdRegTS></RptSide></TrdCaptRpt>'"
            ],
            "application/vnd.google.colaboratory.intrinsic+json": {
              "type": "string"
            }
          },
          "metadata": {},
          "execution_count": 198
        }
      ]
    },
    {
      "cell_type": "code",
      "source": [
        "sgw_op2"
      ],
      "metadata": {
        "colab": {
          "base_uri": "https://localhost:8080/",
          "height": 88
        },
        "id": "w_OEb6zgZsku",
        "outputId": "1e0febd0-60fb-4aff-861a-49a32ec762fc"
      },
      "execution_count": null,
      "outputs": [
        {
          "output_type": "execute_result",
          "data": {
            "text/plain": [
              "'<AllocInstrctn Qty=\"10.0\" BizDt=\"2023-09-05\" TrdDt=\"2023-09-05\" TxnTm=\"2023-09-05T09:42:49.585-05:00\" Side=\"1\" ID=\"1148629322613915648@BTNL>14051000002GR@20230905\" TransTyp=\"0\" Typ=\"17\" GrpID=\"14051000002\"><Hdr Snt=\"2023-09-05T15:42:51.012+01:00\" TID=\"MGEX\" SID=\"D210\"/><Instrmt Exch=\"BTNL\" ID=\"BUS\" MMY=\"202309\" CFI=\"FXXXXX\"/><Pty ID=\"acc457\" R=\"24\"><Sub ID=\"2\" Typ=\"26\"/></Pty><Pty ID=\"210\" R=\"1\"/><Pty ID=\"XMGE\" R=\"21\"/><Alloc CustCpcty=\"2\" IndAllocID=\"4lop5\" Txt=\"some notes\" Qty=\"10.0\"><Pty ID=\"us78\" R=\"24\"><Sub ID=\"2\" Typ=\"26\"/></Pty><Pty ID=\"301\" R=\"1\"/><Pty ID=\"XMGE\" R=\"21\"/></Alloc></AllocInstrctn>'"
            ],
            "application/vnd.google.colaboratory.intrinsic+json": {
              "type": "string"
            }
          },
          "metadata": {},
          "execution_count": 199
        }
      ]
    },
    {
      "cell_type": "code",
      "source": [
        "extr_sgw_op2"
      ],
      "metadata": {
        "colab": {
          "base_uri": "https://localhost:8080/",
          "height": 70
        },
        "id": "l0M2jTypZu-e",
        "outputId": "b1e2420e-bc2d-48e8-cafd-10f46b68cafd"
      },
      "execution_count": null,
      "outputs": [
        {
          "output_type": "execute_result",
          "data": {
            "text/plain": [
              "'<AllocInstrctn Qty=\"10.0\" BizDt=\"2023-09-05\" TrdDt=\"2023-09-05\" TxnTm=\"2023-09-05T09:42:49.585-05:00\" Side=\"1\" ID=\"1148629322613915648@BTNL&gt;14051000002GR@20230905\" TransTyp=\"0\" Typ=\"17\" GrpID=\"14051000002\"><Alloc CustCpcty=\"2\" IndAllocID=\"4lop5\" Txt=\"some notes\" Qty=\"10.0\"><Pty ID=\"us78\" R=\"24\"><Sub ID=\"2\" Typ=\"26\" /></Pty><Pty ID=\"301\" R=\"1\" /><Pty ID=\"XMGE\" R=\"21\" /></Alloc></AllocInstrctn>'"
            ],
            "application/vnd.google.colaboratory.intrinsic+json": {
              "type": "string"
            }
          },
          "metadata": {},
          "execution_count": 200
        }
      ]
    },
    {
      "cell_type": "code",
      "source": [
        "inp_msg2"
      ],
      "metadata": {
        "colab": {
          "base_uri": "https://localhost:8080/",
          "height": 123
        },
        "id": "NL47cwOkaMk-",
        "outputId": "fd6dc457-a175-4bbf-d287-fe2fc689d956"
      },
      "execution_count": null,
      "outputs": [
        {
          "output_type": "execute_result",
          "data": {
            "text/plain": [
              "'<TrdCaptRpt RptID=\"141\" TrdID=\"30051000852\" TransTyp=\"0\" RptTyp=\"2\" TrdTyp=\"1\" MtchID=\"30051000320\" PxTyp=\"2\" LastQty=\"10\" LastPx=\"29870\" TrdDt=\"2023-09-05\" BizDt=\"2023-09-05\" TxnTm=\"2023-09-05T09:38:55.276-05:00\"><Hdr SID=\"MGEX\" TID=\"D210\" PosDup=\"N\" PosRsnd=\"N\" Snt=\"2023-09-05T09:38:55.324-05:00\"></Hdr><Instrmt Sym=\"BUS\" ID=\"BUS\" Src=\"H\" CFI=\"FCCPXX\" MMY=\"202309\" MatDt=\"2023-09-27\" Mult=\"1\" Exch=\"BTNL\"></Instrmt><RptSide Side=\"1\" Ccy=\"USD\" InptSrc=\"MA\" InptDev=\"PORTAL\" CustCpcty=\"1\" PosEfct=\"O\" ClOrdID=\"CL1234\" MLegRptTyp=\"1\" AllocInd=\"0\"><Pty ID=\"MGEX\" R=\"21\"></Pty><Pty ID=\"210\" R=\"1\"></Pty><Pty ID=\"210\" R=\"4\"></Pty><Pty ID=\"acc457\" R=\"24\"><Sub ID=\"2\" Typ=\"26\"></Sub></Pty><Pty ID=\"210\" R=\"12\"></Pty><TrdRegTS TS=\"2023-09-05T09:38:55.276-05:00\" Typ=\"1\"></TrdRegTS></RptSide></TrdCaptRpt> <AllocInstrctn Qty=\"10.0\" BizDt=\"2023-09-05\" TrdDt=\"2023-09-05\" TxnTm=\"2023-09-05T09:42:49.585-05:00\" Side=\"1\" ID=\"1148629322613915648@BTNL&gt;14051000002GR@20230905\" TransTyp=\"0\" Typ=\"17\" GrpID=\"14051000002\"><Alloc CustCpcty=\"2\" IndAllocID=\"4lop5\" Txt=\"some notes\" Qty=\"10.0\"><Pty ID=\"us78\" R=\"24\"><Sub ID=\"2\" Typ=\"26\" /></Pty><Pty ID=\"301\" R=\"1\" /><Pty ID=\"XMGE\" R=\"21\" /></Alloc></AllocInstrctn>'"
            ],
            "application/vnd.google.colaboratory.intrinsic+json": {
              "type": "string"
            }
          },
          "metadata": {},
          "execution_count": 201
        }
      ]
    },
    {
      "cell_type": "code",
      "source": [
        "cleaned_inp_seq2"
      ],
      "metadata": {
        "colab": {
          "base_uri": "https://localhost:8080/",
          "height": 123
        },
        "id": "XuNZbJyKaT2f",
        "outputId": "7ec0fa35-8894-4f1f-be79-b649521f7df7"
      },
      "execution_count": null,
      "outputs": [
        {
          "output_type": "execute_result",
          "data": {
            "text/plain": [
              "'TrdCaptRpt RptID=141 TrdID=30051000852 TransTyp=0 RptTyp=2 TrdTyp=1 MtchID=30051000320 PxTyp=2 LastQty=10 LastPx=29870 TrdDt=2023-09-05 BizDt=2023-09-05 TxnTm=2023-09-05T09:38:55.276-05:00 Hdr SID=MGEX TID=D210 PosDup=N PosRsnd=N Snt=2023-09-05T09:38:55.324-05:00 Hdr Instrmt Sym=BUS ID=BUS Src=H CFI=FCCPXX MMY=202309 MatDt=2023-09-27 Mult=1 Exch=BTNL Instrmt RptSide Side=1 Ccy=USD InptSrc=MA InptDev=PORTAL CustCpcty=1 PosEfct=O ClOrdID=CL1234 MLegRptTyp=1 AllocInd=0 Pty ID=MGEX R=21 Pty Pty ID=210 R=1 Pty Pty ID=210 R=4 Pty Pty ID=acc457 R=24 Sub ID=2 Typ=26 Sub Pty Pty ID=210 R=12 Pty TrdRegTS TS=2023-09-05T09:38:55.276-05:00 Typ=1 TrdRegTS RptSide TrdCaptRpt  AllocInstrctn Qty=10.0 BizDt=2023-09-05 TrdDt=2023-09-05 TxnTm=2023-09-05T09:42:49.585-05:00 Side=1 ID=1148629322613915648@BTNL&gt;14051000002GR@20230905 TransTyp=0 Typ=17 GrpID=14051000002 Alloc CustCpcty=2 IndAllocID=4lop5 Txt=some notes Qty=10.0 Pty ID=us78 R=24 Sub ID=2 Typ=26  Pty Pty ID=301 R=1  Pty ID=XMGE R=21  Alloc AllocInstrctn '"
            ],
            "application/vnd.google.colaboratory.intrinsic+json": {
              "type": "string"
            }
          },
          "metadata": {},
          "execution_count": 202
        }
      ]
    },
    {
      "cell_type": "code",
      "source": [
        "predict(cleaned_inp_seq2)"
      ],
      "metadata": {
        "colab": {
          "base_uri": "https://localhost:8080/",
          "height": 105
        },
        "id": "isM_xOy9aV3g",
        "outputId": "a85c21fd-04c7-4b71-ca92-600d5c348c6c"
      },
      "execution_count": null,
      "outputs": [
        {
          "output_type": "execute_result",
          "data": {
            "text/plain": [
              "'<AllocRpt RptID=\"280201\" ID=\"1148629322613915648@BTNL&gt;14051000002GR@20230905\" TransTyp=\"0\" GrpID=\"14051000002\" RptTyp=\"15\" Stat=\"6\" BizDt=\"2023-09-05\" TrdTyp=\"1\" CustCpcty=\"1\" AvgPxInd=\"0\" Side=\"2\" PxTyp=\"2\" AvgPx=\"29870\" TrdDt=\"2023-09-05\" TxnTm=\"2023-09-05T00:12:55.138-05:00\"><Hdr SID=\"MGEX\" TID=\"D210\" PosDup=\"N\" PosRsnd=\"N\" Snt=\"2023-09-05T00:12:55.160-05:00\"></Hdr><OrdAlloc ClOrdID=\"CL1234\"></OrdAlloc><Instrmt ID=\"BUS\" CFI=\"FCCPXX\" MMY=\"202309\" MatDt=\"2023-09-27\" Exch=\"BTNL\"></Instrmt><Pty ID=\"MGEX\" R=\"21\"></Pty><Pty ID=\"210\" R=\"1\"></Pty><Pty ID=\"210\" R=\"4\"></Pty><Pty ID=\"acc457\" R=\"24\"><Sub ID=\"2\" Typ=\"26\"></Sub></Pty><Alloc Qty=\"10.0\" IndAllocID=\"4lop5\" IndAllocID2=\"14051000005\" CustCpcty=\"2\" Txt=\"some notes\"><Pty ID=\"MGEX\" R=\"21\"></Pty><Pty ID=\"301\" R=\"1\"></Pty><Pty ID=\"301\" R=\"4\"></Pty><Pty ID=\"us78\" R=\"24\"><Sub ID=\"2\" Typ=\"26\"></Sub></Pty></Alloc></AllocRpt>'"
            ],
            "application/vnd.google.colaboratory.intrinsic+json": {
              "type": "string"
            }
          },
          "metadata": {},
          "execution_count": 203
        }
      ]
    },
    {
      "cell_type": "markdown",
      "source": [
        "**Save the pre-trained model to a specified directory**"
      ],
      "metadata": {
        "id": "QoK2P4LyLkNo"
      }
    },
    {
      "cell_type": "code",
      "source": [
        "from google.colab import drive"
      ],
      "metadata": {
        "id": "5Mzir2lTYQCK"
      },
      "execution_count": null,
      "outputs": []
    },
    {
      "cell_type": "code",
      "source": [
        "drive.mount(\"/content/gdrive\")"
      ],
      "metadata": {
        "colab": {
          "base_uri": "https://localhost:8080/"
        },
        "id": "QQguIRNGYVoQ",
        "outputId": "38f9c550-f280-4423-fcfa-18ac5a3dd5e3"
      },
      "execution_count": null,
      "outputs": [
        {
          "output_type": "stream",
          "name": "stdout",
          "text": [
            "Mounted at /content/gdrive\n"
          ]
        }
      ]
    },
    {
      "cell_type": "code",
      "source": [
        "model.save_pretrained(\"/content/gdrive/MyDrive/giveup\")"
      ],
      "metadata": {
        "id": "tD0C9P7IYdbP"
      },
      "execution_count": null,
      "outputs": []
    }
  ]
}